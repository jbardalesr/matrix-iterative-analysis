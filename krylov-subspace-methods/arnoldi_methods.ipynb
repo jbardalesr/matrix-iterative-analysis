{
 "cells": [
  {
   "cell_type": "markdown",
   "metadata": {},
   "source": [
    "# Arnoldi's methods"
   ]
  },
  {
   "cell_type": "code",
   "execution_count": 6,
   "metadata": {},
   "outputs": [],
   "source": [
    "import LinearAlgebra\n",
    "const la = LinearAlgebra\n",
    "MAX_ITER = 100;"
   ]
  },
  {
   "cell_type": "code",
   "execution_count": 7,
   "metadata": {},
   "outputs": [
    {
     "data": {
      "text/plain": [
       "arnoldi (generic function with 1 method)"
      ]
     },
     "execution_count": 7,
     "metadata": {},
     "output_type": "execute_result"
    }
   ],
   "source": [
    "function arnoldi(A:: Matrix{Float64}, v:: Vector{Float64})\n",
    "    m = size(v, 1)\n",
    "    V = zeros((m, m + 1))\n",
    "    H = zeros((m + 1, m))\n",
    "    V[:, 1] = v/la.norm(v)\n",
    "    for j = 1:m\n",
    "        for i = 1:j\n",
    "            H[i, j] = la.dot(A*V[:, j], V[:, i])\n",
    "        end\n",
    "        w = A*V[:, j] - V[:, 1:j]*H[1:j, j]\n",
    "        H[j+1, j] = la.norm(w)\n",
    "        if H[j+1, j] < eps()\n",
    "            break\n",
    "        end\n",
    "        V[:, j+1] = w/H[j+1, j]\n",
    "    end\n",
    "    return H\n",
    "end"
   ]
  },
  {
   "cell_type": "code",
   "execution_count": 8,
   "metadata": {},
   "outputs": [
    {
     "data": {
      "text/plain": [
       "4×3 Matrix{Float64}:\n",
       " 2.6  4.68889  -1.68947\n",
       " 1.8  4.09136  -0.817131\n",
       " 0.0  0.52451  -0.691358\n",
       " 0.0  0.0       1.20217e-15"
      ]
     },
     "execution_count": 8,
     "metadata": {},
     "output_type": "execute_result"
    }
   ],
   "source": [
    "A = [1 2 1;\n",
    "     2 4 1;\n",
    "     3 4 0.]\n",
    "\n",
    "v = [1., 0, 2]\n",
    "\n",
    "arnoldi(A, v)"
   ]
  },
  {
   "cell_type": "code",
   "execution_count": 9,
   "metadata": {},
   "outputs": [
    {
     "data": {
      "text/plain": [
       "DQGMRES (generic function with 2 methods)"
      ]
     },
     "execution_count": 9,
     "metadata": {},
     "output_type": "execute_result"
    }
   ],
   "source": [
    "function DQGMRES(A:: Matrix{Float64}, b:: Vector{Float64}, x0:: Vector{Float64},tol=1.0e-6)\n",
    "    r0 = b - A*x0\n",
    "    gamma = la.norm(r0)\n",
    "    v = r0/gamma\n",
    "    for m=1:MAX_ITER\n",
    "        \n",
    "    end\n",
    "end"
   ]
  }
 ],
 "metadata": {
  "kernelspec": {
   "display_name": "Julia 1.7.2",
   "language": "julia",
   "name": "julia-1.7"
  },
  "language_info": {
   "file_extension": ".jl",
   "mimetype": "application/julia",
   "name": "julia",
   "version": "1.7.2"
  },
  "orig_nbformat": 4
 },
 "nbformat": 4,
 "nbformat_minor": 2
}
