{
 "cells": [
  {
   "cell_type": "code",
   "execution_count": 1,
   "metadata": {},
   "outputs": [],
   "source": [
    "import LinearAlgebra\n",
    "const la = LinearAlgebra\n",
    "MAX_ITER = 100;"
   ]
  },
  {
   "cell_type": "code",
   "execution_count": 2,
   "metadata": {},
   "outputs": [],
   "source": [
    "A = [4. -1 0 -1 0 0;\n",
    "     -1 4 -1 0 -1 0;\n",
    "     0 -1 4. 0 0 -1;\n",
    "     -1 0 0. 4 -1 0;\n",
    "     0 -1 0 -1 4 -1;\n",
    "     0 0 -1 0. -1 4]\n",
    "\n",
    "b = [0, 5, 0, 6, -2, 6.]\n",
    "\n",
    "x0 = zeros(size(b));\n",
    "# n\n",
    "x1 = [1., 0, 2, 0, 1, 1];"
   ]
  },
  {
   "cell_type": "markdown",
   "metadata": {},
   "source": [
    "### Util"
   ]
  },
  {
   "cell_type": "code",
   "execution_count": 3,
   "metadata": {},
   "outputs": [
    {
     "data": {
      "text/plain": [
       "e_vector (generic function with 1 method)"
      ]
     },
     "execution_count": 3,
     "metadata": {},
     "output_type": "execute_result"
    }
   ],
   "source": [
    "function e_vector(m:: Int64, k:: Int64)\n",
    "    e = zeros(m)\n",
    "    e[k] = 1.0\n",
    "    return e\n",
    "end"
   ]
  },
  {
   "cell_type": "code",
   "execution_count": 4,
   "metadata": {},
   "outputs": [
    {
     "data": {
      "text/plain": [
       "omega (generic function with 1 method)"
      ]
     },
     "execution_count": 4,
     "metadata": {},
     "output_type": "execute_result"
    }
   ],
   "source": [
    "function omega(H:: Matrix, i:: Int64)\n",
    "    # Input: (m + 1) x m matrix H and column i\n",
    "    # Output: (m + 1) x (m + 1) matrix O\n",
    "    m = size(H, 2)\n",
    "    O = 1.0 * Matrix(la.I, m + 1, m + 1) \n",
    "    hyp = sqrt(H[i, i]^2 + H[i + 1, i]^2)\n",
    "    si = H[i + 1, i]/hyp\n",
    "    ci = H[i, i]/hyp\n",
    "    \n",
    "    O[i, i] = ci\n",
    "    O[i, i + 1] = si\n",
    "    O[i + 1, i] = -si\n",
    "    O[i + 1, i + 1] = ci\n",
    "    return O \n",
    "end"
   ]
  },
  {
   "cell_type": "code",
   "execution_count": 5,
   "metadata": {},
   "outputs": [
    {
     "data": {
      "text/plain": [
       "givens (generic function with 1 method)"
      ]
     },
     "execution_count": 5,
     "metadata": {},
     "output_type": "execute_result"
    }
   ],
   "source": [
    "function givens(H:: Matrix, beta:: Vector)\n",
    "    # Input: (m + 1) x m matrix H and (m + 1) x 1 vector beta\n",
    "    # Output: (m + 1) x m matrix R, (m + 1) x (m + 1) matrix Q and (m + 1) x 1 vector gamma \n",
    "    m = size(H, 2)\n",
    "    R = copy(H)\n",
    "    for i = 1:m\n",
    "        upper_omega = omega(R, i)\n",
    "        beta = upper_omega * beta\n",
    "        R = upper_omega * R\n",
    "    end\n",
    "    # delete last row, page 176 book 1\n",
    "    return R[1:m, :], beta[1:m]\n",
    "end"
   ]
  },
  {
   "cell_type": "markdown",
   "metadata": {},
   "source": [
    "### Arnoldi"
   ]
  },
  {
   "cell_type": "markdown",
   "metadata": {},
   "source": [
    "![image.png](data:image/png;base64,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)"
   ]
  },
  {
   "cell_type": "code",
   "execution_count": 6,
   "metadata": {},
   "outputs": [
    {
     "data": {
      "text/plain": [
       "arnoldi (generic function with 1 method)"
      ]
     },
     "execution_count": 6,
     "metadata": {},
     "output_type": "execute_result"
    }
   ],
   "source": [
    "function arnoldi(A:: Matrix, x1:: Vector, m:: Int64)\n",
    "    # Input: nxn matrix A, nx1 column vector x1, and integer m\n",
    "    # Output: m+1 orthogonal vectors q1,q2,...,q{m+1} and (m+1)xm matrix H\n",
    "    n = size(A, 1)\n",
    "    Q = zeros((n, m + 1))\n",
    "    H = zeros((m + 1, m))\n",
    "    \n",
    "    Q[:, 1] = x1/la.norm(x1)\n",
    "    for k = 1:m\n",
    "        w = A*Q[:, k]\n",
    "        for j = 1:k\n",
    "            H[j, k] = la.dot(w, Q[:, j])\n",
    "            w = w - H[j, k] * Q[:, j]\n",
    "        end\n",
    "        H[k+1, k] = la.norm(w)\n",
    "        if H[k+1, k] < eps()\n",
    "            break\n",
    "        end\n",
    "        Q[:, k+1] = w/H[k+1, k]\n",
    "    end\n",
    "    Q, H\n",
    "end"
   ]
  },
  {
   "cell_type": "code",
   "execution_count": 7,
   "metadata": {},
   "outputs": [
    {
     "data": {
      "text/plain": [
       "6×4 Matrix{Float64}:\n",
       " 0.377964   0.168563    0.289595   -0.585252\n",
       " 0.0       -0.786629    0.191845    0.228787\n",
       " 0.755929   0.140469   -0.282287    0.128662\n",
       " 0.0       -0.393314    0.0959226  -0.699892\n",
       " 0.377964  -0.0280939   0.750937    0.313906\n",
       " 0.377964  -0.421408   -0.475959    0.0140224"
      ]
     },
     "metadata": {},
     "output_type": "display_data"
    },
    {
     "data": {
      "text/plain": [
       "4×3 Matrix{Float64}:\n",
       " 3.14286  1.92195  -2.9976e-15\n",
       " 1.92195  4.6472    1.18932\n",
       " 0.0      1.18932   3.95556\n",
       " 0.0      0.0       0.812257"
      ]
     },
     "metadata": {},
     "output_type": "display_data"
    }
   ],
   "source": [
    "m = 3\n",
    "Q, H = arnoldi(A, x1, m)\n",
    "display(Q)\n",
    "display(H)"
   ]
  },
  {
   "cell_type": "markdown",
   "metadata": {},
   "source": [
    "It's verified that $AQ_m = Q_{m+1}\\overline H_{m}$ or $AQ_m = Q_m H_m + h_{m+1, m}q_{m+1}e_m^T$, where $H_m$ is $\\overline H_m$ without the last row."
   ]
  },
  {
   "cell_type": "markdown",
   "metadata": {},
   "source": [
    "![image.png](data:image/png;base64,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)"
   ]
  },
  {
   "cell_type": "code",
   "execution_count": 8,
   "metadata": {},
   "outputs": [
    {
     "data": {
      "text/plain": [
       "true"
      ]
     },
     "execution_count": 8,
     "metadata": {},
     "output_type": "execute_result"
    }
   ],
   "source": [
    "isapprox(Q[:, 1:m]*H[1:m, :] + (H[m+1, m]*Q[:, m+1])* e_vector(m, m)', A*Q[:, 1:m], rtol=sqrt(eps()))"
   ]
  },
  {
   "cell_type": "code",
   "execution_count": 9,
   "metadata": {},
   "outputs": [
    {
     "data": {
      "text/plain": [
       "true"
      ]
     },
     "execution_count": 9,
     "metadata": {},
     "output_type": "execute_result"
    }
   ],
   "source": [
    "isapprox(A*Q[:, 1:m], Q*H)"
   ]
  },
  {
   "cell_type": "markdown",
   "metadata": {},
   "source": [
    "### GMRES"
   ]
  },
  {
   "cell_type": "code",
   "execution_count": 10,
   "metadata": {},
   "outputs": [
    {
     "data": {
      "text/plain": [
       "GMRES (generic function with 2 methods)"
      ]
     },
     "execution_count": 10,
     "metadata": {},
     "output_type": "execute_result"
    }
   ],
   "source": [
    "function GMRES(A:: Matrix, b:: Vector, x0:: Vector, m:: Int64, tol=1.0e-5)\n",
    "    # Solve Ax = b using the GMRES method\n",
    "    # Input: n x n matrix A, n x 1 vector b,\n",
    "    # initial approximation x0, integer m < n,\n",
    "    # error tolerance tol\n",
    "    println(\"x[0] = $x0\")\n",
    "    for i = 1:MAX_ITER\n",
    "        r = b - A*x0\n",
    "        Q, H = arnoldi(A, r, m)\n",
    "        beta = la.norm(r)\n",
    "        # Solve the (m + 1) x m least-squares problem using Givens transformation\n",
    "        R, g = givens(H, beta*e_vector(m + 1, 1))\n",
    "        y = la.inv(R)*g\n",
    "        x = x0 + Q[:, 1:m]*y\n",
    "        println(\"x[$i] = $x\")\n",
    "        if la.norm(x0 - x) < tol\n",
    "            print(\"Number of iterations: $i\")\n",
    "            return nothing\n",
    "        end\n",
    "        x0 = copy(x)\n",
    "    end\n",
    "    print(\"There's convergence\")\n",
    "end"
   ]
  },
  {
   "cell_type": "code",
   "execution_count": 11,
   "metadata": {},
   "outputs": [
    {
     "name": "stdout",
     "output_type": "stream",
     "text": [
      "x[0] = [0.0, 0.0, 0.0, 0.0, 0.0, 0.0]\n",
      "x[1] = [0.9905665343243519, 1.9904398530223673, 0.9905665343243519, 2.0051849096588614, 1.0109017962460918, 2.0051849096588614]\n",
      "x[2] = [0.9999434000739091, 1.9998868001478185, 0.9999434000739091, 1.9998868001478183, 0.9999434000739091, 1.9998868001478183]\n",
      "x[3] = [0.99999946606654, 1.9999994588963876, 0.99999946606654, 2.0000002934655035, 1.0000006170408617, 2.0000002934655035]\n",
      "x[4] = [0.9999999967964484, 1.9999999935928967, 0.9999999967964484, 1.9999999935928967, 0.9999999967964484, 1.9999999935928967]\n",
      "Number of iterations: 4"
     ]
    }
   ],
   "source": [
    "m = 3\n",
    "GMRES(A, b, x0, m)"
   ]
  },
  {
   "cell_type": "markdown",
   "metadata": {},
   "source": [
    "### References\n",
    "\n",
    "[1] William Ford. *Numerical Linear Algebra with Applications Using MATLAB*, chapter 21."
   ]
  }
 ],
 "metadata": {
  "kernelspec": {
   "display_name": "Julia 1.7.2",
   "language": "julia",
   "name": "julia-1.7"
  },
  "language_info": {
   "file_extension": ".jl",
   "mimetype": "application/julia",
   "name": "julia",
   "version": "1.7.2"
  },
  "orig_nbformat": 4
 },
 "nbformat": 4,
 "nbformat_minor": 2
}
