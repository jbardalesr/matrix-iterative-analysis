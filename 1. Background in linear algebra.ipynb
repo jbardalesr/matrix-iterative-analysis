{
 "cells": [
  {
   "cell_type": "code",
   "execution_count": 141,
   "metadata": {},
   "outputs": [
    {
     "data": {
      "text/plain": [
       "LinearAlgebra"
      ]
     },
     "execution_count": 141,
     "metadata": {},
     "output_type": "execute_result"
    }
   ],
   "source": [
    "import LinearAlgebra\n",
    "const la = LinearAlgebra\n"
   ]
  },
  {
   "cell_type": "markdown",
   "metadata": {},
   "source": [
    "# Projection Methods\n"
   ]
  },
  {
   "cell_type": "markdown",
   "metadata": {},
   "source": [
    "Example"
   ]
  },
  {
   "cell_type": "code",
   "execution_count": 142,
   "metadata": {},
   "outputs": [
    {
     "data": {
      "text/plain": [
       "4×3 Matrix{Float64}:\n",
       " 1.0   2.0  1.0\n",
       " 2.0   4.0  1.0\n",
       " 3.0  -4.0  2.0\n",
       " 1.0   0.0  1.0"
      ]
     },
     "execution_count": 142,
     "metadata": {},
     "output_type": "execute_result"
    }
   ],
   "source": [
    "X = [1 2. 1;\n",
    "     2 4. 1;\n",
    "     3 -4 2;\n",
    "     1 0. 1]"
   ]
  },
  {
   "cell_type": "markdown",
   "metadata": {},
   "source": [
    "### Gram Schimdt\n",
    "\n",
    "$X =[x_1, x_2, ..., x_r]\\in \\mathbb{R}^{n\\times r}, n>=r$ matrix with independent column vectors. "
   ]
  },
  {
   "cell_type": "code",
   "execution_count": 143,
   "metadata": {},
   "outputs": [
    {
     "data": {
      "text/plain": [
       "gram_schmidt (generic function with 1 method)"
      ]
     },
     "execution_count": 143,
     "metadata": {},
     "output_type": "execute_result"
    }
   ],
   "source": [
    "function gram_schmidt(X::Matrix{Float64})\n",
    "    # input: X is a nxr matrix with columns linear independent\n",
    "    n, r = size(X)\n",
    "    R = zeros(Float64, (r, r))\n",
    "    Q = zeros(Float64, (n, r))\n",
    "\n",
    "    R[1, 1] = la.norm(X[:, 1])\n",
    "\n",
    "    if R[1, 1] < eps()\n",
    "        return nothing\n",
    "    end\n",
    "    Q[:, 1] = X[:, 1]/R[1, 1]\n",
    "    \n",
    "    for j = 2:r\n",
    "        R[1:j-1, j] = transpose(Q[:, 1:j-1])*X[:, j]    # [<q1, xj>, ..., <q[j-1], xj>]T\n",
    "        q = X[:, j] - Q[:, 1:j-1]*R[1:j-1, j]           # [q1*r[1,j], ..., q[j-1]*r[j-1,j]]T\n",
    "        R[j, j] = la.norm(q)\n",
    "        if R[j, j] < eps()\n",
    "            break\n",
    "        end\n",
    "        Q[:, j] = q/R[j, j]\n",
    "    end\n",
    "    return Q, R\n",
    "end\n"
   ]
  },
  {
   "cell_type": "code",
   "execution_count": 144,
   "metadata": {},
   "outputs": [
    {
     "data": {
      "text/plain": [
       "4×3 Matrix{Float64}:\n",
       " 0.258199   0.35688    0.658693\n",
       " 0.516398   0.71376   -0.447912\n",
       " 0.774597  -0.602235  -0.118565\n",
       " 0.258199   0.022305   0.592824"
      ]
     },
     "metadata": {},
     "output_type": "display_data"
    },
    {
     "data": {
      "text/plain": [
       "3×3 Matrix{Float64}:\n",
       " 3.87298  -0.516398   2.58199\n",
       " 0.0       5.97774   -0.111525\n",
       " 0.0       0.0        0.566476"
      ]
     },
     "metadata": {},
     "output_type": "display_data"
    }
   ],
   "source": [
    "Q, R = gram_schmidt(X)\n",
    "display(Q)\n",
    "display(R)"
   ]
  },
  {
   "cell_type": "code",
   "execution_count": 145,
   "metadata": {},
   "outputs": [
    {
     "data": {
      "text/plain": [
       "modified_gram_schmidt (generic function with 1 method)"
      ]
     },
     "execution_count": 145,
     "metadata": {},
     "output_type": "execute_result"
    }
   ],
   "source": [
    "function modified_gram_schmidt(X::Matrix{Float64})\n",
    "    # input: X is a nxr matrix with columns linear independent\n",
    "    n, r = size(X)\n",
    "    R = zeros(Float64, (r, r))\n",
    "    Q = zeros(Float64, (n, r))\n",
    "\n",
    "    R[1, 1] = la.norm(X[:, 1])\n",
    "    \n",
    "    if R[1, 1] < eps()\n",
    "        return nothing\n",
    "    end\n",
    "    Q[:, 1] = X[:, 1]/R[1, 1]\n",
    "\n",
    "    for j = 2:r\n",
    "        q = X[:, j]\n",
    "        for i = 1:j-1\n",
    "            R[i, j] = la.dot(q, Q[:, i])\n",
    "            q = q - R[i, j]*Q[:, i]\n",
    "        end\n",
    "        R[j, j] = la.norm(q)\n",
    "        if R[j, j] < eps()\n",
    "            break\n",
    "        end\n",
    "        Q[:, j] = q/R[j, j]\n",
    "    end\n",
    "    return Q, R\n",
    "end\n"
   ]
  },
  {
   "cell_type": "code",
   "execution_count": 146,
   "metadata": {},
   "outputs": [
    {
     "data": {
      "text/plain": [
       "4×3 Matrix{Float64}:\n",
       " 0.258199   0.35688    0.658693\n",
       " 0.516398   0.71376   -0.447912\n",
       " 0.774597  -0.602235  -0.118565\n",
       " 0.258199   0.022305   0.592824"
      ]
     },
     "metadata": {},
     "output_type": "display_data"
    },
    {
     "data": {
      "text/plain": [
       "3×3 Matrix{Float64}:\n",
       " 3.87298  -0.516398   2.58199\n",
       " 0.0       5.97774   -0.111525\n",
       " 0.0       0.0        0.566476"
      ]
     },
     "metadata": {},
     "output_type": "display_data"
    }
   ],
   "source": [
    "Q, R = modified_gram_schmidt(X)\n",
    "display(Q)\n",
    "display(R)"
   ]
  },
  {
   "cell_type": "markdown",
   "metadata": {},
   "source": [
    "### Householder"
   ]
  },
  {
   "cell_type": "code",
   "execution_count": 147,
   "metadata": {},
   "outputs": [
    {
     "data": {
      "text/plain": [
       "identity (generic function with 1 method)"
      ]
     },
     "execution_count": 147,
     "metadata": {},
     "output_type": "execute_result"
    }
   ],
   "source": [
    "function e_vector(n:: Int64, k:: Int64)\n",
    "    e = zeros(n)\n",
    "    e[k] = 1\n",
    "    return e\n",
    "end\n",
    "\n",
    "function sign(num:: Real)\n",
    "    return (num >= 0) ? 1 : -1\n",
    "end\n",
    "\n",
    "function identity(n:: Int64, m:: Int64)\n",
    "    return Matrix{Float64}(la.I, n, m)\n",
    "end"
   ]
  },
  {
   "cell_type": "code",
   "execution_count": 148,
   "metadata": {},
   "outputs": [
    {
     "data": {
      "text/plain": [
       "householder (generic function with 1 method)"
      ]
     },
     "execution_count": 148,
     "metadata": {},
     "output_type": "execute_result"
    }
   ],
   "source": [
    "function householder(X:: Matrix{Float64})\n",
    "    n, m = size(X)\n",
    "    R = zeros((n, m))\n",
    "    Q = zeros((n, m))\n",
    "    I = Matrix{Float64}(la.I, n, n)\n",
    "    P_cum = I\n",
    "    for k = 1:m\n",
    "        if k > 1\n",
    "           R[:, k] = P_cum' * X[:, k]\n",
    "        end\n",
    "        beta = sign(X[k, k]) * la.norm(X[k:end, k])\n",
    "        z = zeros(n)\n",
    "        for i = 1:n\n",
    "            if i == k\n",
    "                z[i] = beta + X[k, k]\n",
    "            elseif i > k\n",
    "                z[i] = X[i, k]\n",
    "            end\n",
    "        end\n",
    "        w_k = z / la.norm(z)\n",
    "        P = I - 2 * w_k * w_k'\n",
    "        P_cum = P_cum * P\n",
    "        R[:, k] = P * R[:, k]\n",
    "        Q[:, k] = P_cum * e_vector(n, k)\n",
    "    end\n",
    "    return Q, R\n",
    "end"
   ]
  },
  {
   "cell_type": "code",
   "execution_count": 172,
   "metadata": {},
   "outputs": [
    {
     "data": {
      "text/plain": [
       "1×2 Matrix{Int64}:\n",
       " 15  4"
      ]
     },
     "execution_count": 172,
     "metadata": {},
     "output_type": "execute_result"
    }
   ],
   "source": [
    "abs.([-15 4])"
   ]
  },
  {
   "cell_type": "code",
   "execution_count": 173,
   "metadata": {},
   "outputs": [
    {
     "data": {
      "text/plain": [
       "modified_householder (generic function with 1 method)"
      ]
     },
     "execution_count": 173,
     "metadata": {},
     "output_type": "execute_result"
    }
   ],
   "source": [
    "function modified_householder(X:: Matrix{Float64})\n",
    "    n, m = size(X)\n",
    "    R = copy(X)\n",
    "    Q = identity(n, n)\n",
    "    for k = 1:m\n",
    "        if maximum(abs.(R[k:m, k])) == 0\n",
    "            continue\n",
    "        end\n",
    "        beta = sign(R[k, k]) * la.norm(R[k:end, k])\n",
    "\n",
    "        z = R[k:end, k] + beta * e_vector(n - k + 1, 1)        \n",
    "        w  = z / la.norm(z)\n",
    "        P = identity(n - k + 1, n - k + 1) - 2 * w * w'\n",
    "        R[k:end, k:end] = P * R[k:end, k:end]\n",
    "        Q[k:end, :] = P* Q[k:end, :]\n",
    "    end\n",
    "    return Q'[:, 1:end-1], R[1:end-1, :]\n",
    "end"
   ]
  },
  {
   "cell_type": "code",
   "execution_count": 174,
   "metadata": {},
   "outputs": [
    {
     "data": {
      "text/plain": [
       "4×3 Matrix{Float64}:\n",
       " -0.258199  -0.35688    0.658693\n",
       " -0.516398  -0.71376   -0.447912\n",
       " -0.774597   0.602235  -0.118565\n",
       " -0.258199  -0.022305   0.592824"
      ]
     },
     "metadata": {},
     "output_type": "display_data"
    },
    {
     "data": {
      "text/plain": [
       "3×3 Matrix{Float64}:\n",
       " -3.87298       0.516398     -2.58199\n",
       "  4.16334e-17  -5.97774       0.111525\n",
       "  4.16334e-16  -4.85723e-16   0.566476"
      ]
     },
     "metadata": {},
     "output_type": "display_data"
    }
   ],
   "source": [
    "Q, R = modified_householder(X)\n",
    "display(Q) \n",
    "display(R) "
   ]
  },
  {
   "cell_type": "code",
   "execution_count": null,
   "metadata": {},
   "outputs": [],
   "source": []
  }
 ],
 "metadata": {
  "kernelspec": {
   "display_name": "Julia 1.7.2",
   "language": "julia",
   "name": "julia-1.7"
  },
  "language_info": {
   "file_extension": ".jl",
   "mimetype": "application/julia",
   "name": "julia",
   "version": "1.7.2"
  },
  "orig_nbformat": 4
 },
 "nbformat": 4,
 "nbformat_minor": 2
}
