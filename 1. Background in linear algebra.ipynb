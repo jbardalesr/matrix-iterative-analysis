{
 "cells": [
  {
   "cell_type": "code",
   "execution_count": 3,
   "metadata": {},
   "outputs": [
    {
     "data": {
      "text/plain": [
       "LinearAlgebra"
      ]
     },
     "execution_count": 3,
     "metadata": {},
     "output_type": "execute_result"
    }
   ],
   "source": [
    "import LinearAlgebra\n",
    "const la = LinearAlgebra\n"
   ]
  },
  {
   "cell_type": "markdown",
   "metadata": {},
   "source": [
    "# Projection Methods\n"
   ]
  },
  {
   "cell_type": "markdown",
   "metadata": {},
   "source": [
    "Example"
   ]
  },
  {
   "cell_type": "code",
   "execution_count": 25,
   "metadata": {},
   "outputs": [
    {
     "data": {
      "text/plain": [
       "4×3 Matrix{Float64}:\n",
       " 1.0   2.0  1.0\n",
       " 2.0   4.0  1.0\n",
       " 3.0  -4.0  2.0\n",
       " 1.0   1.0  1.0"
      ]
     },
     "execution_count": 25,
     "metadata": {},
     "output_type": "execute_result"
    }
   ],
   "source": [
    "X = [1 2. 1;\n",
    "     2 4. 1;\n",
    "     3 -4 2;\n",
    "     1 1. 1]"
   ]
  },
  {
   "cell_type": "markdown",
   "metadata": {},
   "source": [
    "### Gram Schimdt\n",
    "\n",
    "$X =[x_1, x_2, ..., x_r]\\in \\mathbb{R}^{n\\times r}, n>=r$ matrix with independent column vectors. "
   ]
  },
  {
   "cell_type": "code",
   "execution_count": 30,
   "metadata": {},
   "outputs": [
    {
     "data": {
      "text/plain": [
       "gram_schmidt (generic function with 1 method)"
      ]
     },
     "execution_count": 30,
     "metadata": {},
     "output_type": "execute_result"
    }
   ],
   "source": [
    "function gram_schmidt(X::Matrix{Float64})\n",
    "    # input: X is a nxr matrix with columns linear independent\n",
    "    n, r = size(X)\n",
    "    R = zeros(Float64, (r, r))\n",
    "    Q = zeros(Float64, (n, r))\n",
    "\n",
    "    R[1, 1] = la.norm(X[:, 1])\n",
    "\n",
    "    if R[1, 1] < eps()\n",
    "        return nothing\n",
    "    end\n",
    "    Q[:, 1] = X[:, 1]/R[1, 1]\n",
    "    \n",
    "    for j = 2:r\n",
    "        R[1:j-1, j] = transpose(Q[:, 1:j-1])*X[:, j]    # [<q1, xj>, ..., <q[j-1], xj>]T\n",
    "        q = X[:, j] - Q[:, 1:j-1]*R[1:j-1, j]           # [q1*r[1,j], ..., q[j-1]*r[j-1,j]]T\n",
    "        R[j, j] = la.norm(q)\n",
    "        if R[j, j] < eps()\n",
    "            break\n",
    "        end\n",
    "        Q[:, j] = q/R[j, j]\n",
    "    end\n",
    "    return Q, R\n",
    "end\n"
   ]
  },
  {
   "cell_type": "code",
   "execution_count": 31,
   "metadata": {},
   "outputs": [
    {
     "data": {
      "text/plain": [
       "4×3 Matrix{Float64}:\n",
       " 0.258199   0.340064   0.612427\n",
       " 0.516398   0.680129  -0.515067\n",
       " 0.774597  -0.62528   -0.0596724\n",
       " 0.258199   0.175517   0.596724"
      ]
     },
     "metadata": {},
     "output_type": "display_data"
    },
    {
     "data": {
      "text/plain": [
       "3×3 Matrix{Float64}:\n",
       " 3.87298  -0.258199   2.58199\n",
       " 0.0       6.07728   -0.0548491\n",
       " 0.0       0.0        0.574739"
      ]
     },
     "metadata": {},
     "output_type": "display_data"
    }
   ],
   "source": [
    "Q, R = gram_schmidt(X)\n",
    "display(Q)\n",
    "display(R)"
   ]
  },
  {
   "cell_type": "code",
   "execution_count": 28,
   "metadata": {},
   "outputs": [
    {
     "data": {
      "text/plain": [
       "modified_gram_schmidt (generic function with 1 method)"
      ]
     },
     "execution_count": 28,
     "metadata": {},
     "output_type": "execute_result"
    }
   ],
   "source": [
    "function modified_gram_schmidt(X::Matrix{Float64})\n",
    "    # input: X is a nxr matrix with columns linear independent\n",
    "    n, r = size(X)\n",
    "    R = zeros(Float64, (r, r))\n",
    "    Q = zeros(Float64, (n, r))\n",
    "\n",
    "    R[1, 1] = la.norm(X[:, 1])\n",
    "    \n",
    "    if R[1, 1] < eps()\n",
    "        return nothing\n",
    "    end\n",
    "    Q[:, 1] = X[:, 1]/R[1, 1]\n",
    "\n",
    "    for j = 2:r\n",
    "        q = X[:, j]\n",
    "        for i = 1:j-1\n",
    "            R[i, j] = la.dot(q, Q[:, i])\n",
    "            q = q - R[i, j]*Q[:, i]\n",
    "        end\n",
    "        R[j, j] = la.norm(q)\n",
    "        if R[j, j] < eps()\n",
    "            break\n",
    "        end\n",
    "        Q[:, j] = q/R[j, j]\n",
    "    end\n",
    "    return Q, R\n",
    "end\n"
   ]
  },
  {
   "cell_type": "code",
   "execution_count": 8,
   "metadata": {},
   "outputs": [
    {
     "data": {
      "text/plain": [
       "4×3 Matrix{Float64}:\n",
       " 0.258199   0.35688    0.658693\n",
       " 0.516398   0.71376   -0.447912\n",
       " 0.774597  -0.602235  -0.118565\n",
       " 0.258199   0.022305   0.592824"
      ]
     },
     "metadata": {},
     "output_type": "display_data"
    },
    {
     "data": {
      "text/plain": [
       "3×3 Matrix{Float64}:\n",
       " 3.87298  -0.516398   2.58199\n",
       " 0.0       5.97774   -0.111525\n",
       " 0.0       0.0        0.566476"
      ]
     },
     "metadata": {},
     "output_type": "display_data"
    }
   ],
   "source": [
    "Q, R = modified_gram_schmidt(X)\n",
    "display(Q)\n",
    "display(R)"
   ]
  },
  {
   "cell_type": "markdown",
   "metadata": {},
   "source": [
    "### Householder"
   ]
  },
  {
   "cell_type": "code",
   "execution_count": 105,
   "metadata": {},
   "outputs": [
    {
     "data": {
      "text/plain": [
       "e_vector (generic function with 1 method)"
      ]
     },
     "execution_count": 105,
     "metadata": {},
     "output_type": "execute_result"
    }
   ],
   "source": [
    "function e_vector(n:: Int64, k:: Int64)\n",
    "    e = zeros(n)\n",
    "    e[k] = 1\n",
    "    return e\n",
    "end"
   ]
  },
  {
   "cell_type": "code",
   "execution_count": 163,
   "metadata": {},
   "outputs": [
    {
     "data": {
      "text/plain": [
       "householder (generic function with 1 method)"
      ]
     },
     "execution_count": 163,
     "metadata": {},
     "output_type": "execute_result"
    }
   ],
   "source": [
    "function householder(X:: Matrix{Float64})\n",
    "    n, m = size(X)\n",
    "    I = Matrix{Float64}(la.I, n, n)\n",
    "    R = zeros(n, m)\n",
    "    R[:, 1] = X[:, 1]\n",
    "    P_cum = I\n",
    "    for k = 1:m\n",
    "        if k > 1\n",
    "            R[:, k] = P_cum * X[:, k]\n",
    "        end\n",
    "        beta = sign(R[k, k]) * la.norm(R[k:end, k])\n",
    "        z = zeros(n)\n",
    "        for i = 1:n\n",
    "            if i == k\n",
    "                z[i] = beta + R[k, k]\n",
    "            elseif i > k\n",
    "                z[i] = R[i, k]\n",
    "            end\n",
    "        end\n",
    "        w = z / la.norm(z)\n",
    "        P = I - 2 * w * w'\n",
    "        R[:, k] = P * R[:, k]\n",
    "        P_cum = P * P_cum \n",
    "    end\n",
    "    return P_cum', R\n",
    "end"
   ]
  },
  {
   "cell_type": "code",
   "execution_count": 164,
   "metadata": {},
   "outputs": [
    {
     "name": "stdout",
     "output_type": "stream",
     "text": [
      "[-3.8729833462074166, 4.163336342344337e-17, 4.163336342344337e-16, -1.1102230246251565e-16]\n",
      "[0.2581988897471608, -6.077280093375105, -5.48172618408671e-16, 0.0]\n",
      "[-2.5819888974716108, 0.05484909831566004, 0.5747389927152083, 0.0]\n"
     ]
    },
    {
     "data": {
      "text/plain": [
       "4×3 Matrix{Float64}:\n",
       " -3.87298       0.258199     -2.58199\n",
       "  4.16334e-17  -6.07728       0.0548491\n",
       "  4.16334e-16  -5.48173e-16   0.574739\n",
       " -1.11022e-16   0.0           0.0"
      ]
     },
     "metadata": {},
     "output_type": "display_data"
    },
    {
     "data": {
      "text/plain": [
       "4×4 adjoint(::Matrix{Float64}) with eltype Float64:\n",
       " -0.258199  -0.340064   0.612427   -0.665299\n",
       " -0.516398  -0.680129  -0.515067    0.0739221\n",
       " -0.774597   0.62528   -0.0596724  -0.0739221\n",
       " -0.258199  -0.175517   0.596724    0.739221"
      ]
     },
     "metadata": {},
     "output_type": "display_data"
    }
   ],
   "source": [
    "Q, R = householder(X)\n",
    "display(R) \n",
    "display(Q) "
   ]
  },
  {
   "cell_type": "code",
   "execution_count": 145,
   "metadata": {},
   "outputs": [
    {
     "data": {
      "text/plain": [
       "4×3 Matrix{Float64}:\n",
       " 1.0   2.0  1.0\n",
       " 2.0   4.0  1.0\n",
       " 3.0  -4.0  2.0\n",
       " 1.0   1.0  1.0"
      ]
     },
     "execution_count": 145,
     "metadata": {},
     "output_type": "execute_result"
    }
   ],
   "source": [
    "Q*R"
   ]
  }
 ],
 "metadata": {
  "kernelspec": {
   "display_name": "Julia 1.7.2",
   "language": "julia",
   "name": "julia-1.7"
  },
  "language_info": {
   "file_extension": ".jl",
   "mimetype": "application/julia",
   "name": "julia",
   "version": "1.7.2"
  },
  "orig_nbformat": 4
 },
 "nbformat": 4,
 "nbformat_minor": 2
}
