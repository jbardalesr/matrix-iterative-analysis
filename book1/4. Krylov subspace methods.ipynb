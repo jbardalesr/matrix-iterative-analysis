{
 "cells": [
  {
   "cell_type": "markdown",
   "metadata": {},
   "source": [
    "## Arnoldi's methods"
   ]
  },
  {
   "cell_type": "code",
   "execution_count": 2,
   "metadata": {},
   "outputs": [],
   "source": [
    "import LinearAlgebra\n",
    "const la = LinearAlgebra\n",
    "MAX_ITER = 100;"
   ]
  },
  {
   "cell_type": "code",
   "execution_count": 3,
   "metadata": {},
   "outputs": [],
   "source": [
    "A = [4. -1 0 -1 0 0;\n",
    "     -1 4 -1 0 -1 0;\n",
    "     0 -1 4. 0 0 -1;\n",
    "     -1 0 0. 4 -1 0;\n",
    "     0 -1 0 -1 4 -1;\n",
    "     0 0 -1 0. -1 4]\n",
    "\n",
    "b = [0, 5, 0, 6, -2, 6.]\n",
    "\n",
    "x0 = zeros(size(b));\n",
    "# n\n",
    "v = [1., 0, 2, 0, 1, 1];"
   ]
  },
  {
   "cell_type": "markdown",
   "metadata": {},
   "source": [
    "### Arnoldi Gram-Schmidt\n",
    "Input: $A\\in\\mathbb{R}^{n\\times n}=[a_1,...,a_n], v\\in\\mathbb{R}^{n}$ any vector"
   ]
  },
  {
   "cell_type": "code",
   "execution_count": 4,
   "metadata": {},
   "outputs": [
    {
     "data": {
      "text/plain": [
       "arnoldi (generic function with 1 method)"
      ]
     },
     "execution_count": 4,
     "metadata": {},
     "output_type": "execute_result"
    }
   ],
   "source": [
    "function arnoldi(A:: Matrix, v:: Vector, m:: Int64)\n",
    "    # Input: nxn matrix A, nx1 column vector v, and integer m\n",
    "    # Output: (m + 1)xm matrix H and nx1 a nx(m + 1) matrix V\n",
    "    n = size(A, 1)\n",
    "    V = zeros((n, m + 1))\n",
    "    H = zeros((m + 1, m))\n",
    "    V[:, 1] = v/la.norm(v)\n",
    "    for j = 1:m\n",
    "        for i = 1:j\n",
    "            H[i, j] = la.dot(A*V[:, j], V[:, i])\n",
    "        end\n",
    "        w = A*V[:, j] - V[:, 1:j]*H[1:j, j]\n",
    "        H[j+1, j] = la.norm(w)\n",
    "        if H[j+1, j] < eps()\n",
    "            break\n",
    "        end\n",
    "        V[:, j+1] = w/H[j+1, j]\n",
    "    end\n",
    "    return H, V\n",
    "end"
   ]
  },
  {
   "cell_type": "code",
   "execution_count": 5,
   "metadata": {},
   "outputs": [
    {
     "data": {
      "text/plain": [
       "4×3 Matrix{Float64}:\n",
       " 3.14286  1.92195  -2.77556e-15\n",
       " 1.92195  4.6472    1.18932\n",
       " 0.0      1.18932   3.95556\n",
       " 0.0      0.0       0.812257"
      ]
     },
     "metadata": {},
     "output_type": "display_data"
    },
    {
     "data": {
      "text/plain": [
       "6×4 Matrix{Float64}:\n",
       " 0.377964   0.168563    0.289595   -0.585252\n",
       " 0.0       -0.786629    0.191845    0.228787\n",
       " 0.755929   0.140469   -0.282287    0.128662\n",
       " 0.0       -0.393314    0.0959226  -0.699892\n",
       " 0.377964  -0.0280939   0.750937    0.313906\n",
       " 0.377964  -0.421408   -0.475959    0.0140224"
      ]
     },
     "metadata": {},
     "output_type": "display_data"
    }
   ],
   "source": [
    "m = 3\n",
    "H, V = arnoldi(A, v, m);\n",
    "display(H)\n",
    "display(V)"
   ]
  },
  {
   "cell_type": "markdown",
   "metadata": {},
   "source": [
    "### Arnoldi-Modified Gram-Schmidt"
   ]
  },
  {
   "cell_type": "code",
   "execution_count": 6,
   "metadata": {},
   "outputs": [
    {
     "data": {
      "text/plain": [
       "arnoldi_modified (generic function with 1 method)"
      ]
     },
     "execution_count": 6,
     "metadata": {},
     "output_type": "execute_result"
    }
   ],
   "source": [
    "function arnoldi_modified(A:: Matrix, v:: Vector, m:: Int64)\n",
    "    # Input: nxn matrix A, nx1 column vector v, and integer m\n",
    "    # Output: (m + 1)xm matrix H and nx1 a nx(m + 1) matrix V\n",
    "    n = size(A, 1)\n",
    "    \n",
    "    H = zeros((m + 1, m))\n",
    "    V = zeros((n, m + 1))\n",
    "    \n",
    "    V[:, 1] = v/la.norm(v)\n",
    "    for j = 1:m\n",
    "        w = A*V[:, j]\n",
    "        for i = 1:j\n",
    "            H[i, j] = la.dot(w, V[:, i])\n",
    "            w = w - H[i, j]*V[:, i] \n",
    "        end\n",
    "        H[j+1, j] = la.norm(w)\n",
    "        if H[j+1, j] < eps()\n",
    "            break\n",
    "        end\n",
    "        V[:, j+1] = w/H[j+1, j]\n",
    "    end\n",
    "    return H, V\n",
    "end"
   ]
  },
  {
   "cell_type": "code",
   "execution_count": 7,
   "metadata": {},
   "outputs": [
    {
     "data": {
      "text/plain": [
       "4×3 Matrix{Float64}:\n",
       " 3.14286  1.92195  -2.9976e-15\n",
       " 1.92195  4.6472    1.18932\n",
       " 0.0      1.18932   3.95556\n",
       " 0.0      0.0       0.812257"
      ]
     },
     "metadata": {},
     "output_type": "display_data"
    },
    {
     "data": {
      "text/plain": [
       "6×4 Matrix{Float64}:\n",
       " 0.377964   0.168563    0.289595   -0.585252\n",
       " 0.0       -0.786629    0.191845    0.228787\n",
       " 0.755929   0.140469   -0.282287    0.128662\n",
       " 0.0       -0.393314    0.0959226  -0.699892\n",
       " 0.377964  -0.0280939   0.750937    0.313906\n",
       " 0.377964  -0.421408   -0.475959    0.0140224"
      ]
     },
     "metadata": {},
     "output_type": "display_data"
    }
   ],
   "source": [
    "m = 3\n",
    "H, V = arnoldi_modified(A, v, m)\n",
    "display(H)\n",
    "display(V)"
   ]
  },
  {
   "cell_type": "markdown",
   "metadata": {},
   "source": [
    "### Householder Arnoldi"
   ]
  },
  {
   "cell_type": "code",
   "execution_count": 8,
   "metadata": {},
   "outputs": [
    {
     "data": {
      "text/plain": [
       "arnoldi_householder (generic function with 1 method)"
      ]
     },
     "execution_count": 8,
     "metadata": {},
     "output_type": "execute_result"
    }
   ],
   "source": [
    "function arnoldi_householder(A:: Matrix, v:: Vector, m:: Int64)\n",
    "    # Input: nxn matrix A, nx1 column vector v, and integer m < n\n",
    "    # Output: nx(m+1) matrix H and an nxm orthonormal matrix V\n",
    "    n = size(A, 1)\n",
    "    I = 1.0 * Matrix(la.I, n, n)\n",
    "    V = zeros((n, m + 1))\n",
    "    H = zeros((n, m + 1))\n",
    "    Z = zeros((n, m + 1))\n",
    "\n",
    "    Z[:, 1] = v\n",
    "    Q = I\n",
    "    for j = 1:m + 1\n",
    "        # w calculus\n",
    "        val_sign = Z[j, j] >= 0.0 ? 1.0 : -1.0\n",
    "        beta = val_sign * la.norm(Z[j:end, j])\n",
    "        z = zeros(n)\n",
    "        z[j] = beta - Z[j, j] + eps()\n",
    "        for i = j + 1:n\n",
    "            z[i] = -Z[i, j]\n",
    "        end\n",
    "        w = z / la.norm(z)\n",
    "        # proyector\n",
    "        P = I - 2 * w * w'\n",
    "        # h_{j-1}\n",
    "        H[:, j] = P * Z[:, j]\n",
    "        # Pj*...*P2*P1\n",
    "        Q = P * Q\n",
    "        V[:, j] = Q'[:, j] # P1*P2...*Pj -> j-ésima\n",
    "        if j <= m\n",
    "            Z[:, j + 1] = Q * A * V[:, j]\n",
    "        end\n",
    "    end\n",
    "    # delete the column 0 and return a (m+1)xm matrix H\n",
    "    return H[1:m + 1, 2:m + 1], V\n",
    "end"
   ]
  },
  {
   "cell_type": "code",
   "execution_count": 9,
   "metadata": {},
   "outputs": [
    {
     "name": "stdout",
     "output_type": "stream",
     "text": [
      "5×4 Matrix{Float64}:\n",
      "  3.14286      -1.92195       0.0           2.22045e-16\n",
      " -1.92195       4.6472        1.18932      -2.77556e-16\n",
      " -2.77556e-16   1.18932       3.95556      -0.812257\n",
      "  2.77556e-16  -1.07499e-16  -0.812257      3.67305\n",
      " -5.55112e-17  -6.55942e-18   3.09757e-16   0.114091"
     ]
    },
    {
     "data": {
      "text/plain": [
       "6×5 Matrix{Float64}:\n",
       " 0.377964  -0.168563   -0.289595   -0.585252    0.390312\n",
       " 0.0        0.786629   -0.191845    0.228787    0.540433\n",
       " 0.755929  -0.140469    0.282287    0.128662    0.2502\n",
       " 0.0        0.393314   -0.0959226  -0.699892   -0.310248\n",
       " 0.377964   0.0280939  -0.750937    0.313906   -0.440352\n",
       " 0.377964   0.421408    0.475959    0.0140224  -0.45036"
      ]
     },
     "metadata": {},
     "output_type": "display_data"
    }
   ],
   "source": [
    "m = 4\n",
    "H, V = arnoldi_householder(A, v, m)\n",
    "show(IOContext(stdout, :limit => false), \"text/plain\", H)\n",
    "display(V)"
   ]
  },
  {
   "cell_type": "markdown",
   "metadata": {},
   "source": [
    "Se verifica $AV_m = V_{m+1}H$"
   ]
  },
  {
   "cell_type": "code",
   "execution_count": 10,
   "metadata": {},
   "outputs": [
    {
     "data": {
      "text/plain": [
       "true"
      ]
     },
     "execution_count": 10,
     "metadata": {},
     "output_type": "execute_result"
    }
   ],
   "source": [
    "isapprox(A*V[:, 1:m], V*H)"
   ]
  },
  {
   "cell_type": "markdown",
   "metadata": {},
   "source": [
    "## Arnoldi’s Method for Linear Systems (FOM)"
   ]
  },
  {
   "cell_type": "code",
   "execution_count": 11,
   "metadata": {},
   "outputs": [
    {
     "data": {
      "text/plain": [
       "FOM (generic function with 1 method)"
      ]
     },
     "execution_count": 11,
     "metadata": {},
     "output_type": "execute_result"
    }
   ],
   "source": [
    "function FOM(A:: Matrix, b:: Vector, x0:: Vector, m:: Int64)\n",
    "    r = b - A*x0\n",
    "    beta = la.norm(r)\n",
    "    v = r/beta\n",
    "    H, V = arnoldi_modified(A, v, m)\n",
    "    # delete last row of H and last column of V\n",
    "    H = H[1:m, :]\n",
    "    V = V[:, 1:m]\n",
    "    return H, V, beta\n",
    "end"
   ]
  },
  {
   "cell_type": "code",
   "execution_count": 12,
   "metadata": {},
   "outputs": [
    {
     "data": {
      "text/plain": [
       "6-element Vector{Float64}:\n",
       " 0.9999999999999999\n",
       " 1.9999999999999998\n",
       " 0.9999999999999999\n",
       " 2.0\n",
       " 0.9999999999999999\n",
       " 2.0"
      ]
     },
     "execution_count": 12,
     "metadata": {},
     "output_type": "execute_result"
    }
   ],
   "source": [
    "m = 4\n",
    "H, V, beta = FOM(A, b, x0, m)\n",
    "y = la.inv(H)[:, 1] * beta\n",
    "x = x0 + V*y"
   ]
  },
  {
   "cell_type": "code",
   "execution_count": 13,
   "metadata": {},
   "outputs": [
    {
     "data": {
      "text/plain": [
       "restarted_FOM (generic function with 2 methods)"
      ]
     },
     "execution_count": 13,
     "metadata": {},
     "output_type": "execute_result"
    }
   ],
   "source": [
    "function restarted_FOM(A:: Matrix, b:: Vector, x0:: Vector, m:: Int64, tol=1.0e-6)\n",
    "    println(\"x[0] = $x0\")\n",
    "    for i=1:MAX_ITER\n",
    "        H, V, beta = FOM(A, b, x0, m)\n",
    "        y = la.inv(H)[:, 1] * beta\n",
    "        x = x0 + V*y\n",
    "        println(\"x[$i] = $x\")\n",
    "        if la.norm(x - x0) < tol\n",
    "            break\n",
    "        end\n",
    "        # updating for next step\n",
    "        x0 = copy(x)\n",
    "    end\n",
    "end"
   ]
  },
  {
   "cell_type": "code",
   "execution_count": 14,
   "metadata": {},
   "outputs": [
    {
     "name": "stdout",
     "output_type": "stream",
     "text": [
      "x[0] = [0.0, 0.0, 0.0, 0.0, 0.0, 0.0]\n",
      "x[1] = [0.9999999999999999, 1.9999999999999998, 0.9999999999999999, 2.0, 0.9999999999999999, 2.0]\n",
      "x[2] = [1.0, 2.0, 1.0, 2.0, 1.0000000000000002, 2.0]\n"
     ]
    }
   ],
   "source": [
    "m = 4\n",
    "restarted_FOM(A, b, x0, m)"
   ]
  },
  {
   "cell_type": "markdown",
   "metadata": {},
   "source": [
    "## Incomplete Orthogonalization (IOM)"
   ]
  },
  {
   "cell_type": "markdown",
   "metadata": {},
   "source": [
    "### Incomplete Arnoldi Process"
   ]
  },
  {
   "cell_type": "code",
   "execution_count": 15,
   "metadata": {},
   "outputs": [
    {
     "data": {
      "text/plain": [
       "incomplete_arnoldi (generic function with 1 method)"
      ]
     },
     "execution_count": 15,
     "metadata": {},
     "output_type": "execute_result"
    }
   ],
   "source": [
    "function incomplete_arnoldi(A:: Matrix, v:: Vector, m:: Int64, k:: Int64)\n",
    "    n = size(A, 1)\n",
    "    V = zeros((n, m+1))\n",
    "    H = zeros((m+1, m))\n",
    "    V[:, 1] = v/la.norm(v)\n",
    "    for j = 1:m\n",
    "        w = A*V[:, j]\n",
    "        for i = max(1, j - k + 1):j\n",
    "            H[i, j] = la.dot(w, V[:, i])\n",
    "            w = w - H[i, j]*V[:, i] \n",
    "        end\n",
    "        H[j+1, j] = la.norm(w)\n",
    "        V[:, j+1] = w/H[j+1, j]\n",
    "    end\n",
    "    return H, V\n",
    "end"
   ]
  },
  {
   "cell_type": "code",
   "execution_count": 16,
   "metadata": {},
   "outputs": [
    {
     "data": {
      "text/plain": [
       "IOM (generic function with 1 method)"
      ]
     },
     "execution_count": 16,
     "metadata": {},
     "output_type": "execute_result"
    }
   ],
   "source": [
    "function IOM(A:: Matrix, b:: Vector, x0:: Vector, m:: Int64, k:: Int64)\n",
    "    r = b - A*x0\n",
    "    beta = la.norm(r)\n",
    "    v = r/beta\n",
    "    H, V = incomplete_arnoldi(A, v, m, k)\n",
    "    # delete last row of H and last column of V\n",
    "    # H = H[1:m, :]\n",
    "    # V = V[:, 1:m]\n",
    "    return H, V, beta\n",
    "end"
   ]
  },
  {
   "cell_type": "code",
   "execution_count": 17,
   "metadata": {},
   "outputs": [
    {
     "data": {
      "text/plain": [
       "6×5 Matrix{Float64}:\n",
       " 4.67327  2.21877   3.747e-15   0.0          0.0\n",
       " 2.21877  3.35573   0.690815   -4.07868e-14  0.0\n",
       " 0.0      0.690815  4.32887     0.217999     2.94568\n",
       " 0.0      0.0       0.217999    3.64213      0.0487366\n",
       " 0.0      0.0       0.0         2.80489e-14  1.76082\n",
       " 0.0      0.0       0.0         0.0          1.77754"
      ]
     },
     "metadata": {},
     "output_type": "display_data"
    },
    {
     "data": {
      "text/plain": [
       "6×6 Matrix{Float64}:\n",
       "  0.0       -0.493309   -0.238968  -0.446699  -0.308737    0.295458\n",
       "  0.497519  -0.0612751   0.7893    -0.354578   0.134578   -0.834818\n",
       "  0.0       -0.493309   -0.238968  -0.446699  -0.308737    0.295458\n",
       "  0.597022  -0.0914687  -0.272545   0.246814  -0.625391   -0.222677\n",
       " -0.199007  -0.702       0.337983   0.59444    0.0949961   0.171221\n",
       "  0.597022  -0.0914687  -0.272545   0.246814  -0.625391   -0.222677"
      ]
     },
     "metadata": {},
     "output_type": "display_data"
    }
   ],
   "source": [
    "m = 5\n",
    "k = 3\n",
    "H, V = IOM(A, b, x0, m, k)\n",
    "display(H)\n",
    "display(V)"
   ]
  },
  {
   "cell_type": "markdown",
   "metadata": {},
   "source": [
    "### DIOM\n",
    "We need to keep only the $k$ previous $v_i$  in thr Arnoldi process, and we wish to be able to discard the others. However, if we implement the IOM algoritm, we still face the difficulty that when we compute the solution by formula $x_m = x_0 + V_my_m$, we will again need all the vectors $v_i$. One option would be ti recompute them at the end, but this will essentially double the cost of the algorithm. This raise the question of developing a formula whereby the approximate solution can be easily compute from the previous approximation $x_{m-1}$ and a small number of vectors that are being updated at each step. This proceduce is called DIOM. And, of course, $m$ is increasing."
   ]
  },
  {
   "cell_type": "code",
   "execution_count": 18,
   "metadata": {},
   "outputs": [
    {
     "data": {
      "text/plain": [
       "DIOM (generic function with 2 methods)"
      ]
     },
     "execution_count": 18,
     "metadata": {},
     "output_type": "execute_result"
    }
   ],
   "source": [
    "function DIOM(A:: Matrix, b:: Vector, x0:: Vector, m_max:: Int, k:: Int, tol=1.0e-6)\n",
    "    n = size(A, 1)\n",
    "    V = zeros(n, m_max + 1)\n",
    "    H = zeros(m_max + 1, m_max)\n",
    "    P = zeros(n, m_max)\n",
    "    \n",
    "    r0 = b - A*x0\n",
    "    beta = la.norm(r0)\n",
    "    zeta = beta\n",
    "    V[:, 1] = r0/beta\n",
    "\n",
    "    println(\"x[0] = $x0\")\n",
    "    for m = 1:m_max\n",
    "        w = A*V[:, m]\n",
    "        # IOM block\n",
    "        for i = max(1, m - k + 1):m\n",
    "            H[i, m] = la.dot(w, V[:, i])\n",
    "            w = w - H[i, m]*V[:, i] \n",
    "        end\n",
    "        H[m+1, m] = la.norm(w)\n",
    "        V[:, m+1] = w/H[m+1, m]\n",
    "        # Update LU factorization of Hm, LU approach\n",
    "        L, U = la.lu(H[1:m, 1:m])\n",
    "        if U[m ,m] < eps()\n",
    "            break\n",
    "        end\n",
    "        zeta = m == 1 ? beta : -L[m, m-1] * zeta    \n",
    "        i = m - k + 1\n",
    "        sum_p = i <= 0 ? 0 : P[:, i:m-1] * U[i:m-1, m]  \n",
    "        P[:, m] = 1/U[m, m] * (V[:, m] .- sum_p)\n",
    "        x = x0 + zeta*P[:, m]\n",
    "        println(\"x[$m] = $x\")\n",
    "        if la.norm(x - x0) < tol\n",
    "            break\n",
    "        end\n",
    "        # updating for next step\n",
    "        x0 = copy(x)\n",
    "    end\n",
    "end"
   ]
  },
  {
   "cell_type": "code",
   "execution_count": 19,
   "metadata": {},
   "outputs": [
    {
     "name": "stdout",
     "output_type": "stream",
     "text": [
      "x[0] = [0.0, 0.0, 0.0, 0.0, 0.0, 0.0]\n",
      "x[1] = [0.0, 1.069915254237288, 0.0, 1.2838983050847455, -0.4279661016949152, 1.2838983050847455]\n",
      "x[2] = [1.0223756706686236, 1.6864518923080625, 1.0223756706686236, 2.0609195678848975, 0.8310997762432935, 2.0609195678848975]\n",
      "x[3] = [0.9907832820475928, 1.99163513765398, 0.9907832820475928, 2.0053245062998073, 1.0118246060372202, 2.0053245062998073]\n"
     ]
    }
   ],
   "source": [
    "m = 3\n",
    "k = 2\n",
    "DIOM(A, b, x0, m, k)"
   ]
  },
  {
   "cell_type": "markdown",
   "metadata": {},
   "source": [
    "## The Generalized Minimum Residual Method (GMRES)"
   ]
  },
  {
   "cell_type": "code",
   "execution_count": 20,
   "metadata": {},
   "outputs": [
    {
     "data": {
      "text/plain": [
       "omega (generic function with 1 method)"
      ]
     },
     "execution_count": 20,
     "metadata": {},
     "output_type": "execute_result"
    }
   ],
   "source": [
    "function omega(H:: Matrix, i:: Int64)\n",
    "    # Input: (m + 1) x m matrix H and column i\n",
    "    # Output: (m + 1) x (m + 1) matrix O\n",
    "    m = size(H, 2)\n",
    "    O = 1.0 * Matrix(la.I, m + 1, m + 1) \n",
    "    hyp = sqrt(H[i, i]^2 + H[i + 1, i]^2)\n",
    "    si = H[i + 1, i]/hyp\n",
    "    ci = H[i, i]/hyp\n",
    "    \n",
    "    O[i, i] = ci\n",
    "    O[i, i + 1] = si\n",
    "    O[i + 1, i] = -si\n",
    "    O[i + 1, i + 1] = ci\n",
    "    return O \n",
    "end"
   ]
  },
  {
   "cell_type": "code",
   "execution_count": 21,
   "metadata": {},
   "outputs": [
    {
     "data": {
      "text/plain": [
       "givens (generic function with 1 method)"
      ]
     },
     "execution_count": 21,
     "metadata": {},
     "output_type": "execute_result"
    }
   ],
   "source": [
    "function givens(H:: Matrix, beta:: Vector)\n",
    "    # Input: (m + 1)xm matrix H and (m + 1)x1 vector beta\n",
    "    # Output: m x m upper triangular matrix R and mx1 vector beta\n",
    "    m = size(H, 2)\n",
    "    R = copy(H)\n",
    "    for i = 1:m\n",
    "        upper_omega = omega(R, i)\n",
    "        beta = upper_omega * beta\n",
    "        R = upper_omega * R # makes 0 (i, i+1) element of H\n",
    "    end\n",
    "    # delete last row of R and beta; page 176 book 1\n",
    "    return R[1:m, :], beta[1:m]\n",
    "end"
   ]
  },
  {
   "cell_type": "code",
   "execution_count": 22,
   "metadata": {},
   "outputs": [
    {
     "data": {
      "text/plain": [
       "e_vector (generic function with 1 method)"
      ]
     },
     "execution_count": 22,
     "metadata": {},
     "output_type": "execute_result"
    }
   ],
   "source": [
    "function e_vector(m:: Int64, k:: Int64)\n",
    "    e = zeros(m)\n",
    "    e[k] = 1.0\n",
    "    return e\n",
    "end"
   ]
  },
  {
   "cell_type": "code",
   "execution_count": 23,
   "metadata": {},
   "outputs": [
    {
     "data": {
      "text/plain": [
       "restarted_GMRES (generic function with 2 methods)"
      ]
     },
     "execution_count": 23,
     "metadata": {},
     "output_type": "execute_result"
    }
   ],
   "source": [
    "function restarted_GMRES(A:: Matrix, b:: Vector, x0:: Vector, m:: Int64, tol=1.0e-5)\n",
    "    # Solve Ax = b using the GMRES method\n",
    "    # Input: n x n matrix A, n x 1 vector b,\n",
    "    # initial approximation x0, integer m < n,\n",
    "    # error tolerance tol\n",
    "    println(\"x[0] = $x0\")\n",
    "    for i = 1:MAX_ITER\n",
    "        r = b - A*x0\n",
    "        # Arnoldi process\n",
    "        H, V = arnoldi(A, r, m)\n",
    "        beta = la.norm(r)\n",
    "        # GMRES process\n",
    "        # Solve the (m + 1)xm least-squares problem using Givens transformation\n",
    "        R, g = givens(H, beta*e_vector(m + 1, 1))\n",
    "        y = la.inv(R)*g\n",
    "        x = x0 + V[:, 1:m]*y\n",
    "        println(\"x[$i] = $x\")\n",
    "        if la.norm(x0 - x) < tol\n",
    "            print(\"Number of iterations: $i\")\n",
    "            return nothing\n",
    "        end\n",
    "        x0 = copy(x)\n",
    "    end\n",
    "end"
   ]
  },
  {
   "cell_type": "code",
   "execution_count": 24,
   "metadata": {},
   "outputs": [
    {
     "name": "stdout",
     "output_type": "stream",
     "text": [
      "x[0] = [0.0, 0.0, 0.0, 0.0, 0.0, 0.0]\n",
      "x[1] = [1.0000000000000002, 1.9999999999999996, 1.0000000000000002, 2.0, 1.0, 2.0]\n",
      "x[2] = [0.9999999999999999, 1.9999999999999998, 0.9999999999999999, 2.0, 0.9999999999999999, 2.0]\n",
      "Number of iterations: 2"
     ]
    }
   ],
   "source": [
    "m = 4\n",
    "restarted_GMRES(A, b, x0, m)"
   ]
  },
  {
   "cell_type": "code",
   "execution_count": 25,
   "metadata": {},
   "outputs": [
    {
     "data": {
      "text/plain": [
       "QGMRES (generic function with 2 methods)"
      ]
     },
     "execution_count": 25,
     "metadata": {},
     "output_type": "execute_result"
    }
   ],
   "source": [
    "function QGMRES(A:: Matrix, b:: Vector, x0:: Vector, m:: Int64, k:: Int64, tol=1.0e-5)\n",
    "    # Solve Ax = b using the GMRES method\n",
    "    # Input: n x n matrix A, n x 1 vector b,\n",
    "    # initial approximation x0, integer m < n,\n",
    "    # error tolerance tol\n",
    "    println(\"x[0] = $x0\")\n",
    "    for i = 1:MAX_ITER\n",
    "        r = b - A*x0\n",
    "        # Arnoldi process\n",
    "        H, V = incomplete_arnoldi(A, r, m, k)\n",
    "        beta = la.norm(r)\n",
    "        # GMRES process\n",
    "        # Solve the (m + 1)xm least-squares problem using Givens transformation\n",
    "        R, g = givens(H, beta*e_vector(m + 1, 1))\n",
    "        y = la.inv(R)*g\n",
    "        x = x0 + V[:, 1:m]*y\n",
    "        println(\"x[$i] = $x\")\n",
    "        if la.norm(x0 - x) < tol\n",
    "            print(\"Number of iterations: $i\")\n",
    "            return nothing\n",
    "        end\n",
    "        x0 = copy(x)\n",
    "    end\n",
    "end"
   ]
  },
  {
   "cell_type": "code",
   "execution_count": 26,
   "metadata": {},
   "outputs": [
    {
     "name": "stdout",
     "output_type": "stream",
     "text": [
      "x[0] = [0.0, 0.0, 0.0, 0.0, 0.0, 0.0]\n",
      "x[1] = [0.9905665343243522, 1.9904398530223675, 0.9905665343243522, 2.0051849096588614, 1.0109017962460918, 2.0051849096588614]\n",
      "x[2] = [0.9999434000739091, 1.9998868001478183, 0.9999434000739091, 1.9998868001478183, 0.999943400073909, 1.9998868001478183]\n",
      "x[3] = [0.99999946606654, 1.9999994588963876, 0.99999946606654, 2.0000002934655035, 1.0000006170408617, 2.0000002934655035]\n",
      "x[4] = [0.9999999967964484, 1.9999999935928967, 0.9999999967964484, 1.9999999935928967, 0.9999999967964484, 1.9999999935928967]\n",
      "Number of iterations: 4"
     ]
    }
   ],
   "source": [
    "m = 3\n",
    "k = 2\n",
    "QGMRES(A, b, x0, m, k)"
   ]
  },
  {
   "cell_type": "code",
   "execution_count": 27,
   "metadata": {},
   "outputs": [
    {
     "data": {
      "text/plain": [
       "DQGMRES (generic function with 2 methods)"
      ]
     },
     "execution_count": 27,
     "metadata": {},
     "output_type": "execute_result"
    }
   ],
   "source": [
    "function DQGMRES(A:: Matrix, b:: Vector, x0:: Vector, m_max:: Int64, k::Int64, tol=1.0e-8)\n",
    "    n = size(A, 1)\n",
    "    V = zeros(n, 1)\n",
    "    H = zeros(m_max + 1, m_max)\n",
    "    P = zeros(n, m_max)\n",
    "\n",
    "    r0 = b - A*x0\n",
    "    gamma0 = la.norm(r0)\n",
    "    V[:, 1] = r0/gamma0\n",
    "    println(\"x[0] = $x0\")\n",
    "    for m = 1:m_max\n",
    "        w = A*V[:, m]\n",
    "        for i = max(1, m - k + 1):m\n",
    "            H[i, m] = la.dot(w, V[:, i])\n",
    "            w = w - H[i, m]*V[:, i] \n",
    "        end\n",
    "        H[m+1, m] = la.norm(w)\n",
    "        V = hcat(V, w/H[m+1, m])\n",
    "        \n",
    "        # Apply Ωi, i = m - k,... ,m - 1 to the m-th column of bar Hm\n",
    "        for i = max(1, m - k):m - 1\n",
    "            upper_omega = omega(H, i)\n",
    "            H[:, m] = upper_omega * H[:, m]\n",
    "        end\n",
    "        # Compute the rotation coefficients cm, sm\n",
    "        hyp = sqrt(H[m, m]^2 + H[m + 1, m]^2)\n",
    "        sm = H[m + 1, m]/hyp\n",
    "        cm = H[m, m]/hyp\n",
    "\n",
    "        # Apply Ωm to bar H_m and g_m, i.e., Compute:\n",
    "        gamma = -sm*gamma0\n",
    "        gamma0 = cm*gamma0\n",
    "        H[m, m] = cm*H[m, m] + sm*H[m + 1, m]\n",
    "\n",
    "        i = max(1, m - k)\n",
    "        P[:, m] = (V[:, m] -  P[:, i:m - 1]*H[i:m - 1, m])/H[m, m]\n",
    "  \n",
    "        x = x0 + gamma0*P[:, m]\n",
    "        println(\"x[$m] = $x\")\n",
    "        if la.norm(x - x0) < tol\n",
    "            return x\n",
    "        end\n",
    "        # updating for next step\n",
    "        x0 = copy(x)\n",
    "        gamma0 = gamma\n",
    "    end\n",
    "end"
   ]
  },
  {
   "cell_type": "code",
   "execution_count": 28,
   "metadata": {},
   "outputs": [
    {
     "name": "stdout",
     "output_type": "stream",
     "text": [
      "x[0] = [0.0, 0.0, 0.0, 0.0, 0.0, 0.0]\n",
      "x[1] = [0.0, 0.8731039585645578, 0.0, 1.0477247502774694, -0.3492415834258231, 1.0477247502774694]\n",
      "x[2] = [0.8766716154479135, 1.5565693183758973, 0.8766716154479135, 1.8997621498855464, 0.6684704699456592, 1.8997621498855464]\n",
      "x[3] = [0.9266091450709274, 1.902449128381932, 0.9266091450709274, 1.9251104279744615, 0.9287876058819408, 1.9251104279744615]\n"
     ]
    }
   ],
   "source": [
    "m = 3\n",
    "k = 2\n",
    "DQGMRES(A, b, x0, m, k)"
   ]
  },
  {
   "cell_type": "markdown",
   "metadata": {},
   "source": [
    "## The Conjugate Gradient Algorithm "
   ]
  },
  {
   "cell_type": "code",
   "execution_count": 29,
   "metadata": {},
   "outputs": [
    {
     "data": {
      "text/plain": [
       "lanczos_method (generic function with 2 methods)"
      ]
     },
     "execution_count": 29,
     "metadata": {},
     "output_type": "execute_result"
    }
   ],
   "source": [
    "function lanczos_method(A:: Matrix, b:: Vector, x0:: Vector, m:: Int64, tol=1e-6)\n",
    "    # Input: nxn symmetric matrix A \n",
    "    n = size(A, 1)\n",
    "    V = zeros((n, m + 1))\n",
    "    beta = zeros(m + 1, 1)\n",
    "    alpha = zeros(m, 1)\n",
    "    println(\"x[0] = $x0\")\n",
    "    for i=1:MAX_ITER\n",
    "        r = b - A*x0\n",
    "        beta[1] = la.norm(r)\n",
    "        V[:, 1] =  r/beta[1]\n",
    "        for j = 1:m\n",
    "            prod = j == 1 ? 0 : beta[j]*V[:, j - 1]\n",
    "            w = A*V[:, j] .- prod\n",
    "            alpha[j] = la.dot(w, V[:, j])\n",
    "            beta[j + 1] = la.norm(w)\n",
    "            if beta[j + 1] < eps()\n",
    "                m = j\n",
    "                break\n",
    "            end\n",
    "            V[:, j+1] = w/beta[j + 1]\n",
    "        end\n",
    "        T = la.Tridiagonal(beta[2:m], alpha[:], beta[2:m])\n",
    "        y = la.inv(T)[:, 1] * beta[1]\n",
    "        x = x0 + V[:, 1:m]*y\n",
    "        println(\"x[$i] = $x\")\n",
    "        if la.norm(x - x0) < tol\n",
    "            break\n",
    "        end\n",
    "        # updating for next step\n",
    "        x0 = copy(x)\n",
    "    end\n",
    "end"
   ]
  },
  {
   "cell_type": "code",
   "execution_count": 30,
   "metadata": {},
   "outputs": [
    {
     "name": "stdout",
     "output_type": "stream",
     "text": [
      "x[0] = [0.0, 0.0, 0.0, 0.0, 0.0, 0.0]\n",
      "x[1] = [0.7315640375864656, 0.9184794147188459, 0.7315640375864656, 1.323855555665741, 0.5480080061784134, 1.323855555665741]\n",
      "x[2] = [0.9162952947096374, 1.655941988496957, 0.9162952947096374, 1.7321302495216035, 0.9031871567881293, 1.7321302495216033]\n",
      "x[3] = [0.9889186220531084, 1.889484414260903, 0.9889186220531085, 1.931818235814557, 0.9751155864869308, 1.931818235814557]\n",
      "x[4] = [0.9959439567438422, 1.9793370865896136, 0.9959439567438423, 1.9804450214285771, 0.9990476163774417, 1.9804450214285771]\n",
      "x[5] = [0.9996288693413997, 1.9925943035288467, 0.9996288693413996, 1.9969042427382877, 0.9972826257130405, 1.996904242738288]\n",
      "x[6] = [0.9991786129834699, 1.9982075031913884, 0.9991786129834698, 1.9982757183189264, 0.9993537807541217, 1.9982757183189264]\n",
      "x[7] = [0.999823410181305, 1.9991073018456744, 0.999823410181305, 1.999464589264727, 0.9996374510804579, 1.999464589264727]\n",
      "x[8] = [0.9999310435605264, 1.9997409105908446, 0.9999310435605264, 1.999787299552622, 0.9999380477369046, 1.999787299552622]\n",
      "x[9] = [0.9999928344211799, 1.9999111582018363, 0.9999928344211799, 1.9999490521879453, 0.9999752813578189, 1.9999490521879453]\n",
      "x[10] = [0.9999943216686947, 1.9999824117435012, 0.9999943216686947, 1.9999824421910162, 0.9999983749307628, 1.9999824421910162]\n",
      "x[11] = [0.9999991683333138, 1.9999923338939118, 0.9999991683333138, 1.9999962525627197, 0.9999966812713773, 1.9999962525627197]\n",
      "x[12] = [0.9999991827269822, 1.9999979087970967, 0.9999991827269823, 1.999998121517157, 0.9999993673216993, 1.9999981215171572]\n",
      "x[13] = [0.9999998574112132, 1.9999990778464876, 0.9999998574112131, 1.999999457441067, 0.9999996533069186, 1.999999457441067]\n",
      "x[14] = [0.9999999315391634, 1.999999758760244, 0.9999999315391637, 1.9999997914702563, 0.9999999538791022, 1.9999997914702565]\n"
     ]
    }
   ],
   "source": [
    "m = 3\n",
    "lanczos_method(A, b, x0, m)"
   ]
  },
  {
   "cell_type": "code",
   "execution_count": 31,
   "metadata": {},
   "outputs": [
    {
     "data": {
      "text/plain": [
       "D_lanczos (generic function with 2 methods)"
      ]
     },
     "execution_count": 31,
     "metadata": {},
     "output_type": "execute_result"
    }
   ],
   "source": [
    "function D_lanczos(A:: Matrix, b:: Vector, x0:: Vector, tol=1e-6)\n",
    "    # Input: nxn symmetric matrix A \n",
    "    n = size(A, 1)\n",
    "\n",
    "    r = b - A*x0\n",
    "    beta = la.norm(r)\n",
    "    zeta = beta\n",
    "    v =  r/beta\n",
    "    lambda = 0\n",
    "    p = zeros(n)\n",
    "    v0 = zeros(n)\n",
    "    nu = 0\n",
    "    println(\"x[0] = $x0\")\n",
    "    for m = 1:MAX_ITER\n",
    "        w = A*v - beta * v0\n",
    "        alpha = la.dot(w, v)\n",
    "        if m > 1\n",
    "            lambda = beta/nu\n",
    "            zeta = -lambda * zeta\n",
    "        end\n",
    "        nu = alpha - lambda * beta\n",
    "        p = 1/nu * (v - beta*p)\n",
    "        x = x0 + zeta * p\n",
    "        println(\"x[$m] = $x\")\n",
    "        if la.norm(x - x0) < tol\n",
    "            break\n",
    "        end\n",
    "        # updating for next step\n",
    "        v0 = copy(v)\n",
    "        x0 = copy(x)\n",
    "        w = w - alpha * v\n",
    "        beta = la.norm(w)\n",
    "        v = w/beta\n",
    "    end\n",
    "end"
   ]
  },
  {
   "cell_type": "code",
   "execution_count": 32,
   "metadata": {},
   "outputs": [
    {
     "name": "stdout",
     "output_type": "stream",
     "text": [
      "x[0] = [0.0, 0.0, 0.0, 0.0, 0.0, 0.0]\n",
      "x[1] = [0.0, 1.069915254237288, 0.0, 1.2838983050847455, -0.4279661016949152, 1.2838983050847455]\n",
      "x[2] = [1.022375670668624, 1.686451892308063, 1.022375670668624, 2.0609195678848975, 0.8310997762432939, 2.0609195678848975]\n",
      "x[3] = [0.990783282047593, 1.9916351376539798, 0.990783282047593, 2.0053245062998073, 1.0118246060372205, 2.0053245062998073]\n",
      "x[4] = [1.0, 2.0, 1.0, 1.9999999999999998, 1.0000000000000002, 1.9999999999999998]\n",
      "x[5] = [0.9999999999999999, 1.9999999999999998, 0.9999999999999999, 1.9999999999999996, 1.0, 1.9999999999999996]\n"
     ]
    }
   ],
   "source": [
    "D_lanczos(A, b, x0)"
   ]
  },
  {
   "cell_type": "code",
   "execution_count": 33,
   "metadata": {},
   "outputs": [
    {
     "data": {
      "text/plain": [
       "conjugate_gradient (generic function with 2 methods)"
      ]
     },
     "execution_count": 33,
     "metadata": {},
     "output_type": "execute_result"
    }
   ],
   "source": [
    "function conjugate_gradient(A:: Matrix, b:: Vector, x0:: Vector, tol=1e-6)\n",
    "    r0 = b - A*x0\n",
    "    p = copy(r)\n",
    "    println(\"x[0] = $x0\")\n",
    "    for j = 0:MAX_ITER\n",
    "        Apj = A*p\n",
    "        alpha = la.dot(r0, r0)/la.dot(Apj, pj)\n",
    "        x = x0 + alpha*p\n",
    "        println(\"x[$j] = $x\")\n",
    "        if la.norm(x - x0) < tol\n",
    "            break\n",
    "        end\n",
    "        # upload for next step \n",
    "        r = r0 - alpha*Apj\n",
    "        beta = la.dot(r, r)/la.dot(r0, r0)\n",
    "        p = r + beta*p\n",
    "        x0 = copy(x)\n",
    "        r0 = copy(r)\n",
    "    end\n",
    "end"
   ]
  },
  {
   "cell_type": "code",
   "execution_count": 34,
   "metadata": {},
   "outputs": [
    {
     "name": "stdout",
     "output_type": "stream",
     "text": [
      "x[0] = [0.0, 0.0, 0.0, 0.0, 0.0, 0.0]\n",
      "x[1] = [0.0, 1.069915254237288, 0.0, 1.2838983050847455, -0.4279661016949152, 1.2838983050847455]\n",
      "x[2] = [1.022375670668624, 1.686451892308063, 1.022375670668624, 2.0609195678848975, 0.8310997762432939, 2.0609195678848975]\n",
      "x[3] = [0.990783282047593, 1.9916351376539798, 0.990783282047593, 2.0053245062998073, 1.0118246060372205, 2.0053245062998073]\n",
      "x[4] = [1.0, 2.0, 1.0, 1.9999999999999998, 1.0000000000000002, 1.9999999999999998]\n",
      "x[5] = [0.9999999999999999, 1.9999999999999998, 0.9999999999999999, 1.9999999999999996, 1.0, 1.9999999999999996]\n"
     ]
    }
   ],
   "source": [
    "D_lanczos(A, b, x0)"
   ]
  },
  {
   "cell_type": "code",
   "execution_count": 96,
   "metadata": {},
   "outputs": [
    {
     "data": {
      "text/plain": [
       "three_term_recurrence_variant (generic function with 2 methods)"
      ]
     },
     "execution_count": 96,
     "metadata": {},
     "output_type": "execute_result"
    }
   ],
   "source": [
    "function three_term_recurrence_variant(A:: Matrix, b:: Vector, x0:: Vector, tol=1e-4)\n",
    "    r0 = b - A*x0\n",
    "    r_1 = copy(r0)\n",
    "    x_1 = zeros(size(x0, 1))\n",
    "    rho = 1\n",
    "    lambda0 = 1\n",
    "    println(\"x[0] = $x0\")\n",
    "    for j = 1:MAX_ITER\n",
    "        # Compute\n",
    "        Arj = A*r0\n",
    "        r0r0 = la.dot(r0, r0)\n",
    "        lambda = r0r0/la.dot(Arj, r0)\n",
    "        if j > 1\n",
    "            rho = 1/(1 - lambda/lambda0*r0r0/la.dot(r_1, r_1)/rho)\n",
    "        end\n",
    "        x = rho*(x0 - lambda*r0) + (1 - rho)*x_1\n",
    "        println(\"x[$j] = $x\")\n",
    "        if la.norm(x - x0) < tol\n",
    "            break\n",
    "        end\n",
    "        r = rho*(r0 - lambda*Arj) + (1 - rho)*r_1\n",
    "        x_1 = copy(x0)\n",
    "        r_1 = copy(r0)\n",
    "        x0 = copy(x)\n",
    "        r0 = copy(r)\n",
    "    end\n",
    "end"
   ]
  },
  {
   "cell_type": "code",
   "execution_count": 97,
   "metadata": {},
   "outputs": [
    {
     "name": "stdout",
     "output_type": "stream",
     "text": [
      "x[0] = [0.0, 0.0, 0.0, 0.0, 0.0, 0.0]\n",
      "x[1] = [0.0, -1.0699152542372883, 0.0, -1.283898305084746, 0.4279661016949153, -1.283898305084746]\n",
      "x[2] = [-0.7519426297309695, -1.2403611580345604, -0.7519426297309695, -1.5157767579953259, -0.6112619551172401, -1.5157767579953259]\n",
      "x[3] = [-0.7520007819516021, -1.755508422469578, -0.7520007819516021, -1.8368169858434036, -0.6520353687935404, -1.8368169858434036]\n",
      "x[4] = [-0.9331203789147096, -1.8220689396166918, -0.9331203789147096, -1.870008370729975, -0.9084938383980552, -1.870008370729975]\n",
      "x[5] = [-0.9384999100434439, -1.941608580885393, -0.9384999100434439, -1.9575257397553416, -0.9126686788843739, -1.9575257397553416]\n",
      "x[6] = [-0.983682626914038, -1.954604341604342, -0.983682626914038, -1.9682954154875605, -0.976627154829443, -1.9682954154875605]\n",
      "x[7] = [-0.984606464344812, -1.9851272074407733, -0.984606464344812, -1.9896166953579142, -0.9782712037378275, -1.9896166953579142]\n",
      "x[8] = [-0.9958910124420388, -1.988771745782775, -0.9958910124420388, -1.9920196761921998, -0.9942198775750174, -1.9920196761921998]\n",
      "x[9] = [-0.9961638701487864, -1.9963225947960206, -0.9961638701487864, -1.9973850476125483, -0.9945703689826837, -1.9973850476125483]\n",
      "x[10] = [-0.9989785293634384, -1.9971878971023245, -0.9989785293634384, -1.9980158859748236, -0.9985521221033157, -1.9980158859748236]\n",
      "x[11] = [-0.9990421572125625, -1.999078635475631, -0.9990421572125625, -1.999350090190748, -0.9986458994412034, -1.999350090190748]\n",
      "x[12] = [-0.9997446849552631, -1.9992993679139999, -0.9997446849552631, -1.999504110113784, -0.9996392861973334, -1.999504110113784]\n",
      "x[13] = [-0.9997610424507699, -1.99977048643233, -0.9997610424507699, -1.9998375363880303, -0.9996620093406261, -1.9998375363880303]\n",
      "x[14] = [-0.9999363337513104, -1.9998250459943847, -0.9999363337513104, -1.9998763395056702, -0.9999099237626483, -1.9998763395056702]\n",
      "x[15] = [-0.9999403637571296, -1.9999426834104757, -0.9999403637571296, -1.999959489821178, -0.999915667438931, -1.999959489821178]\n",
      "x[16] = [-0.9999841078484085, -1.9999563548196004, -0.9999841078484085, -1.9999691327059979, -0.9999775292835021, -1.9999691327059979]\n"
     ]
    }
   ],
   "source": [
    "three_term_recurrence_variant(A, b, x0)"
   ]
  },
  {
   "cell_type": "code",
   "execution_count": 102,
   "metadata": {},
   "outputs": [
    {
     "data": {
      "text/plain": [
       "conjugate_residual (generic function with 2 methods)"
      ]
     },
     "execution_count": 102,
     "metadata": {},
     "output_type": "execute_result"
    }
   ],
   "source": [
    "function conjugate_residual(A:: Matrix, b:: Vector, x0:: Vector, tol=1e-6)\n",
    "    r = b - A*x0\n",
    "    p = copy(r)\n",
    "    println(\"x[0] = $x0\")\n",
    "    for j = 1:MAX_ITER\n",
    "        Ap = A*p\n",
    "        rAr = la.dot(r, A*r)    # old r\n",
    "        alpha = rAr/la.dot(Ap, Ap)\n",
    "        x = x0 + alpha*p\n",
    "        println(\"x[$j] = $x\")\n",
    "        if la.norm(x - x0) < tol\n",
    "            break\n",
    "        end\n",
    "        r = r - alpha*Ap        # new r\n",
    "        beta = la.dot(r, A*r)/rAr\n",
    "        p = r + beta*p\n",
    "        # update for the next step\n",
    "        x0 = copy(x)\n",
    "    end\n",
    "end"
   ]
  },
  {
   "cell_type": "code",
   "execution_count": 103,
   "metadata": {},
   "outputs": [
    {
     "name": "stdout",
     "output_type": "stream",
     "text": [
      "x[0] = [0.0, 0.0, 0.0, 0.0, 0.0, 0.0]\n",
      "x[1] = [0.0, 0.8731039585645579, 0.0, 1.0477247502774696, -0.3492415834258232, 1.0477247502774696]\n",
      "x[2] = [0.9207874560540965, 1.6056336893520193, 0.9207874560540965, 1.9602436074425722, 0.7138153231752253, 1.9602436074425722]\n",
      "x[3] = [0.9905665343243518, 1.990439853022367, 0.9905665343243518, 2.005184909658861, 1.0109017962460913, 2.005184909658861]\n",
      "x[4] = [0.9999999999999999, 1.9999999999999996, 0.9999999999999999, 1.9999999999999998, 0.9999999999999999, 1.9999999999999998]\n",
      "x[5] = [0.9999999999999999, 1.9999999999999996, 0.9999999999999999, 1.9999999999999998, 0.9999999999999999, 1.9999999999999998]\n"
     ]
    }
   ],
   "source": [
    "conjugate_residual(A, b, x0)"
   ]
  },
  {
   "cell_type": "code",
   "execution_count": 129,
   "metadata": {},
   "outputs": [
    {
     "data": {
      "text/plain": [
       "GCR (generic function with 2 methods)"
      ]
     },
     "execution_count": 129,
     "metadata": {},
     "output_type": "execute_result"
    }
   ],
   "source": [
    "function GCR(A:: Matrix, b:: Vector, x0:: Vector, tol=1e-6)\n",
    "    r = b - A*x0\n",
    "    P = copy(r)\n",
    "    println(\"x[0] = $x0\")\n",
    "    for j = 1:MAX_ITER\n",
    "        Ap = A*P[:, j]\n",
    "        alpha = la.dot(r, Ap)/la.dot(Ap, Ap)\n",
    "        x = x0 + alpha*P[:, j]\n",
    "        println(\"x[$j] = $x\")\n",
    "        if la.norm(x - x0) < tol\n",
    "            break\n",
    "        end\n",
    "        r = r - alpha*Ap\n",
    "        beta = zeros(j, 1)\n",
    "        for i = 1:j\n",
    "            Ap = A*P[:, i]\n",
    "            beta[i] = -la.dot(A*r, Ap)/la.dot(Ap, Ap)\n",
    "        end\n",
    "        \n",
    "        p = r + P*beta\n",
    "        P = hcat(P, p)\n",
    "        # update for the next step\n",
    "        x0 = copy(x)\n",
    "    end\n",
    "end"
   ]
  },
  {
   "cell_type": "code",
   "execution_count": 130,
   "metadata": {},
   "outputs": [
    {
     "name": "stdout",
     "output_type": "stream",
     "text": [
      "x[0] = [0.0, 0.0, 0.0, 0.0, 0.0, 0.0]\n",
      "x[1] = [0.0, 0.8731039585645579, 0.0, 1.0477247502774696, -0.3492415834258232, 1.0477247502774696]\n",
      "x[2] = [0.9207874560540968, 1.6056336893520198, 0.9207874560540968, 1.9602436074425729, 0.7138153231752253, 1.9602436074425729]\n",
      "x[3] = [0.9905665343243522, 1.9904398530223673, 0.9905665343243522, 2.0051849096588614, 1.0109017962460916, 2.0051849096588614]\n",
      "x[4] = [1.0, 1.9999999999999998, 1.0, 2.0000000000000004, 1.0, 2.0000000000000004]\n",
      "x[5] = [1.0, 1.9999999999999998, 1.0, 2.0000000000000004, 1.0, 2.0000000000000004]\n"
     ]
    }
   ],
   "source": [
    "GCR(A, b, x0)"
   ]
  }
 ],
 "metadata": {
  "kernelspec": {
   "display_name": "Julia 1.7.2",
   "language": "julia",
   "name": "julia-1.7"
  },
  "language_info": {
   "file_extension": ".jl",
   "mimetype": "application/julia",
   "name": "julia",
   "version": "1.7.2"
  },
  "orig_nbformat": 4
 },
 "nbformat": 4,
 "nbformat_minor": 2
}
