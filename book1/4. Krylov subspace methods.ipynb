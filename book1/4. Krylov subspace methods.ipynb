{
 "cells": [
  {
   "cell_type": "markdown",
   "metadata": {},
   "source": [
    "## Arnoldi's methods"
   ]
  },
  {
   "cell_type": "code",
   "execution_count": 1,
   "metadata": {},
   "outputs": [],
   "source": [
    "import LinearAlgebra\n",
    "const la = LinearAlgebra\n",
    "MAX_ITER = 100;"
   ]
  },
  {
   "cell_type": "code",
   "execution_count": 2,
   "metadata": {},
   "outputs": [],
   "source": [
    "A = [4. -1 0 -1 0 0;\n",
    "     -1 4 -1 0 -1 0;\n",
    "     0 -1 4. 0 0 -1;\n",
    "     -1 0 0. 4 -1 0;\n",
    "     0 -1 0 -1 4 -1;\n",
    "     0 0 -1 0. -1 4]\n",
    "\n",
    "b = [0, 5, 0, 6, -2, 6.]\n",
    "\n",
    "x0 = zeros(size(b));\n",
    "# n\n",
    "v = [1., 0, 2, 0, 1, 1];"
   ]
  },
  {
   "cell_type": "markdown",
   "metadata": {},
   "source": [
    "### Arnoldi\n",
    "Input: $A\\in\\mathbb{R}^{n\\times m}=[a_1,...,a_m], v\\in\\mathbb{R}^{n}$ any vector"
   ]
  },
  {
   "cell_type": "code",
   "execution_count": 3,
   "metadata": {},
   "outputs": [
    {
     "data": {
      "text/plain": [
       "arnoldi (generic function with 1 method)"
      ]
     },
     "execution_count": 3,
     "metadata": {},
     "output_type": "execute_result"
    }
   ],
   "source": [
    "function arnoldi(A:: Matrix, v:: Vector)\n",
    "    # input: A\n",
    "    n, m = size(A)\n",
    "    V = zeros((n, m + 1))\n",
    "    H = zeros((m + 1, m))\n",
    "    V[:, 1] = v/la.norm(v)\n",
    "    for j = 1:m\n",
    "        for i = 1:j\n",
    "            H[i, j] = la.dot(A*V[:, j], V[:, i])\n",
    "        end\n",
    "        w = A*V[:, j] - V[:, 1:j]*H[1:j, j]\n",
    "        H[j+1, j] = la.norm(w)\n",
    "        if H[j+1, j] == 0.0\n",
    "            break\n",
    "        end\n",
    "        V[:, j+1] = w/H[j+1, j]\n",
    "    end\n",
    "    H[1:m, :], V[:, 1:m]\n",
    "end"
   ]
  },
  {
   "cell_type": "code",
   "execution_count": 4,
   "metadata": {},
   "outputs": [
    {
     "data": {
      "text/plain": [
       "6×6 Matrix{Float64}:\n",
       " 3.14286  1.92195  -2.77556e-15  1.3628e-14   -4.20552e-13  2.95582\n",
       " 1.92195  4.6472    1.18932      1.21569e-14  -3.72813e-13  2.61937\n",
       " 0.0      1.18932   3.95556      0.812257     -2.72227e-13  1.91409\n",
       " 0.0      0.0       0.812257     3.67305       0.114091     0.726769\n",
       " 0.0      0.0       0.0          0.114091      3.58133      0.027598\n",
       " 0.0      0.0       0.0          0.0           5.08975e-13  3.76061"
      ]
     },
     "metadata": {},
     "output_type": "display_data"
    },
    {
     "data": {
      "text/plain": [
       "6×6 Matrix{Float64}:\n",
       " 0.377964   0.168563    0.289595   -0.585252    0.390312   0.413137\n",
       " 0.0       -0.786629    0.191845    0.228787    0.540433   0.0436258\n",
       " 0.755929   0.140469   -0.282287    0.128662    0.2502     0.581096\n",
       " 0.0       -0.393314    0.0959226  -0.699892   -0.310248  -0.0562773\n",
       " 0.377964  -0.0280939   0.750937    0.313906   -0.440352   0.692342\n",
       " 0.377964  -0.421408   -0.475959    0.0140224  -0.45036    0.0850704"
      ]
     },
     "metadata": {},
     "output_type": "display_data"
    }
   ],
   "source": [
    "H, V = arnoldi(A, v);\n",
    "display(H)\n",
    "display(V)"
   ]
  },
  {
   "cell_type": "markdown",
   "metadata": {},
   "source": [
    "### Arnoldi-Modified Gram-Schmidt"
   ]
  },
  {
   "cell_type": "code",
   "execution_count": 5,
   "metadata": {},
   "outputs": [
    {
     "data": {
      "text/plain": [
       "arnoldi_modified (generic function with 1 method)"
      ]
     },
     "execution_count": 5,
     "metadata": {},
     "output_type": "execute_result"
    }
   ],
   "source": [
    "function arnoldi_modified(A:: Matrix, v:: Vector)\n",
    "    n, m = size(A)\n",
    "    \n",
    "    V = zeros((n, m + 1))\n",
    "    H = zeros((m + 1, m))\n",
    "    \n",
    "    V[:, 1] = v/la.norm(v)\n",
    "    for j = 1:m\n",
    "        w = A*V[:, j]\n",
    "        for i = 1:j\n",
    "            H[i, j] = la.dot(w, V[:, i])\n",
    "            w = w - H[i, j]*V[:, i] \n",
    "        end\n",
    "        H[j+1, j] = la.norm(w)\n",
    "        if H[j+1, j] < eps()\n",
    "            break\n",
    "        end\n",
    "        V[:, j+1] = w/H[j+1, j]\n",
    "    end\n",
    "    # Hm the matrix obtained from \\hat Hm\n",
    "    H[1:m, :], V[:, 1:m]\n",
    "end"
   ]
  },
  {
   "cell_type": "code",
   "execution_count": 6,
   "metadata": {},
   "outputs": [
    {
     "data": {
      "text/plain": [
       "6×6 Matrix{Float64}:\n",
       " 3.14286  1.92195  -2.9976e-15  1.4766e-14   -4.53748e-13   3.40829\n",
       " 1.92195  4.6472    1.18932     1.39333e-14  -4.19331e-13   3.14904\n",
       " 0.0      1.18932   3.95556     0.812257     -1.56986e-13   1.1831\n",
       " 0.0      0.0       0.812257    3.67305       0.114091      0.156279\n",
       " 0.0      0.0       0.0         0.114091      3.58133      -0.00235184\n",
       " 0.0      0.0       0.0         0.0           4.76224e-13   3.91318e-5"
      ]
     },
     "metadata": {},
     "output_type": "display_data"
    },
    {
     "data": {
      "text/plain": [
       "6×6 Matrix{Float64}:\n",
       " 0.377964   0.168563    0.289595   -0.585252    0.390312   0.469524\n",
       " 0.0       -0.786629    0.191845    0.228787    0.540433  -0.136148\n",
       " 0.755929   0.140469   -0.282287    0.128662    0.2502     0.678409\n",
       " 0.0       -0.393314    0.0959226  -0.699892   -0.310248  -0.0620126\n",
       " 0.377964  -0.0280939   0.750937    0.313906   -0.440352   0.523144\n",
       " 0.377964  -0.421408   -0.475959    0.0140224  -0.45036    0.152467"
      ]
     },
     "metadata": {},
     "output_type": "display_data"
    }
   ],
   "source": [
    "H, V = arnoldi_modified(A, v);\n",
    "display(H)\n",
    "display(V)"
   ]
  },
  {
   "cell_type": "markdown",
   "metadata": {},
   "source": [
    "### Householder Arnoldi"
   ]
  },
  {
   "cell_type": "code",
   "execution_count": 7,
   "metadata": {},
   "outputs": [
    {
     "data": {
      "text/plain": [
       "householder_arnoldi (generic function with 1 method)"
      ]
     },
     "execution_count": 7,
     "metadata": {},
     "output_type": "execute_result"
    }
   ],
   "source": [
    "function householder_arnoldi(A:: Matrix, v:: Vector)\n",
    "    n, m = size(A)\n",
    "    I = 1.0 * Matrix(la.I, n, n) \n",
    "    V = zeros((n, m))\n",
    "    H = zeros((m, m + 1))\n",
    "    Z = zeros((m, m + 1))\n",
    "\n",
    "    Z[:, 1] = v\n",
    "    Q = I\n",
    "    for j=1:m\n",
    "        # w calculus\n",
    "        beta = sign(Z[j, j]) * la.norm(Z[j:end, j])\n",
    "        z = zeros(n)\n",
    "        for i = 1:n\n",
    "            if i == j\n",
    "                z[i] = beta + Z[j, j]\n",
    "            elseif i > j\n",
    "                z[i] = Z[i, j]\n",
    "            end\n",
    "        end\n",
    "        w = z / la.norm(z)\n",
    "        P = I - 2 * w * w'\n",
    "\n",
    "        # hj-1\n",
    "        H[:, j] = P * Z[:, j]\n",
    "\n",
    "        Q = P * Q\n",
    "        V[:, j] = Q'[:, j] \n",
    "        if j <= m\n",
    "            Z[:, j + 1] = Q * A * V[:, j]\n",
    "        end\n",
    "    end\n",
    "    H[:, m + 1] = Q * A * V[:, m]\n",
    "    return H[:, 2:end], V\n",
    "end"
   ]
  },
  {
   "cell_type": "code",
   "execution_count": 8,
   "metadata": {},
   "outputs": [
    {
     "name": "stdout",
     "output_type": "stream",
     "text": [
      "6×6 Matrix{Float64}:\n",
      "  3.14286      -1.92195      -4.44089e-16  -8.32667e-17   4.44089e-16  -2.22045e-16\n",
      " -1.92195       4.6472        1.18932      -3.60822e-16  -2.22045e-16   2.22045e-16\n",
      "  1.56125e-17   1.18932       3.95556       0.812257     -1.11022e-16  -4.44089e-16\n",
      "  6.93889e-17   1.73472e-17   0.812257      3.67305       0.114091      2.98372e-16\n",
      "  1.73472e-17   1.66533e-16  -7.48099e-17   0.114091      3.58133       5.28466e-14\n",
      " -1.11022e-16  -1.11022e-16   2.77556e-17  -1.38778e-17   5.26246e-14   5.0"
     ]
    },
    {
     "data": {
      "text/plain": [
       "6×6 Matrix{Float64}:\n",
       " -0.377964   0.168563    0.289595   -0.585252    0.390312  -0.5\n",
       "  0.0       -0.786629    0.191845    0.228787    0.540433  -2.07057e-14\n",
       " -0.755929   0.140469   -0.282287    0.128662    0.2502     0.5\n",
       "  0.0       -0.393314    0.0959226  -0.699892   -0.310248   0.5\n",
       " -0.377964  -0.0280939   0.750937    0.313906   -0.440352   1.52656e-14\n",
       " -0.377964  -0.421408   -0.475959    0.0140224  -0.45036   -0.5"
      ]
     },
     "metadata": {},
     "output_type": "display_data"
    }
   ],
   "source": [
    "v = [1., 0, 2, 0, 1, 1];\n",
    "H, V = householder_arnoldi(A, v);\n",
    "show(IOContext(stdout, :limit => false), \"text/plain\", H)\n",
    "display(V)"
   ]
  },
  {
   "cell_type": "markdown",
   "metadata": {},
   "source": [
    "## Arnoldi’s Method for Linear Systems (FOM)"
   ]
  },
  {
   "cell_type": "code",
   "execution_count": 9,
   "metadata": {},
   "outputs": [
    {
     "data": {
      "text/plain": [
       "FOM (generic function with 1 method)"
      ]
     },
     "execution_count": 9,
     "metadata": {},
     "output_type": "execute_result"
    }
   ],
   "source": [
    "function FOM(A:: Matrix, b:: Vector, x0:: Vector)\n",
    "    n, m = size(A)\n",
    "    r0 = b - A*x0\n",
    "    beta = la.norm(r0)\n",
    "    V = zeros((n, m+1))\n",
    "    H = zeros((m+1, m))\n",
    "\n",
    "    V[:, 1] = r0/beta\n",
    "    for j=1:m\n",
    "        w = A*V[:, j]\n",
    "        for i=1:j\n",
    "            H[i, j] = la.dot(w, V[:, i])\n",
    "            w = w - H[i, j]*V[:, i]\n",
    "        end\n",
    "        H[j+1, j] = la.norm(w)\n",
    "        if H[j+1, j] < eps()\n",
    "            m = j\n",
    "            break\n",
    "        end\n",
    "        V[:, j+1] = w/H[j+1, j]\n",
    "    end\n",
    "    H[1:m, :], V[:, 1:m], beta\n",
    "end"
   ]
  },
  {
   "cell_type": "code",
   "execution_count": 10,
   "metadata": {},
   "outputs": [
    {
     "data": {
      "text/plain": [
       "6-element Vector{Float64}:\n",
       " 0.9999999999999929\n",
       " 2.000000000000032\n",
       " 0.9999999999999929\n",
       " 2.0\n",
       " 1.0\n",
       " 2.0"
      ]
     },
     "execution_count": 10,
     "metadata": {},
     "output_type": "execute_result"
    }
   ],
   "source": [
    "H, V, beta = FOM(A, b, x0)\n",
    "y = la.inv(H)[:, 1] * beta\n",
    "x = x0 + V*y"
   ]
  },
  {
   "cell_type": "code",
   "execution_count": 11,
   "metadata": {},
   "outputs": [
    {
     "data": {
      "text/plain": [
       "restarted_FOM (generic function with 2 methods)"
      ]
     },
     "execution_count": 11,
     "metadata": {},
     "output_type": "execute_result"
    }
   ],
   "source": [
    "function restarted_FOM(A:: Matrix, b:: Vector, x0:: Vector, tol=1.0e-6)\n",
    "    println(\"x[0] = $x0\")\n",
    "    for i=1:2\n",
    "        r = b - A*x0\n",
    "        beta = la.norm(r)\n",
    "        v = r/beta\n",
    "\n",
    "        H, V = householder_arnoldi(A, v)\n",
    "        y = la.inv(H)[:, 1] * beta\n",
    "        x = x0 + V*y\n",
    "        println(\"x[$i] = $x\")\n",
    "        if la.norm(x - x0) < tol\n",
    "            break\n",
    "        end\n",
    "        # updating for next step\n",
    "        x0 = copy(x)\n",
    "    end\n",
    "end"
   ]
  },
  {
   "cell_type": "code",
   "execution_count": 12,
   "metadata": {},
   "outputs": [
    {
     "name": "stdout",
     "output_type": "stream",
     "text": [
      "x[0] = [0.0, 0.0, 0.0, 0.0, 0.0, 0.0]\n",
      "x[1] = [2.9629446965789126, 0.9363238156323809, 0.2829778642800082, 0.8655793495623784, 0.499372701670603, 0.19558764148765254]\n",
      "x[2] = [0.9999999999999978, 1.9999999999999996, 0.9999999999999998, 1.9999999999999996, 0.9999999999999998, 2.0]\n"
     ]
    }
   ],
   "source": [
    "restarted_FOM(A, b, x0)"
   ]
  },
  {
   "cell_type": "markdown",
   "metadata": {},
   "source": [
    "### Incomplete Orthogonalization Process"
   ]
  },
  {
   "cell_type": "code",
   "execution_count": 13,
   "metadata": {},
   "outputs": [
    {
     "data": {
      "text/plain": [
       "IOM (generic function with 1 method)"
      ]
     },
     "execution_count": 13,
     "metadata": {},
     "output_type": "execute_result"
    }
   ],
   "source": [
    "function IOM(A:: Matrix, b:: Vector, x0:: Vector, m:: Int64, k:: Int64)\n",
    "    n = size(A, 1)\n",
    "    V = zeros((n, m+1))\n",
    "    H = zeros((m+1, m))\n",
    "    \n",
    "    r = b - A*x0\n",
    "    beta = la.norm(r)\n",
    "    V[:, 1] = r/beta\n",
    "    for j = 1:m\n",
    "        w = A*V[:, j]\n",
    "        for i = max(1, j - k + 1):j\n",
    "            H[i, j] = la.dot(w, V[:, i])\n",
    "            w = w - H[i, j]*V[:, i] \n",
    "        end\n",
    "        H[j+1, j] = la.norm(w)\n",
    "        V[:, j+1] = w/H[j+1, j]\n",
    "    end\n",
    "    return H[1:m, :], V[:, 1:m], beta\n",
    "end"
   ]
  },
  {
   "cell_type": "code",
   "execution_count": 14,
   "metadata": {},
   "outputs": [
    {
     "data": {
      "text/plain": [
       "5×5 Matrix{Float64}:\n",
       " 4.67327  2.21877   3.747e-15   0.0          0.0\n",
       " 2.21877  3.35573   0.690815   -4.07868e-14  0.0\n",
       " 0.0      0.690815  4.32887     0.217999     2.94568\n",
       " 0.0      0.0       0.217999    3.64213      0.0487366\n",
       " 0.0      0.0       0.0         2.80489e-14  1.76082"
      ]
     },
     "metadata": {},
     "output_type": "display_data"
    },
    {
     "data": {
      "text/plain": [
       "6×5 Matrix{Float64}:\n",
       "  0.0       -0.493309   -0.238968  -0.446699  -0.308737\n",
       "  0.497519  -0.0612751   0.7893    -0.354578   0.134578\n",
       "  0.0       -0.493309   -0.238968  -0.446699  -0.308737\n",
       "  0.597022  -0.0914687  -0.272545   0.246814  -0.625391\n",
       " -0.199007  -0.702       0.337983   0.59444    0.0949961\n",
       "  0.597022  -0.0914687  -0.272545   0.246814  -0.625391"
      ]
     },
     "metadata": {},
     "output_type": "display_data"
    }
   ],
   "source": [
    "m = 5\n",
    "k = 3\n",
    "H, V = IOM(A, b, x0, m, k)\n",
    "display(H)\n",
    "display(V)"
   ]
  },
  {
   "cell_type": "markdown",
   "metadata": {},
   "source": [
    "### DIOM"
   ]
  },
  {
   "cell_type": "code",
   "execution_count": 15,
   "metadata": {},
   "outputs": [
    {
     "data": {
      "text/plain": [
       "DIOM (generic function with 2 methods)"
      ]
     },
     "execution_count": 15,
     "metadata": {},
     "output_type": "execute_result"
    }
   ],
   "source": [
    "function DIOM(A:: Matrix, b:: Vector, x0:: Vector, tol=1.0e-6)\n",
    "    n, m = size(A)\n",
    "    k = 2\n",
    "\n",
    "    V = zeros((n, m + 1))\n",
    "    P = zeros((n, m))\n",
    "    H = zeros((m + 1, m))\n",
    "    \n",
    "    r0 = b - A*x0\n",
    "    beta = la.norm(r0)\n",
    "    zeta = beta\n",
    "    V[:, 1] = r0/beta\n",
    "\n",
    "    println(\"x[0] = $x0\")\n",
    "    for j=1:MAX_ITER\n",
    "\n",
    "        w = A*V[:, j]\n",
    "        # IOM block\n",
    "        for i = max(1, j - k + 1):j\n",
    "            H[i, j] = la.dot(w, V[:, i])\n",
    "            w = w - H[i, j]*V[:, i] \n",
    "        end\n",
    "        H[j+1, j] = la.norm(w)\n",
    "        V[:, j+1] = w/H[j+1, j]\n",
    "        # update LU factorization\n",
    "        L, U = la.lu(H[1:j, 1:j])\n",
    "        if U[j ,j] < eps()\n",
    "            break\n",
    "        end\n",
    "        zeta = j == 1 ? beta : -L[j, j-1]*zeta  \n",
    "        \n",
    "        i = j - k + 1\n",
    "        vector_sum = i <= 0 ? zeros(m) : P[:, i:j-1]*U[i:j-1, j]  \n",
    "        P[:, j] = 1/U[j, j]*(V[:, j] - vector_sum)\n",
    "            \n",
    "        x = x0 + zeta*P[:, j]\n",
    "        \n",
    "        println(\"x[$j] = $x\")\n",
    "        if la.norm(x - x0) < tol\n",
    "            break\n",
    "        end\n",
    "        # updating for next step\n",
    "        x0 = copy(x)\n",
    "    end\n",
    "end"
   ]
  },
  {
   "cell_type": "code",
   "execution_count": 16,
   "metadata": {},
   "outputs": [
    {
     "name": "stdout",
     "output_type": "stream",
     "text": [
      "x[0] = [0.0, 0.0, 0.0, 0.0, 0.0, 0.0]\n",
      "x[1] = [0.0, 1.069915254237288, 0.0, 1.2838983050847455, -0.4279661016949152, 1.2838983050847455]\n",
      "x[2] = [1.0223756706686236, 1.6864518923080625, 1.0223756706686236, 2.0609195678848975, 0.8310997762432935, 2.0609195678848975]\n",
      "x[3] = [0.9907832820475928, 1.99163513765398, 0.9907832820475928, 2.0053245062998073, 1.0118246060372202, 2.0053245062998073]\n",
      "x[4] = [1.0, 2.0, 1.0, 1.9999999999999998, 1.0000000000000002, 1.9999999999999998]\n",
      "x[5] = [1.0, 2.0, 1.0, 1.9999999999999998, 1.0000000000000002, 1.9999999999999998]\n"
     ]
    }
   ],
   "source": [
    "DIOM(A, b, x0)"
   ]
  },
  {
   "cell_type": "markdown",
   "metadata": {},
   "source": [
    "## The Generalized Minimum Residual Method (GMRES)"
   ]
  },
  {
   "cell_type": "code",
   "execution_count": 17,
   "metadata": {},
   "outputs": [
    {
     "data": {
      "text/plain": [
       "givens_transformation (generic function with 1 method)"
      ]
     },
     "execution_count": 17,
     "metadata": {},
     "output_type": "execute_result"
    }
   ],
   "source": [
    "function givens_transformation(H:: Matrix, i:: Int64)\n",
    "    # H is a nxm Hessemberg matrix\n",
    "    # i row\n",
    "    n, m = size(H)\n",
    "    upper_omega = 1.0 * Matrix(la.I, n, n) \n",
    "    hyp = sqrt(H[i, i]^2 + H[i + 1, i]^2)\n",
    "    si = H[i + 1, i]/hyp\n",
    "    ci = H[i, i]/hyp\n",
    "    \n",
    "    upper_omega[i, i] = ci\n",
    "    upper_omega[i, i + 1] = si\n",
    "    upper_omega[i + 1, i] = -si\n",
    "    upper_omega[i + 1, i + 1] = ci\n",
    "    return upper_omega \n",
    "end\n"
   ]
  },
  {
   "cell_type": "code",
   "execution_count": 18,
   "metadata": {},
   "outputs": [
    {
     "data": {
      "text/plain": [
       "6×5 Matrix{Float64}:\n",
       " 3.16228  5.05964  1.58114  7.58947   2.52982\n",
       " 0.0      3.2249   3.10087  2.97683   3.47297\n",
       " 0.0      0.0      1.69842  3.98562  -1.63048\n",
       " 0.0      0.0      0.0      3.10698   5.45867\n",
       " 0.0      0.0      0.0      0.0       4.13314\n",
       " 0.0      0.0      0.0      0.0       0.0"
      ]
     },
     "execution_count": 18,
     "metadata": {},
     "output_type": "execute_result"
    }
   ],
   "source": [
    "H = [1 4 2 3 5;\n",
    "     3 4 1 7 1;\n",
    "     0 2 3 4 0;\n",
    "     0 0 1 3 1;\n",
    "     0 0 0 3 5;\n",
    "     0 0 0 0 4.]\n",
    "\n",
    "n, m = size(H)\n",
    "for i=1:m\n",
    "    upper_omega = givens_transformation(H, i)\n",
    "    H = upper_omega * H\n",
    "end\n",
    "H"
   ]
  },
  {
   "cell_type": "code",
   "execution_count": 19,
   "metadata": {},
   "outputs": [
    {
     "data": {
      "text/plain": [
       "DQGMRES (generic function with 2 methods)"
      ]
     },
     "execution_count": 19,
     "metadata": {},
     "output_type": "execute_result"
    }
   ],
   "source": [
    "function DQGMRES(A:: Matrix, b:: Vector, x0:: Vector, tol=1.0e-6)\n",
    "    n, M = size(A)\n",
    "    k = 1\n",
    "\n",
    "    V = zeros((M, M+1))\n",
    "    H = zeros((M+1, M))\n",
    "    P = zeros((M, M))\n",
    "    gamma = zeros(M)\n",
    "\n",
    "    r0 = b - A*x0\n",
    "    gamma[1] = la.norm(r0)\n",
    "    V[:, 1] = r0/gamma[1]\n",
    "\n",
    "    for m=1:MAX_ITER\n",
    "        w = A*V[:, m]\n",
    "        for i = max(1, m - k + 1):m\n",
    "            H[i, m] = la.dot(w, V[:, i])\n",
    "            w = w - H[i, m]*V[:, i] \n",
    "        end\n",
    "        H[m+1, m] = la.norm(w)\n",
    "        V[:, m+1] = w/H[m+1, m]\n",
    "        \n",
    "        \n",
    "        H[1:m, 1:m] = Qm*H[1:m, 1:m]\n",
    "\n",
    "        s_m = s(m, H)\n",
    "        c_m = c(m, H)\n",
    "\n",
    "        gamma[m + 1] = -s_m*gamma[m]\n",
    "        gamma[m] = c_m*gamma[m]\n",
    "        H[m, m] = c_m*H[m, m] + s_m*H[m+1, m]\n",
    "        i = m - k + 1\n",
    "        sum = i > 0 ? P[:, i:m-1]*H[i:m-1, m] : zeros(M)\n",
    "        \n",
    "        P[:, m] = (V[:, m] - sum)/H[m, m]\n",
    "        x = x0 + gamma[m]*P[:, m]\n",
    "        \n",
    "        if la.norm(x - x0) < tol\n",
    "            return x\n",
    "        end\n",
    "        # updating for next step\n",
    "        x0 = copy(x)\n",
    "    end\n",
    "    x\n",
    "end"
   ]
  },
  {
   "cell_type": "code",
   "execution_count": 20,
   "metadata": {},
   "outputs": [
    {
     "data": {
      "text/plain": [
       "DQGMRES (generic function with 2 methods)"
      ]
     },
     "execution_count": 20,
     "metadata": {},
     "output_type": "execute_result"
    }
   ],
   "source": [
    "function DQGMRES(A:: Matrix, b:: Vector, x0:: Vector, tol=1.0e-6)\n",
    "    n, m = size(A)\n",
    "    k = 1\n",
    "\n",
    "    V = zeros((n, m+1))\n",
    "    H = zeros((m+1, m))\n",
    "    P = zeros((n, n))\n",
    "    gamma = zeros(m)\n",
    "\n",
    "    r0 = b - A*x0\n",
    "    gamma[1] = la.norm(r0)\n",
    "    V[:, 1] = r0/gamma[1]\n",
    "\n",
    "    for j=1:MAX_ITER\n",
    "        w = A*V[:, j]\n",
    "        for i = max(1, j - k + 1):j\n",
    "            H[i, j] = la.dot(w, V[:, i])\n",
    "            w = w - H[i, j]*V[:, i] \n",
    "        end\n",
    "        H[j+1, j] = la.norm(w)\n",
    "        V[:, j+1] = w/H[j+1, j]\n",
    "        \n",
    "        for i = m-k:m-1\n",
    "            H = givens_transformation(H, i) * H\n",
    "        end\n",
    "\n",
    "        hyp = sqrt(H[j, j]^2 + H[j + 1, j]^2)\n",
    "        sj = H[j + 1, j]/hyp\n",
    "        cj = H[j, j]/hyp\n",
    "\n",
    "        gamma[j + 1] = -sj*gamma[j]\n",
    "        gamma[j] = cj*gamma[j]\n",
    "        H[j, j] = cj*H[j, j] + sj*H[j+1, j]\n",
    "        \n",
    "        P[:, j] = (V[:, j] - P[:, m-k:m-1]*H[m-k:m-1, j])/H[j, j]\n",
    "        x = x0 + gamma[j]*P[:, j]\n",
    "        \n",
    "        if la.norm(x - x0) < tol\n",
    "            return x\n",
    "        end\n",
    "        # updating for next step\n",
    "        x0 = copy(x)\n",
    "    end\n",
    "    x\n",
    "end"
   ]
  },
  {
   "cell_type": "code",
   "execution_count": 21,
   "metadata": {},
   "outputs": [
    {
     "ename": "LoadError",
     "evalue": "BoundsError: attempt to access 6-element Vector{Float64} at index [7]",
     "output_type": "error",
     "traceback": [
      "BoundsError: attempt to access 6-element Vector{Float64} at index [7]",
      "",
      "Stacktrace:",
      " [1] setindex!(A::Vector{Float64}, x::Float64, i1::Int64)",
      "   @ Base .\\array.jl:903",
      " [2] DQGMRES(A::Matrix{Float64}, b::Vector{Float64}, x0::Vector{Float64}, tol::Float64)",
      "   @ Main .\\In[20]:31",
      " [3] DQGMRES(A::Matrix{Float64}, b::Vector{Float64}, x0::Vector{Float64})",
      "   @ Main .\\In[20]:2",
      " [4] top-level scope",
      "   @ In[21]:1",
      " [5] eval",
      "   @ .\\boot.jl:373 [inlined]",
      " [6] include_string(mapexpr::typeof(REPL.softscope), mod::Module, code::String, filename::String)",
      "   @ Base .\\loading.jl:1196"
     ]
    }
   ],
   "source": [
    "x = DQGMRES(A, b, x0)\n",
    "x"
   ]
  },
  {
   "cell_type": "code",
   "execution_count": null,
   "metadata": {},
   "outputs": [],
   "source": []
  }
 ],
 "metadata": {
  "kernelspec": {
   "display_name": "Julia 1.7.2",
   "language": "julia",
   "name": "julia-1.7"
  },
  "language_info": {
   "file_extension": ".jl",
   "mimetype": "application/julia",
   "name": "julia",
   "version": "1.7.2"
  },
  "orig_nbformat": 4
 },
 "nbformat": 4,
 "nbformat_minor": 2
}
