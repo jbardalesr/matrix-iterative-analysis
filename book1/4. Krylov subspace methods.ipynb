{
 "cells": [
  {
   "cell_type": "markdown",
   "metadata": {},
   "source": [
    "## Arnoldi's methods"
   ]
  },
  {
   "cell_type": "code",
   "execution_count": 169,
   "metadata": {},
   "outputs": [],
   "source": [
    "import LinearAlgebra\n",
    "const la = LinearAlgebra\n",
    "MAX_ITER = 100;"
   ]
  },
  {
   "cell_type": "code",
   "execution_count": 170,
   "metadata": {},
   "outputs": [],
   "source": [
    "A = [4. -1 0 -1 0 0;\n",
    "     -1 4 -1 0 -1 0;\n",
    "     0 -1 4. 0 0 -1;\n",
    "     -1 0 0. 4 -1 0;\n",
    "     0 -1 0 -1 4 -1;\n",
    "     0 0 -1 0. -1 4]\n",
    "\n",
    "b = [0, 5, 0, 6, -2, 6.]\n",
    "\n",
    "x0 = zeros(size(b));\n",
    "# n\n",
    "v = [1., 0, 2, 0, 1, 1];"
   ]
  },
  {
   "cell_type": "markdown",
   "metadata": {},
   "source": [
    "### Arnoldi Gram-Schmidt\n",
    "Input: $A\\in\\mathbb{R}^{n\\times n}=[a_1,...,a_n], v\\in\\mathbb{R}^{n}$ any vector"
   ]
  },
  {
   "cell_type": "code",
   "execution_count": 171,
   "metadata": {},
   "outputs": [
    {
     "data": {
      "text/plain": [
       "arnoldi (generic function with 1 method)"
      ]
     },
     "execution_count": 171,
     "metadata": {},
     "output_type": "execute_result"
    }
   ],
   "source": [
    "function arnoldi(A:: Matrix, v:: Vector, m:: Int64)\n",
    "    # Input: nxn matrix A, nx1 column vector v, and integer m\n",
    "    # Output: (m + 1)xm matrix H and nx1 a nx(m + 1) matrix V\n",
    "    n = size(A, 1)\n",
    "    V = zeros((n, m + 1))\n",
    "    H = zeros((m + 1, m))\n",
    "    V[:, 1] = v/la.norm(v)\n",
    "    for j = 1:m\n",
    "        for i = 1:j\n",
    "            H[i, j] = la.dot(A*V[:, j], V[:, i])\n",
    "        end\n",
    "        w = A*V[:, j] - V[:, 1:j]*H[1:j, j]\n",
    "        H[j+1, j] = la.norm(w)\n",
    "        if H[j+1, j] < eps()\n",
    "            break\n",
    "        end\n",
    "        V[:, j+1] = w/H[j+1, j]\n",
    "    end\n",
    "    return H, V\n",
    "end"
   ]
  },
  {
   "cell_type": "code",
   "execution_count": 172,
   "metadata": {},
   "outputs": [
    {
     "data": {
      "text/plain": [
       "4×3 Matrix{Float64}:\n",
       " 3.14286  1.92195  -2.77556e-15\n",
       " 1.92195  4.6472    1.18932\n",
       " 0.0      1.18932   3.95556\n",
       " 0.0      0.0       0.812257"
      ]
     },
     "metadata": {},
     "output_type": "display_data"
    },
    {
     "data": {
      "text/plain": [
       "6×4 Matrix{Float64}:\n",
       " 0.377964   0.168563    0.289595   -0.585252\n",
       " 0.0       -0.786629    0.191845    0.228787\n",
       " 0.755929   0.140469   -0.282287    0.128662\n",
       " 0.0       -0.393314    0.0959226  -0.699892\n",
       " 0.377964  -0.0280939   0.750937    0.313906\n",
       " 0.377964  -0.421408   -0.475959    0.0140224"
      ]
     },
     "metadata": {},
     "output_type": "display_data"
    }
   ],
   "source": [
    "m = 3\n",
    "H, V = arnoldi(A, v, m);\n",
    "display(H)\n",
    "display(V)"
   ]
  },
  {
   "cell_type": "markdown",
   "metadata": {},
   "source": [
    "### Arnoldi-Modified Gram-Schmidt"
   ]
  },
  {
   "cell_type": "code",
   "execution_count": 173,
   "metadata": {},
   "outputs": [
    {
     "data": {
      "text/plain": [
       "arnoldi_modified (generic function with 1 method)"
      ]
     },
     "execution_count": 173,
     "metadata": {},
     "output_type": "execute_result"
    }
   ],
   "source": [
    "function arnoldi_modified(A:: Matrix, v:: Vector, m:: Int64)\n",
    "    # Input: nxn matrix A, nx1 column vector v, and integer m\n",
    "    # Output: (m + 1)xm matrix H and nx1 a nx(m + 1) matrix V\n",
    "    n = size(A, 1)\n",
    "    \n",
    "    H = zeros((m + 1, m))\n",
    "    V = zeros((n, m + 1))\n",
    "    \n",
    "    V[:, 1] = v/la.norm(v)\n",
    "    for j = 1:m\n",
    "        w = A*V[:, j]\n",
    "        for i = 1:j\n",
    "            H[i, j] = la.dot(w, V[:, i])\n",
    "            w = w - H[i, j]*V[:, i] \n",
    "        end\n",
    "        H[j+1, j] = la.norm(w)\n",
    "        if H[j+1, j] < eps()\n",
    "            break\n",
    "        end\n",
    "        V[:, j+1] = w/H[j+1, j]\n",
    "    end\n",
    "    return H, V\n",
    "end"
   ]
  },
  {
   "cell_type": "code",
   "execution_count": 174,
   "metadata": {},
   "outputs": [
    {
     "data": {
      "text/plain": [
       "4×3 Matrix{Float64}:\n",
       " 3.14286  1.92195  -2.9976e-15\n",
       " 1.92195  4.6472    1.18932\n",
       " 0.0      1.18932   3.95556\n",
       " 0.0      0.0       0.812257"
      ]
     },
     "metadata": {},
     "output_type": "display_data"
    },
    {
     "data": {
      "text/plain": [
       "6×4 Matrix{Float64}:\n",
       " 0.377964   0.168563    0.289595   -0.585252\n",
       " 0.0       -0.786629    0.191845    0.228787\n",
       " 0.755929   0.140469   -0.282287    0.128662\n",
       " 0.0       -0.393314    0.0959226  -0.699892\n",
       " 0.377964  -0.0280939   0.750937    0.313906\n",
       " 0.377964  -0.421408   -0.475959    0.0140224"
      ]
     },
     "metadata": {},
     "output_type": "display_data"
    }
   ],
   "source": [
    "m = 3\n",
    "H, V = arnoldi_modified(A, v, m)\n",
    "display(H)\n",
    "display(V)"
   ]
  },
  {
   "cell_type": "markdown",
   "metadata": {},
   "source": [
    "### Householder Arnoldi"
   ]
  },
  {
   "cell_type": "code",
   "execution_count": 175,
   "metadata": {},
   "outputs": [
    {
     "data": {
      "text/plain": [
       "householder_arnoldi (generic function with 1 method)"
      ]
     },
     "execution_count": 175,
     "metadata": {},
     "output_type": "execute_result"
    }
   ],
   "source": [
    "function householder_arnoldi(A:: Matrix, v:: Vector, m:: Int64)\n",
    "    # Input: nxn matrix A, nx1 column vector v, and integer m < n\n",
    "    # Output: nx(m+1) matrix H and an nxm orthonormal matrix V\n",
    "    n = size(A, 1)\n",
    "    I = 1.0 * Matrix(la.I, n, n)\n",
    "    V = zeros((n, m + 1))\n",
    "    H = zeros((n, m + 1))\n",
    "    Z = zeros((n, m + 1))\n",
    "\n",
    "    Z[:, 1] = v\n",
    "    Q = I\n",
    "    for j = 1:m + 1\n",
    "        # w calculus\n",
    "        val_sign = Z[j, j] >= 0.0 ? 1.0 : -1.0\n",
    "        beta = val_sign * la.norm(Z[j:end, j])\n",
    "        z = zeros(n)\n",
    "        z[j] = beta - Z[j, j] + eps()\n",
    "        for i = j + 1:n\n",
    "            z[i] = -Z[i, j]\n",
    "        end\n",
    "        w = z / la.norm(z)\n",
    "        # proyector\n",
    "        P = I - 2 * w * w'\n",
    "        # h_{j-1}\n",
    "        H[:, j] = P * Z[:, j]\n",
    "        # Pj*...*P2*P1\n",
    "        Q = P * Q\n",
    "        V[:, j] = Q'[:, j] # P1*P2...*Pj -> j-ésima\n",
    "        if j <= m\n",
    "            Z[:, j + 1] = Q * A * V[:, j]\n",
    "        end\n",
    "    end\n",
    "    # delete the column 0 and return a (m+1)xm matrix H\n",
    "    return H[1:m + 1, 2:m + 1], V\n",
    "end"
   ]
  },
  {
   "cell_type": "code",
   "execution_count": 176,
   "metadata": {},
   "outputs": [
    {
     "name": "stdout",
     "output_type": "stream",
     "text": [
      "5×4 Matrix{Float64}:\n",
      "  3.14286      -1.92195       0.0           2.22045e-16\n",
      " -1.92195       4.6472        1.18932      -2.77556e-16\n",
      " -2.77556e-16   1.18932       3.95556      -0.812257\n",
      "  2.77556e-16  -1.07499e-16  -0.812257      3.67305\n",
      " -5.55112e-17  -6.55942e-18   3.09757e-16   0.114091"
     ]
    },
    {
     "data": {
      "text/plain": [
       "6×5 Matrix{Float64}:\n",
       " 0.377964  -0.168563   -0.289595   -0.585252    0.390312\n",
       " 0.0        0.786629   -0.191845    0.228787    0.540433\n",
       " 0.755929  -0.140469    0.282287    0.128662    0.2502\n",
       " 0.0        0.393314   -0.0959226  -0.699892   -0.310248\n",
       " 0.377964   0.0280939  -0.750937    0.313906   -0.440352\n",
       " 0.377964   0.421408    0.475959    0.0140224  -0.45036"
      ]
     },
     "metadata": {},
     "output_type": "display_data"
    }
   ],
   "source": [
    "m = 4\n",
    "H, V = householder_arnoldi(A, v, m)\n",
    "show(IOContext(stdout, :limit => false), \"text/plain\", H)\n",
    "display(V)"
   ]
  },
  {
   "cell_type": "markdown",
   "metadata": {},
   "source": [
    "Se verifica $AV_m = V_{m+1}H$"
   ]
  },
  {
   "cell_type": "code",
   "execution_count": 177,
   "metadata": {},
   "outputs": [
    {
     "data": {
      "text/plain": [
       "true"
      ]
     },
     "execution_count": 177,
     "metadata": {},
     "output_type": "execute_result"
    }
   ],
   "source": [
    "isapprox(A*V[:, 1:m], V*H)"
   ]
  },
  {
   "cell_type": "markdown",
   "metadata": {},
   "source": [
    "## Arnoldi’s Method for Linear Systems (FOM)"
   ]
  },
  {
   "cell_type": "code",
   "execution_count": 178,
   "metadata": {},
   "outputs": [
    {
     "data": {
      "text/plain": [
       "FOM (generic function with 1 method)"
      ]
     },
     "execution_count": 178,
     "metadata": {},
     "output_type": "execute_result"
    }
   ],
   "source": [
    "function FOM(A:: Matrix, b:: Vector, x0:: Vector, m:: Int64)\n",
    "    r = b - A*x0\n",
    "    beta = la.norm(r)\n",
    "    v = r/beta\n",
    "    H, V = arnoldi_modified(A, v, m)\n",
    "    # delete last row of H and last column of V\n",
    "    H = H[1:m, :]\n",
    "    V = V[:, 1:m]\n",
    "    return H, V, beta\n",
    "end"
   ]
  },
  {
   "cell_type": "code",
   "execution_count": 179,
   "metadata": {},
   "outputs": [
    {
     "data": {
      "text/plain": [
       "6-element Vector{Float64}:\n",
       " 0.9999999999999999\n",
       " 1.9999999999999998\n",
       " 0.9999999999999999\n",
       " 2.0\n",
       " 0.9999999999999999\n",
       " 2.0"
      ]
     },
     "execution_count": 179,
     "metadata": {},
     "output_type": "execute_result"
    }
   ],
   "source": [
    "m = 4\n",
    "H, V, beta = FOM(A, b, x0, m)\n",
    "y = la.inv(H)[:, 1] * beta\n",
    "x = x0 + V*y"
   ]
  },
  {
   "cell_type": "code",
   "execution_count": 180,
   "metadata": {},
   "outputs": [
    {
     "data": {
      "text/plain": [
       "restarted_FOM (generic function with 2 methods)"
      ]
     },
     "execution_count": 180,
     "metadata": {},
     "output_type": "execute_result"
    }
   ],
   "source": [
    "function restarted_FOM(A:: Matrix, b:: Vector, x0:: Vector, m:: Int64, tol=1.0e-6)\n",
    "    println(\"x[0] = $x0\")\n",
    "    for i=1:MAX_ITER\n",
    "        H, V, beta = FOM(A, b, x0, m)\n",
    "        y = la.inv(H)[:, 1] * beta\n",
    "        x = x0 + V*y\n",
    "        println(\"x[$i] = $x\")\n",
    "        if la.norm(x - x0) < tol\n",
    "            break\n",
    "        end\n",
    "        # updating for next step\n",
    "        x0 = copy(x)\n",
    "    end\n",
    "end"
   ]
  },
  {
   "cell_type": "code",
   "execution_count": 181,
   "metadata": {},
   "outputs": [
    {
     "name": "stdout",
     "output_type": "stream",
     "text": [
      "x[0] = [0.0, 0.0, 0.0, 0.0, 0.0, 0.0]\n",
      "x[1] = [0.9999999999999999, 1.9999999999999998, 0.9999999999999999, 2.0, 0.9999999999999999, 2.0]\n",
      "x[2] = [1.0, 2.0, 1.0, 2.0, 1.0000000000000002, 2.0]\n"
     ]
    }
   ],
   "source": [
    "m = 4\n",
    "restarted_FOM(A, b, x0, m)"
   ]
  },
  {
   "cell_type": "markdown",
   "metadata": {},
   "source": [
    "## Incomplete Orthogonalization (IOM)"
   ]
  },
  {
   "cell_type": "markdown",
   "metadata": {},
   "source": [
    "### Incomplete Arnoldi Process"
   ]
  },
  {
   "cell_type": "code",
   "execution_count": 182,
   "metadata": {},
   "outputs": [
    {
     "data": {
      "text/plain": [
       "incomplete_arnoldi (generic function with 1 method)"
      ]
     },
     "execution_count": 182,
     "metadata": {},
     "output_type": "execute_result"
    }
   ],
   "source": [
    "function incomplete_arnoldi(A:: Matrix, v:: Vector, m:: Int64, k:: Int64)\n",
    "    n = size(A, 1)\n",
    "    V = zeros((n, m+1))\n",
    "    H = zeros((m+1, m))\n",
    "    V[:, 1] = v/la.norm(v)\n",
    "    for j = 1:m\n",
    "        w = A*V[:, j]\n",
    "        for i = max(1, j - k + 1):j\n",
    "            H[i, j] = la.dot(w, V[:, i])\n",
    "            w = w - H[i, j]*V[:, i] \n",
    "        end\n",
    "        H[j+1, j] = la.norm(w)\n",
    "        V[:, j+1] = w/H[j+1, j]\n",
    "    end\n",
    "    return H, V\n",
    "end"
   ]
  },
  {
   "cell_type": "code",
   "execution_count": 194,
   "metadata": {},
   "outputs": [
    {
     "data": {
      "text/plain": [
       "IOM (generic function with 1 method)"
      ]
     },
     "execution_count": 194,
     "metadata": {},
     "output_type": "execute_result"
    }
   ],
   "source": [
    "function IOM(A:: Matrix, b:: Vector, x0:: Vector, m:: Int64, k:: Int64)\n",
    "    r = b - A*x0\n",
    "    beta = la.norm(r)\n",
    "    v = r/beta\n",
    "    H, V = incomplete_arnoldi(A, v, m, k)\n",
    "    # delete last row of H and last column of V\n",
    "    # H = H[1:m, :]\n",
    "    # V = V[:, 1:m]\n",
    "    return H, V, beta\n",
    "end"
   ]
  },
  {
   "cell_type": "code",
   "execution_count": 195,
   "metadata": {},
   "outputs": [
    {
     "data": {
      "text/plain": [
       "6×5 Matrix{Float64}:\n",
       " 4.67327  2.21877   3.747e-15   0.0          0.0\n",
       " 2.21877  3.35573   0.690815   -4.07868e-14  0.0\n",
       " 0.0      0.690815  4.32887     0.217999     2.94568\n",
       " 0.0      0.0       0.217999    3.64213      0.0487366\n",
       " 0.0      0.0       0.0         2.80489e-14  1.76082\n",
       " 0.0      0.0       0.0         0.0          1.77754"
      ]
     },
     "metadata": {},
     "output_type": "display_data"
    },
    {
     "data": {
      "text/plain": [
       "6×6 Matrix{Float64}:\n",
       "  0.0       -0.493309   -0.238968  -0.446699  -0.308737    0.295458\n",
       "  0.497519  -0.0612751   0.7893    -0.354578   0.134578   -0.834818\n",
       "  0.0       -0.493309   -0.238968  -0.446699  -0.308737    0.295458\n",
       "  0.597022  -0.0914687  -0.272545   0.246814  -0.625391   -0.222677\n",
       " -0.199007  -0.702       0.337983   0.59444    0.0949961   0.171221\n",
       "  0.597022  -0.0914687  -0.272545   0.246814  -0.625391   -0.222677"
      ]
     },
     "metadata": {},
     "output_type": "display_data"
    }
   ],
   "source": [
    "m = 5\n",
    "k = 3\n",
    "H, V = IOM(A, b, x0, m, k)\n",
    "display(H)\n",
    "display(V)"
   ]
  },
  {
   "cell_type": "markdown",
   "metadata": {},
   "source": [
    "### DIOM\n",
    "We need to keep only the $k$ previous $v_i$  in thr Arnoldi process, and we wish to be able to discard the others. However, if we implement the IOM algoritm, we still face the difficulty that when we compute the solution by formula $x_m = x_0 + V_my_m$, we will again need all the vectors $v_i$. One option would be ti recompute them at the end, but this will essentially double the cost of the algorithm. This raise the question of developing a formula whereby the approximate solution can be easily compute from the previous approximation $x_{m-1}$ and a small number of vectors that are being updated at each step. This proceduce is called DIOM. And, of course, $m$ is increasing."
   ]
  },
  {
   "cell_type": "code",
   "execution_count": 196,
   "metadata": {},
   "outputs": [
    {
     "data": {
      "text/plain": [
       "DIOM (generic function with 2 methods)"
      ]
     },
     "execution_count": 196,
     "metadata": {},
     "output_type": "execute_result"
    }
   ],
   "source": [
    "function DIOM(A:: Matrix, b:: Vector, x0:: Vector, m_max:: Int, k:: Int, tol=1.0e-6)\n",
    "    n = size(A, 1)\n",
    "    V = zeros(n, m_max + 1)\n",
    "    H = zeros(m_max + 1, m_max)\n",
    "    P = zeros(n, m_max)\n",
    "    \n",
    "    r0 = b - A*x0\n",
    "    beta = la.norm(r0)\n",
    "    zeta = beta\n",
    "    V[:, 1] = r0/beta\n",
    "\n",
    "    println(\"x[0] = $x0\")\n",
    "    for m = 1:m_max\n",
    "        w = A*V[:, m]\n",
    "        # IOM block\n",
    "        for i = max(1, m - k + 1):m\n",
    "            H[i, m] = la.dot(w, V[:, i])\n",
    "            w = w - H[i, m]*V[:, i] \n",
    "        end\n",
    "        H[m+1, m] = la.norm(w)\n",
    "        V[:, m+1] = w/H[m+1, m]\n",
    "        # update LU factorization of Hm, LU approach\n",
    "        L, U = la.lu(H[1:m, 1:m])\n",
    "        if U[m ,m] < eps()\n",
    "            break\n",
    "        end\n",
    "        zeta = m == 1 ? beta : -L[m, m-1] * zeta    \n",
    "        i = m - k + 1\n",
    "        sum_p = i <= 0 ? 0 : P[:, i:m-1] * U[i:m-1, m]  \n",
    "        P[:, m] = 1/U[m, m] * (V[:, m] .- sum_p)\n",
    "        x = x0 + zeta*P[:, m]\n",
    "        println(\"x[$m] = $x\")\n",
    "        if la.norm(x - x0) < tol\n",
    "            break\n",
    "        end\n",
    "        # updating for next step\n",
    "        x0 = copy(x)\n",
    "    end\n",
    "end"
   ]
  },
  {
   "cell_type": "code",
   "execution_count": 197,
   "metadata": {},
   "outputs": [
    {
     "name": "stdout",
     "output_type": "stream",
     "text": [
      "x[0] = [0.0, 0.0, 0.0, 0.0, 0.0, 0.0]\n",
      "x[1] = [0.0, 1.069915254237288, 0.0, 1.2838983050847455, -0.4279661016949152, 1.2838983050847455]\n",
      "x[2] = [1.0223756706686236, 1.6864518923080625, 1.0223756706686236, 2.0609195678848975, 0.8310997762432935, 2.0609195678848975]\n",
      "x[3] = [0.9907832820475928, 1.99163513765398, 0.9907832820475928, 2.0053245062998073, 1.0118246060372202, 2.0053245062998073]\n",
      "x[4] = [1.0, 2.0, 1.0, 1.9999999999999998, 1.0000000000000002, 1.9999999999999998]\n"
     ]
    }
   ],
   "source": [
    "m = 4\n",
    "k = 2\n",
    "DIOM(A, b, x0, m, k)"
   ]
  },
  {
   "cell_type": "markdown",
   "metadata": {},
   "source": [
    "## The Generalized Minimum Residual Method (GMRES)"
   ]
  },
  {
   "cell_type": "code",
   "execution_count": 198,
   "metadata": {},
   "outputs": [
    {
     "data": {
      "text/plain": [
       "omega (generic function with 1 method)"
      ]
     },
     "execution_count": 198,
     "metadata": {},
     "output_type": "execute_result"
    }
   ],
   "source": [
    "function omega(H:: Matrix, i:: Int64)\n",
    "    # Input: (m + 1) x m matrix H and column i\n",
    "    # Output: (m + 1) x (m + 1) matrix O\n",
    "    m = size(H, 2)\n",
    "    O = 1.0 * Matrix(la.I, m + 1, m + 1) \n",
    "    hyp = sqrt(H[i, i]^2 + H[i + 1, i]^2)\n",
    "    si = H[i + 1, i]/hyp\n",
    "    ci = H[i, i]/hyp\n",
    "    \n",
    "    O[i, i] = ci\n",
    "    O[i, i + 1] = si\n",
    "    O[i + 1, i] = -si\n",
    "    O[i + 1, i + 1] = ci\n",
    "    return O \n",
    "end"
   ]
  },
  {
   "cell_type": "code",
   "execution_count": 199,
   "metadata": {},
   "outputs": [
    {
     "data": {
      "text/plain": [
       "givens (generic function with 1 method)"
      ]
     },
     "execution_count": 199,
     "metadata": {},
     "output_type": "execute_result"
    }
   ],
   "source": [
    "function givens(H:: Matrix, beta:: Vector)\n",
    "    # Input: (m + 1)xm matrix H and (m + 1)x1 vector beta\n",
    "    # Output: m x m upper triangular matrix R and mx1 vector beta\n",
    "    m = size(H, 2)\n",
    "    R = copy(H)\n",
    "    for i = 1:m\n",
    "        upper_omega = omega(R, i)\n",
    "        beta = upper_omega * beta\n",
    "        R = upper_omega * R # makes 0 (i, i+1) element of H\n",
    "    end\n",
    "    # delete last row of R and beta; page 176 book 1\n",
    "    return R[1:m, :], beta[1:m]\n",
    "end"
   ]
  },
  {
   "cell_type": "code",
   "execution_count": 200,
   "metadata": {},
   "outputs": [
    {
     "data": {
      "text/plain": [
       "e_vector (generic function with 1 method)"
      ]
     },
     "execution_count": 200,
     "metadata": {},
     "output_type": "execute_result"
    }
   ],
   "source": [
    "function e_vector(m:: Int64, k:: Int64)\n",
    "    e = zeros(m)\n",
    "    e[k] = 1.0\n",
    "    return e\n",
    "end"
   ]
  },
  {
   "cell_type": "code",
   "execution_count": 201,
   "metadata": {},
   "outputs": [
    {
     "data": {
      "text/plain": [
       "restarted_GMRES (generic function with 2 methods)"
      ]
     },
     "execution_count": 201,
     "metadata": {},
     "output_type": "execute_result"
    }
   ],
   "source": [
    "function restarted_GMRES(A:: Matrix, b:: Vector, x0:: Vector, m:: Int64, tol=1.0e-5)\n",
    "    # Solve Ax = b using the GMRES method\n",
    "    # Input: n x n matrix A, n x 1 vector b,\n",
    "    # initial approximation x0, integer m < n,\n",
    "    # error tolerance tol\n",
    "    println(\"x[0] = $x0\")\n",
    "    for i = 1:MAX_ITER\n",
    "        r = b - A*x0\n",
    "        # Arnoldi process\n",
    "        H, V = arnoldi(A, r, m)\n",
    "        beta = la.norm(r)\n",
    "        # GMRES process\n",
    "        # Solve the (m + 1)xm least-squares problem using Givens transformation\n",
    "        R, g = givens(H, beta*e_vector(m + 1, 1))\n",
    "        y = la.inv(R)*g\n",
    "        x = x0 + V[:, 1:m]*y\n",
    "        println(\"x[$i] = $x\")\n",
    "        if la.norm(x0 - x) < tol\n",
    "            print(\"Number of iterations: $i\")\n",
    "            return nothing\n",
    "        end\n",
    "        x0 = copy(x)\n",
    "    end\n",
    "end"
   ]
  },
  {
   "cell_type": "code",
   "execution_count": 202,
   "metadata": {},
   "outputs": [
    {
     "name": "stdout",
     "output_type": "stream",
     "text": [
      "x[0] = [0.0, 0.0, 0.0, 0.0, 0.0, 0.0]\n",
      "x[1] = [1.0000000000000002, 1.9999999999999996, 1.0000000000000002, 2.0, 1.0, 2.0]\n",
      "x[2] = [0.9999999999999999, 1.9999999999999998, 0.9999999999999999, 2.0, 0.9999999999999999, 2.0]\n",
      "Number of iterations: 2"
     ]
    }
   ],
   "source": [
    "m = 4\n",
    "restarted_GMRES(A, b, x0, m)"
   ]
  },
  {
   "cell_type": "code",
   "execution_count": 207,
   "metadata": {},
   "outputs": [
    {
     "data": {
      "text/plain": [
       "QGMRES (generic function with 2 methods)"
      ]
     },
     "execution_count": 207,
     "metadata": {},
     "output_type": "execute_result"
    }
   ],
   "source": [
    "function QGMRES(A:: Matrix, b:: Vector, x0:: Vector, m:: Int64, k:: Int64, tol=1.0e-5)\n",
    "    # Solve Ax = b using the GMRES method\n",
    "    # Input: n x n matrix A, n x 1 vector b,\n",
    "    # initial approximation x0, integer m < n,\n",
    "    # error tolerance tol\n",
    "    println(\"x[0] = $x0\")\n",
    "    for i = 1:MAX_ITER\n",
    "        r = b - A*x0\n",
    "        # Arnoldi process\n",
    "        H, V = incomplete_arnoldi(A, r, m, k)\n",
    "        print(\"Hola\")\n",
    "        beta = la.norm(r)\n",
    "        # GMRES process\n",
    "        # Solve the (m + 1)xm least-squares problem using Givens transformation\n",
    "        R, g = givens(H, beta*e_vector(m + 1, 1))\n",
    "        y = la.inv(R)*g\n",
    "        x = x0 + V[:, 1:m]*y\n",
    "        println(\"x[$i] = $x\")\n",
    "        if la.norm(x0 - x) < tol\n",
    "            print(\"Number of iterations: $i\")\n",
    "            return nothing\n",
    "        end\n",
    "        x0 = copy(x)\n",
    "    end\n",
    "end"
   ]
  },
  {
   "cell_type": "code",
   "execution_count": 210,
   "metadata": {},
   "outputs": [
    {
     "name": "stdout",
     "output_type": "stream",
     "text": [
      "x[0] = [0.0, 0.0, 0.0, 0.0, 0.0, 0.0]\n",
      "Holax[1] = [0.9905665343243522, 1.9904398530223675, 0.9905665343243522, 2.0051849096588614, 1.0109017962460918, 2.0051849096588614]\n",
      "Holax[2] = [0.9999434000739091, 1.9998868001478183, 0.9999434000739091, 1.9998868001478183, 0.999943400073909, 1.9998868001478183]\n",
      "Holax[3] = [0.99999946606654, 1.9999994588963876, 0.99999946606654, 2.0000002934655035, 1.0000006170408617, 2.0000002934655035]\n",
      "Holax[4] = [0.9999999967964484, 1.9999999935928967, 0.9999999967964484, 1.9999999935928967, 0.9999999967964484, 1.9999999935928967]\n",
      "Number of iterations: 4"
     ]
    }
   ],
   "source": [
    "m = 3\n",
    "k = 2\n",
    "QGMRES(A, b, x0, m, k)"
   ]
  },
  {
   "cell_type": "code",
   "execution_count": 234,
   "metadata": {},
   "outputs": [
    {
     "data": {
      "text/plain": [
       "DQGMRES (generic function with 2 methods)"
      ]
     },
     "execution_count": 234,
     "metadata": {},
     "output_type": "execute_result"
    }
   ],
   "source": [
    "function DQGMRES(A:: Matrix, b:: Vector, x0:: Vector, m_max:: Int64, k::Int64, tol=1.0e-6)\n",
    "    n = size(A, 1)\n",
    "    V = zeros(n, m_max + 1)\n",
    "    H = zeros(m_max + 1, m_max)\n",
    "    P = zeros(n, n)\n",
    "    gamma = zeros(m_max)\n",
    "\n",
    "    r0 = b - A*x0\n",
    "    gamma[1] = la.norm(r0)\n",
    "    V[:, 1] = r0/gamma[1]\n",
    "\n",
    "    for m = 1:m_max\n",
    "        w = A*V[:, m]\n",
    "        for i = max(1, m - k + 1):m\n",
    "            H[i, m] = la.dot(w, V[:, i])\n",
    "            w = w - H[i, m]*V[:, i] \n",
    "        end\n",
    "        H[m+1, m] = la.norm(w)\n",
    "        V[:, m+1] = w/H[m+1, m]\n",
    "\n",
    "        R, g = givens(H[1:m + 1, 1:m], beta*e_vector(m + 1, 1))\n",
    "        y = la.inv(R)*g\n",
    "        x = x0 + V[:, 1:m]*y\n",
    "        if la.norm(x - x0) < tol\n",
    "            return x\n",
    "        end\n",
    "        # updating for next step\n",
    "        x0 = copy(x)\n",
    "    end\n",
    "    x\n",
    "end"
   ]
  },
  {
   "cell_type": "code",
   "execution_count": 235,
   "metadata": {},
   "outputs": [
    {
     "data": {
      "text/plain": [
       "6-element Vector{Float64}:\n",
       " 0.9999999999999999\n",
       " 1.9999999999999998\n",
       " 0.9999999999999999\n",
       " 2.0\n",
       " 0.9999999999999999\n",
       " 2.0"
      ]
     },
     "execution_count": 235,
     "metadata": {},
     "output_type": "execute_result"
    }
   ],
   "source": [
    "m = 4\n",
    "k = 2\n",
    "DQGMRES(A, b, x0, m, k)"
   ]
  },
  {
   "cell_type": "code",
   "execution_count": null,
   "metadata": {},
   "outputs": [
    {
     "data": {
      "text/plain": [
       "DQGMRES (generic function with 4 methods)"
      ]
     },
     "execution_count": 26,
     "metadata": {},
     "output_type": "execute_result"
    }
   ],
   "source": [
    "function DQGMRES(A:: Matrix, b:: Vector, x0:: Vector, tol=1.0e-6)\n",
    "    n, m = size(A)\n",
    "    k = 1\n",
    "\n",
    "    V = zeros((n, m+1))\n",
    "    H = zeros((m+1, m))\n",
    "    P = zeros((n, n))\n",
    "    gamma = zeros(m)\n",
    "\n",
    "    r0 = b - A*x0\n",
    "    gamma[1] = la.norm(r0)\n",
    "    V[:, 1] = r0/gamma[1]\n",
    "\n",
    "    for j=1:MAX_ITER\n",
    "        w = A*V[:, j]\n",
    "        for i = max(1, j - k + 1):j\n",
    "            H[i, j] = la.dot(w, V[:, i])\n",
    "            w = w - H[i, j]*V[:, i] \n",
    "        end\n",
    "        H[j+1, j] = la.norm(w)\n",
    "        V[:, j+1] = w/H[j+1, j]\n",
    "        \n",
    "        for i = m-k:m-1\n",
    "            H = givens_transformation(H, i) * H\n",
    "        end\n",
    "\n",
    "        hyp = sqrt(H[j, j]^2 + H[j + 1, j]^2)\n",
    "        sj = H[j + 1, j]/hyp\n",
    "        cj = H[j, j]/hyp\n",
    "\n",
    "        gamma[j + 1] = -sj*gamma[j]\n",
    "        gamma[j] = cj*gamma[j]\n",
    "        H[j, j] = cj*H[j, j] + sj*H[j+1, j]\n",
    "        \n",
    "        P[:, j] = (V[:, j] - P[:, m-k:m-1]*H[m-k:m-1, j])/H[j, j]\n",
    "        x = x0 + gamma[j]*P[:, j]\n",
    "        \n",
    "        if la.norm(x - x0) < tol\n",
    "            return x\n",
    "        end\n",
    "        # updating for next step\n",
    "        x0 = copy(x)\n",
    "    end\n",
    "    x\n",
    "end"
   ]
  }
 ],
 "metadata": {
  "kernelspec": {
   "display_name": "Julia 1.7.2",
   "language": "julia",
   "name": "julia-1.7"
  },
  "language_info": {
   "file_extension": ".jl",
   "mimetype": "application/julia",
   "name": "julia",
   "version": "1.7.2"
  },
  "orig_nbformat": 4
 },
 "nbformat": 4,
 "nbformat_minor": 2
}
