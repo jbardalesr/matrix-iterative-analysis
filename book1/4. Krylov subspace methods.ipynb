{
 "cells": [
  {
   "cell_type": "markdown",
   "metadata": {},
   "source": [
    "## Arnoldi's methods"
   ]
  },
  {
   "cell_type": "code",
   "execution_count": 380,
   "metadata": {},
   "outputs": [],
   "source": [
    "import LinearAlgebra\n",
    "const la = LinearAlgebra\n",
    "MAX_ITER = 100;"
   ]
  },
  {
   "cell_type": "code",
   "execution_count": 381,
   "metadata": {},
   "outputs": [],
   "source": [
    "A = [4. -1 0 -1 0 0;\n",
    "     -1 4 -1 0 -1 0;\n",
    "     0 -1 4. 0 0 -1;\n",
    "     -1 0 0. 4 -1 0;\n",
    "     0 -1 0 -1 4 -1;\n",
    "     0 0 -1 0. -1 4]\n",
    "\n",
    "b = [0, 5, 0, 6, -2, 6.]\n",
    "\n",
    "x0 = zeros(size(b));\n",
    "# n\n",
    "v = [1., 0, 2, 0, 1, 1];"
   ]
  },
  {
   "cell_type": "markdown",
   "metadata": {},
   "source": [
    "### Arnoldi\n",
    "Input: $A\\in\\mathbb{R}^{n\\times m}=[a_1,...,a_m], v\\in\\mathbb{R}^{n}$ any vector"
   ]
  },
  {
   "cell_type": "code",
   "execution_count": 382,
   "metadata": {},
   "outputs": [
    {
     "data": {
      "text/plain": [
       "arnoldi (generic function with 1 method)"
      ]
     },
     "execution_count": 382,
     "metadata": {},
     "output_type": "execute_result"
    }
   ],
   "source": [
    "function arnoldi(A:: Matrix, v:: Vector, m:: Int64)\n",
    "    # Input: nxn matrix A, nx1 column vector v, and integer m\n",
    "    n = size(A, 1)\n",
    "    V = zeros((n, m + 1))\n",
    "    H = zeros((m + 1, m))\n",
    "    V[:, 1] = v/la.norm(v)\n",
    "    for j = 1:m\n",
    "        for i = 1:j\n",
    "            H[i, j] = la.dot(A*V[:, j], V[:, i])\n",
    "        end\n",
    "        w = A*V[:, j] - V[:, 1:j]*H[1:j, j]\n",
    "        H[j+1, j] = la.norm(w)\n",
    "        if H[j+1, j] == 0.0\n",
    "            break\n",
    "        end\n",
    "        V[:, j+1] = w/H[j+1, j]\n",
    "    end\n",
    "    # delete last row of H and last column of V\n",
    "    return H[1:m, :], V[:, 1:m]\n",
    "end"
   ]
  },
  {
   "cell_type": "code",
   "execution_count": 383,
   "metadata": {},
   "outputs": [
    {
     "data": {
      "text/plain": [
       "3×3 Matrix{Float64}:\n",
       " 3.14286  1.92195  -2.77556e-15\n",
       " 1.92195  4.6472    1.18932\n",
       " 0.0      1.18932   3.95556"
      ]
     },
     "metadata": {},
     "output_type": "display_data"
    },
    {
     "data": {
      "text/plain": [
       "6×3 Matrix{Float64}:\n",
       " 0.377964   0.168563    0.289595\n",
       " 0.0       -0.786629    0.191845\n",
       " 0.755929   0.140469   -0.282287\n",
       " 0.0       -0.393314    0.0959226\n",
       " 0.377964  -0.0280939   0.750937\n",
       " 0.377964  -0.421408   -0.475959"
      ]
     },
     "metadata": {},
     "output_type": "display_data"
    }
   ],
   "source": [
    "m = 3\n",
    "H, V = arnoldi(A, v, m);\n",
    "display(H)\n",
    "display(V)"
   ]
  },
  {
   "cell_type": "markdown",
   "metadata": {},
   "source": [
    "### Arnoldi-Modified Gram-Schmidt"
   ]
  },
  {
   "cell_type": "code",
   "execution_count": 384,
   "metadata": {},
   "outputs": [
    {
     "data": {
      "text/plain": [
       "arnoldi_modified (generic function with 1 method)"
      ]
     },
     "execution_count": 384,
     "metadata": {},
     "output_type": "execute_result"
    }
   ],
   "source": [
    "function arnoldi_modified(A:: Matrix, v:: Vector, m:: Int64)\n",
    "    # Input: nxn matrix A, nx1 column vector v, and integer m\n",
    "    # Output: (m + 1)xm matrix H and nx1 a nx(m + 1) matrix V\n",
    "    n = size(A, 1)\n",
    "    \n",
    "    H = zeros((m + 1, m))\n",
    "    V = zeros((n, m + 1))\n",
    "    \n",
    "    V[:, 1] = v/la.norm(v)\n",
    "    for j = 1:m\n",
    "        w = A*V[:, j]\n",
    "        for i = 1:j\n",
    "            H[i, j] = la.dot(w, V[:, i])\n",
    "            w = w - H[i, j]*V[:, i] \n",
    "        end\n",
    "        H[j+1, j] = la.norm(w)\n",
    "        if H[j+1, j] < eps()\n",
    "            break\n",
    "        end\n",
    "        V[:, j+1] = w/H[j+1, j]\n",
    "    end\n",
    "    # delete last row of H and last column of V\n",
    "    return H[1:m, :], V[:, 1:m]\n",
    "end"
   ]
  },
  {
   "cell_type": "code",
   "execution_count": 385,
   "metadata": {},
   "outputs": [
    {
     "data": {
      "text/plain": [
       "3×3 Matrix{Float64}:\n",
       " 3.14286  1.92195  -2.9976e-15\n",
       " 1.92195  4.6472    1.18932\n",
       " 0.0      1.18932   3.95556"
      ]
     },
     "metadata": {},
     "output_type": "display_data"
    },
    {
     "data": {
      "text/plain": [
       "6×3 Matrix{Float64}:\n",
       " 0.377964   0.168563    0.289595\n",
       " 0.0       -0.786629    0.191845\n",
       " 0.755929   0.140469   -0.282287\n",
       " 0.0       -0.393314    0.0959226\n",
       " 0.377964  -0.0280939   0.750937\n",
       " 0.377964  -0.421408   -0.475959"
      ]
     },
     "metadata": {},
     "output_type": "display_data"
    }
   ],
   "source": [
    "m = 3\n",
    "H, V = arnoldi_modified(A, v, m)\n",
    "display(H)\n",
    "display(V)"
   ]
  },
  {
   "cell_type": "markdown",
   "metadata": {},
   "source": [
    "### Householder Arnoldi"
   ]
  },
  {
   "cell_type": "code",
   "execution_count": 437,
   "metadata": {},
   "outputs": [
    {
     "data": {
      "text/plain": [
       "householder_arnoldi (generic function with 1 method)"
      ]
     },
     "execution_count": 437,
     "metadata": {},
     "output_type": "execute_result"
    }
   ],
   "source": [
    "function householder_arnoldi(A:: Matrix, v:: Vector, m:: Int64)\n",
    "    # Input: nxn matrix A, nx1 column vector v, and integer m < n\n",
    "    # Output: nx(m+1) matrix H and an nxm orthonormal matrix V\n",
    "    n = size(A, 1)\n",
    "    I = 1.0 * Matrix(la.I, n, n) \n",
    "    V = zeros((n, m + 1))\n",
    "    H = zeros((n, m + 1))\n",
    "    Z = zeros((n, m + 1))\n",
    "\n",
    "    Z[:, 1] = v\n",
    "    Q = I\n",
    "    for j = 1:m + 1\n",
    "        # w calculus\n",
    "        val_sign = Z[j, j] >= 0.0 ? 1.0 : -1.0\n",
    "        beta = val_sign * la.norm(Z[j:end, j])\n",
    "        z = zeros(n)\n",
    "        z[j] = beta - Z[j, j] + eps()\n",
    "        for i = j + 1:n\n",
    "            z[i] = -Z[i, j]\n",
    "        end\n",
    "        w = z / la.norm(z)\n",
    "       \n",
    "        P = I - 2 * w * w'\n",
    "        # h_{j-1}\n",
    "        H[:, j] = P * Z[:, j] \n",
    "        Q = P * Q\n",
    "        V[:, j] = Q'[:, j]\n",
    "        if j <= m\n",
    "            Z[:, j + 1] = Q * A * V[:, j]\n",
    "        end\n",
    "    end\n",
    "    # delete the column 0 and return a (m+1)xm matrix H\n",
    "    return H[1:m + 1, 2:m + 1], V\n",
    "end"
   ]
  },
  {
   "cell_type": "code",
   "execution_count": 448,
   "metadata": {},
   "outputs": [
    {
     "name": "stdout",
     "output_type": "stream",
     "text": [
      "6×5 Matrix{Float64}:\n",
      "  3.14286      -1.92195       0.0           2.22045e-16   4.44089e-16\n",
      " -1.92195       4.6472        1.18932      -2.77556e-16  -2.22045e-16\n",
      " -2.77556e-16   1.18932       3.95556      -0.812257      1.11022e-16\n",
      "  2.77556e-16  -1.07499e-16  -0.812257      3.67305       0.114091\n",
      " -5.55112e-17  -6.55942e-18   3.09757e-16   0.114091      3.58133\n",
      "  2.22045e-16   3.46945e-18  -6.93889e-18   6.73073e-16   5.55112e-16"
     ]
    },
    {
     "data": {
      "text/plain": [
       "6×6 Matrix{Float64}:\n",
       " 0.377964  -0.168563   -0.289595   -0.585252    0.390312   0.5\n",
       " 0.0        0.786629   -0.191845    0.228787    0.540433  -9.4369e-16\n",
       " 0.755929  -0.140469    0.282287    0.128662    0.2502    -0.5\n",
       " 0.0        0.393314   -0.0959226  -0.699892   -0.310248  -0.5\n",
       " 0.377964   0.0280939  -0.750937    0.313906   -0.440352  -1.66533e-16\n",
       " 0.377964   0.421408    0.475959    0.0140224  -0.45036    0.5"
      ]
     },
     "metadata": {},
     "output_type": "display_data"
    }
   ],
   "source": [
    "m = 5\n",
    "H, V = householder_arnoldi(A, v, m)\n",
    "show(IOContext(stdout, :limit => false), \"text/plain\", H)\n",
    "display(V)"
   ]
  },
  {
   "cell_type": "markdown",
   "metadata": {},
   "source": [
    "It is verified that $AV_m = V_{m+1}H$"
   ]
  },
  {
   "cell_type": "code",
   "execution_count": 449,
   "metadata": {},
   "outputs": [
    {
     "data": {
      "text/plain": [
       "true"
      ]
     },
     "execution_count": 449,
     "metadata": {},
     "output_type": "execute_result"
    }
   ],
   "source": [
    "isapprox(A*V[:, 1:m], V*H)"
   ]
  },
  {
   "cell_type": "markdown",
   "metadata": {},
   "source": [
    "## Arnoldi’s Method for Linear Systems (FOM)"
   ]
  },
  {
   "cell_type": "code",
   "execution_count": 440,
   "metadata": {},
   "outputs": [
    {
     "data": {
      "text/plain": [
       "FOM (generic function with 1 method)"
      ]
     },
     "execution_count": 440,
     "metadata": {},
     "output_type": "execute_result"
    }
   ],
   "source": [
    "function FOM(A:: Matrix, b:: Vector, x0:: Vector, m:: Int64)\n",
    "    n = size(A, 1)\n",
    "    r = b - A*x0\n",
    "    beta = la.norm(r)\n",
    "    v = r/beta\n",
    "    H, V = arnoldi_modified(A, v, m)\n",
    "    return H, V, beta\n",
    "end"
   ]
  },
  {
   "cell_type": "code",
   "execution_count": 441,
   "metadata": {},
   "outputs": [
    {
     "data": {
      "text/plain": [
       "6-element Vector{Float64}:\n",
       " 0.9907832820475926\n",
       " 1.9916351376539796\n",
       " 0.9907832820475926\n",
       " 2.0053245062998073\n",
       " 1.01182460603722\n",
       " 2.0053245062998073"
      ]
     },
     "execution_count": 441,
     "metadata": {},
     "output_type": "execute_result"
    }
   ],
   "source": [
    "m = 3\n",
    "H, V, beta = FOM(A, b, x0, m)\n",
    "y = la.inv(H)[:, 1] * beta\n",
    "x = x0 + V*y"
   ]
  },
  {
   "cell_type": "code",
   "execution_count": 450,
   "metadata": {},
   "outputs": [
    {
     "data": {
      "text/plain": [
       "restarted_FOM (generic function with 2 methods)"
      ]
     },
     "execution_count": 450,
     "metadata": {},
     "output_type": "execute_result"
    }
   ],
   "source": [
    "function restarted_FOM(A:: Matrix, b:: Vector, x0:: Vector, m:: Int64, tol=1.0e-6)\n",
    "    println(\"x[0] = $x0\")\n",
    "    for i=1:MAX_ITER\n",
    "        r = b - A*x0\n",
    "        beta = la.norm(r)\n",
    "        v = r/beta\n",
    "\n",
    "        H, V = arnoldi(A, v, m)\n",
    "        H = H[1:m, :]\n",
    "        V = V[:, 1:m]\n",
    "        y = la.inv(H)[:, 1] * beta\n",
    "        x = x0 + V*y\n",
    "        println(\"x[$i] = $x\")\n",
    "        if la.norm(x - x0) < tol\n",
    "            break\n",
    "        end\n",
    "        # updating for next step\n",
    "        x0 = copy(x)\n",
    "    end\n",
    "end"
   ]
  },
  {
   "cell_type": "code",
   "execution_count": 452,
   "metadata": {},
   "outputs": [
    {
     "name": "stdout",
     "output_type": "stream",
     "text": [
      "x[0] = [0.0, 0.0, 0.0, 0.0, 0.0, 0.0]\n",
      "x[1] = [1.0223756706686238, 1.6864518923080627, 1.0223756706686238, 2.0609195678848975, 0.8310997762432939, 2.0609195678848975]\n",
      "x[2] = [0.984849223774084, 1.9693401764671083, 0.984849223774084, 1.9683804438298635, 0.9830857423107029, 1.9683804438298635]\n",
      "x[3] = [0.9999872854527297, 1.9948107917617135, 0.9999872854527297, 2.0011111663744794, 0.9977971748604653, 2.0011111663744794]\n",
      "x[4] = [0.999767337695896, 1.9995208450252253, 0.999767337695896, 1.999490305397517, 0.9996996548524394, 1.999490305397517]\n",
      "x[5] = [0.9999917048166211, 1.9999124703172824, 0.9999917048166213, 2.0000198650717804, 0.9999742459912793, 2.000019865071781]\n",
      "x[6] = [0.9999963180209491, 1.9999922216157726, 0.9999963180209492, 1.9999915531898904, 0.999994404480674, 1.9999915531898906]\n",
      "x[7] = [0.9999997021856807, 1.9999985010572652, 0.9999997021856807, 2.0000003403577056, 0.9999997579690995, 2.0000003403577056]\n",
      "x[8] = [0.9999999392404859, 1.9999998669860726, 0.9999999392404859, 1.999999855252603, 0.9999998923301389, 1.9999998552526028]\n",
      "x[9] = [0.9999999920990442, 1.9999999740135381, 0.9999999920990442, 2.0000000055471876, 0.9999999989997443, 2.0000000055471876]\n"
     ]
    }
   ],
   "source": [
    "m = 2\n",
    "restarted_FOM(A, b, x0, m)"
   ]
  },
  {
   "cell_type": "markdown",
   "metadata": {},
   "source": [
    "### Incomplete Orthogonalization Process"
   ]
  },
  {
   "cell_type": "code",
   "execution_count": 393,
   "metadata": {},
   "outputs": [
    {
     "data": {
      "text/plain": [
       "IOM (generic function with 1 method)"
      ]
     },
     "execution_count": 393,
     "metadata": {},
     "output_type": "execute_result"
    }
   ],
   "source": [
    "function IOM(A:: Matrix, b:: Vector, x0:: Vector, m:: Int64, k:: Int64)\n",
    "    n = size(A, 1)\n",
    "    V = zeros((n, m+1))\n",
    "    H = zeros((m+1, m))\n",
    "    \n",
    "    r = b - A*x0\n",
    "    beta = la.norm(r)\n",
    "    V[:, 1] = r/beta\n",
    "    for j = 1:m\n",
    "        w = A*V[:, j]\n",
    "        for i = max(1, j - k + 1):j\n",
    "            H[i, j] = la.dot(w, V[:, i])\n",
    "            w = w - H[i, j]*V[:, i] \n",
    "        end\n",
    "        H[j+1, j] = la.norm(w)\n",
    "        V[:, j+1] = w/H[j+1, j]\n",
    "    end\n",
    "    return H[1:m, :], V[:, 1:m], beta\n",
    "end"
   ]
  },
  {
   "cell_type": "code",
   "execution_count": 394,
   "metadata": {},
   "outputs": [
    {
     "data": {
      "text/plain": [
       "5×5 Matrix{Float64}:\n",
       " 4.67327  2.21877   3.747e-15   0.0          0.0\n",
       " 2.21877  3.35573   0.690815   -4.07868e-14  0.0\n",
       " 0.0      0.690815  4.32887     0.217999     2.94568\n",
       " 0.0      0.0       0.217999    3.64213      0.0487366\n",
       " 0.0      0.0       0.0         2.80489e-14  1.76082"
      ]
     },
     "metadata": {},
     "output_type": "display_data"
    },
    {
     "data": {
      "text/plain": [
       "6×5 Matrix{Float64}:\n",
       "  0.0       -0.493309   -0.238968  -0.446699  -0.308737\n",
       "  0.497519  -0.0612751   0.7893    -0.354578   0.134578\n",
       "  0.0       -0.493309   -0.238968  -0.446699  -0.308737\n",
       "  0.597022  -0.0914687  -0.272545   0.246814  -0.625391\n",
       " -0.199007  -0.702       0.337983   0.59444    0.0949961\n",
       "  0.597022  -0.0914687  -0.272545   0.246814  -0.625391"
      ]
     },
     "metadata": {},
     "output_type": "display_data"
    }
   ],
   "source": [
    "m = 5\n",
    "k = 3\n",
    "H, V = IOM(A, b, x0, m, k)\n",
    "display(H)\n",
    "display(V)"
   ]
  },
  {
   "cell_type": "markdown",
   "metadata": {},
   "source": [
    "### DIOM"
   ]
  },
  {
   "cell_type": "code",
   "execution_count": 460,
   "metadata": {},
   "outputs": [
    {
     "data": {
      "text/plain": [
       "DIOM (generic function with 4 methods)"
      ]
     },
     "execution_count": 460,
     "metadata": {},
     "output_type": "execute_result"
    }
   ],
   "source": [
    "function DIOM(A:: Matrix, b:: Vector, x0:: Vector, m:: Int, k:: Int, tol=1.0e-6)\n",
    "    n = size(A, 1)\n",
    "    V = zeros(n, m + 1)\n",
    "    H = zeros(m + 1, m)\n",
    "    P = zeros(n, m)\n",
    "    \n",
    "    r0 = b - A*x0\n",
    "    beta = la.norm(r0)\n",
    "    zeta = beta\n",
    "    V[:, 1] = r0/beta\n",
    "\n",
    "    println(\"x[0] = $x0\")\n",
    "    for j=1:MAX_ITER\n",
    "        w = A*V[:, j]\n",
    "        # IOM block\n",
    "        for i = max(1, j - k + 1):j\n",
    "            H[i, j] = la.dot(w, V[:, i])\n",
    "            w = w - H[i, j]*V[:, i] \n",
    "        end\n",
    "        H[j+1, j] = la.norm(w)\n",
    "        V[:, j+1] = w/H[j+1, j]\n",
    "        \n",
    "        # update LU factorization\n",
    "        L, U = la.lu(H[1:j, 1:j])\n",
    "        if U[j ,j] < eps()\n",
    "            break\n",
    "        end\n",
    "        zeta = j == 1 ? beta : -L[j, j-1]*zeta  \n",
    "        \n",
    "        i = j - k + 1\n",
    "        vector_sum = i <= 0 ? zeros(m) : P[:, i:j-1]*U[i:j-1, j]  \n",
    "        P[:, j] = 1/U[j, j]*(V[:, j] - vector_sum)\n",
    "            \n",
    "        x = x0 + zeta*P[:, j]\n",
    "        \n",
    "        println(\"x[$j] = $x\")\n",
    "        if la.norm(x - x0) < tol\n",
    "            break\n",
    "        end\n",
    "        # updating for next step\n",
    "        x0 = copy(x)\n",
    "    end\n",
    "end"
   ]
  },
  {
   "cell_type": "code",
   "execution_count": 459,
   "metadata": {},
   "outputs": [
    {
     "name": "stdout",
     "output_type": "stream",
     "text": [
      "x[0] = [0.0, 0.0, 0.0, 0.0, 0.0, 0.0]\n",
      "x[1] = [0.0, 1.069915254237288, 0.0, 1.2838983050847455, -0.4279661016949152, 1.2838983050847455]\n",
      "x[2] = [1.0223756706686236, 1.6864518923080625, 1.0223756706686236, 2.0609195678848975, 0.8310997762432935, 2.0609195678848975]\n",
      "x[3] = [0.9907832820475928, 1.99163513765398, 0.9907832820475928, 2.0053245062998073, 1.0118246060372202, 2.0053245062998073]\n",
      "x[4] = [1.0, 2.0, 1.0, 1.9999999999999998, 1.0000000000000002, 1.9999999999999998]\n",
      "x[5] = [1.0, 2.0, 1.0, 1.9999999999999998, 1.0000000000000002, 1.9999999999999998]\n"
     ]
    }
   ],
   "source": [
    "m = 6\n",
    "k = 2\n",
    "DIOM(A, b, x0, m, k)"
   ]
  },
  {
   "cell_type": "markdown",
   "metadata": {},
   "source": [
    "## The Generalized Minimum Residual Method (GMRES)"
   ]
  },
  {
   "cell_type": "code",
   "execution_count": 397,
   "metadata": {},
   "outputs": [
    {
     "data": {
      "text/plain": [
       "givens_transformation (generic function with 1 method)"
      ]
     },
     "execution_count": 397,
     "metadata": {},
     "output_type": "execute_result"
    }
   ],
   "source": [
    "function givens_transformation(H:: Matrix, i:: Int64)\n",
    "    # H is a nxm Hessemberg matrix\n",
    "    # i row\n",
    "    n, m = size(H)\n",
    "    upper_omega = 1.0 * Matrix(la.I, n, n) \n",
    "    hyp = sqrt(H[i, i]^2 + H[i + 1, i]^2)\n",
    "    si = H[i + 1, i]/hyp\n",
    "    ci = H[i, i]/hyp\n",
    "    \n",
    "    upper_omega[i, i] = ci\n",
    "    upper_omega[i, i + 1] = si\n",
    "    upper_omega[i + 1, i] = -si\n",
    "    upper_omega[i + 1, i + 1] = ci\n",
    "    return upper_omega \n",
    "end\n"
   ]
  },
  {
   "cell_type": "code",
   "execution_count": 398,
   "metadata": {},
   "outputs": [
    {
     "data": {
      "text/plain": [
       "6×5 Matrix{Float64}:\n",
       " 3.16228  5.05964  1.58114  7.58947   2.52982\n",
       " 0.0      3.2249   3.10087  2.97683   3.47297\n",
       " 0.0      0.0      1.69842  3.98562  -1.63048\n",
       " 0.0      0.0      0.0      3.10698   5.45867\n",
       " 0.0      0.0      0.0      0.0       4.13314\n",
       " 0.0      0.0      0.0      0.0       0.0"
      ]
     },
     "execution_count": 398,
     "metadata": {},
     "output_type": "execute_result"
    }
   ],
   "source": [
    "H = [1 4 2 3 5;\n",
    "     3 4 1 7 1;\n",
    "     0 2 3 4 0;\n",
    "     0 0 1 3 1;\n",
    "     0 0 0 3 5;\n",
    "     0 0 0 0 4.]\n",
    "\n",
    "n, m = size(H)\n",
    "for i=1:m\n",
    "    upper_omega = givens_transformation(H, i)\n",
    "    H = upper_omega * H\n",
    "end\n",
    "H"
   ]
  },
  {
   "cell_type": "code",
   "execution_count": 399,
   "metadata": {},
   "outputs": [
    {
     "data": {
      "text/plain": [
       "DQGMRES (generic function with 2 methods)"
      ]
     },
     "execution_count": 399,
     "metadata": {},
     "output_type": "execute_result"
    }
   ],
   "source": [
    "function DQGMRES(A:: Matrix, b:: Vector, x0:: Vector, tol=1.0e-6)\n",
    "    n, M = size(A)\n",
    "    k = 1\n",
    "\n",
    "    V = zeros((M, M+1))\n",
    "    H = zeros((M+1, M))\n",
    "    P = zeros((M, M))\n",
    "    gamma = zeros(M)\n",
    "\n",
    "    r0 = b - A*x0\n",
    "    gamma[1] = la.norm(r0)\n",
    "    V[:, 1] = r0/gamma[1]\n",
    "\n",
    "    for m=1:MAX_ITER\n",
    "        w = A*V[:, m]\n",
    "        for i = max(1, m - k + 1):m\n",
    "            H[i, m] = la.dot(w, V[:, i])\n",
    "            w = w - H[i, m]*V[:, i] \n",
    "        end\n",
    "        H[m+1, m] = la.norm(w)\n",
    "        V[:, m+1] = w/H[m+1, m]\n",
    "        \n",
    "        \n",
    "        H[1:m, 1:m] = Qm*H[1:m, 1:m]\n",
    "\n",
    "        s_m = s(m, H)\n",
    "        c_m = c(m, H)\n",
    "\n",
    "        gamma[m + 1] = -s_m*gamma[m]\n",
    "        gamma[m] = c_m*gamma[m]\n",
    "        H[m, m] = c_m*H[m, m] + s_m*H[m+1, m]\n",
    "        i = m - k + 1\n",
    "        sum = i > 0 ? P[:, i:m-1]*H[i:m-1, m] : zeros(M)\n",
    "        \n",
    "        P[:, m] = (V[:, m] - sum)/H[m, m]\n",
    "        x = x0 + gamma[m]*P[:, m]\n",
    "        \n",
    "        if la.norm(x - x0) < tol\n",
    "            return x\n",
    "        end\n",
    "        # updating for next step\n",
    "        x0 = copy(x)\n",
    "    end\n",
    "    x\n",
    "end"
   ]
  },
  {
   "cell_type": "code",
   "execution_count": 400,
   "metadata": {},
   "outputs": [
    {
     "data": {
      "text/plain": [
       "DQGMRES (generic function with 2 methods)"
      ]
     },
     "execution_count": 400,
     "metadata": {},
     "output_type": "execute_result"
    }
   ],
   "source": [
    "function DQGMRES(A:: Matrix, b:: Vector, x0:: Vector, tol=1.0e-6)\n",
    "    n, m = size(A)\n",
    "    k = 1\n",
    "\n",
    "    V = zeros((n, m+1))\n",
    "    H = zeros((m+1, m))\n",
    "    P = zeros((n, n))\n",
    "    gamma = zeros(m)\n",
    "\n",
    "    r0 = b - A*x0\n",
    "    gamma[1] = la.norm(r0)\n",
    "    V[:, 1] = r0/gamma[1]\n",
    "\n",
    "    for j=1:MAX_ITER\n",
    "        w = A*V[:, j]\n",
    "        for i = max(1, j - k + 1):j\n",
    "            H[i, j] = la.dot(w, V[:, i])\n",
    "            w = w - H[i, j]*V[:, i] \n",
    "        end\n",
    "        H[j+1, j] = la.norm(w)\n",
    "        V[:, j+1] = w/H[j+1, j]\n",
    "        \n",
    "        for i = m-k:m-1\n",
    "            H = givens_transformation(H, i) * H\n",
    "        end\n",
    "\n",
    "        hyp = sqrt(H[j, j]^2 + H[j + 1, j]^2)\n",
    "        sj = H[j + 1, j]/hyp\n",
    "        cj = H[j, j]/hyp\n",
    "\n",
    "        gamma[j + 1] = -sj*gamma[j]\n",
    "        gamma[j] = cj*gamma[j]\n",
    "        H[j, j] = cj*H[j, j] + sj*H[j+1, j]\n",
    "        \n",
    "        P[:, j] = (V[:, j] - P[:, m-k:m-1]*H[m-k:m-1, j])/H[j, j]\n",
    "        x = x0 + gamma[j]*P[:, j]\n",
    "        \n",
    "        if la.norm(x - x0) < tol\n",
    "            return x\n",
    "        end\n",
    "        # updating for next step\n",
    "        x0 = copy(x)\n",
    "    end\n",
    "    x\n",
    "end"
   ]
  },
  {
   "cell_type": "code",
   "execution_count": 401,
   "metadata": {},
   "outputs": [
    {
     "ename": "LoadError",
     "evalue": "BoundsError: attempt to access 6-element Vector{Float64} at index [7]",
     "output_type": "error",
     "traceback": [
      "BoundsError: attempt to access 6-element Vector{Float64} at index [7]",
      "",
      "Stacktrace:",
      " [1] setindex!(A::Vector{Float64}, x::Float64, i1::Int64)",
      "   @ Base .\\array.jl:903",
      " [2] DQGMRES(A::Matrix{Float64}, b::Vector{Float64}, x0::Vector{Float64}, tol::Float64)",
      "   @ Main .\\In[400]:31",
      " [3] DQGMRES(A::Matrix{Float64}, b::Vector{Float64}, x0::Vector{Float64})",
      "   @ Main .\\In[400]:2",
      " [4] top-level scope",
      "   @ In[401]:1",
      " [5] eval",
      "   @ .\\boot.jl:373 [inlined]",
      " [6] include_string(mapexpr::typeof(REPL.softscope), mod::Module, code::String, filename::String)",
      "   @ Base .\\loading.jl:1196"
     ]
    }
   ],
   "source": [
    "x = DQGMRES(A, b, x0)\n",
    "x"
   ]
  },
  {
   "cell_type": "code",
   "execution_count": null,
   "metadata": {},
   "outputs": [],
   "source": []
  }
 ],
 "metadata": {
  "kernelspec": {
   "display_name": "Julia 1.7.2",
   "language": "julia",
   "name": "julia-1.7"
  },
  "language_info": {
   "file_extension": ".jl",
   "mimetype": "application/julia",
   "name": "julia",
   "version": "1.7.2"
  },
  "orig_nbformat": 4
 },
 "nbformat": 4,
 "nbformat_minor": 2
}
