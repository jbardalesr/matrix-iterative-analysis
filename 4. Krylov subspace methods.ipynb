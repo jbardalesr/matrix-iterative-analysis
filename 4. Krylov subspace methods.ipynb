{
 "cells": [
  {
   "cell_type": "markdown",
   "metadata": {},
   "source": [
    "## Arnoldi's methods"
   ]
  },
  {
   "cell_type": "code",
   "execution_count": 54,
   "metadata": {},
   "outputs": [],
   "source": [
    "import LinearAlgebra\n",
    "const la = LinearAlgebra\n",
    "MAX_ITER = 100;"
   ]
  },
  {
   "cell_type": "code",
   "execution_count": 55,
   "metadata": {},
   "outputs": [],
   "source": [
    "A = [4. -1 0 -1 0 0;\n",
    "     -1 4 -1 0 -1 0;\n",
    "     0 -1 4. 0 0 -1;\n",
    "     -1 0 0. 4 -1 0;\n",
    "     0 -1 0 -1 4 -1;\n",
    "     0 0 -1 0. -1 4]\n",
    "\n",
    "b = [0, 5, 0, 6, -2, 6.]\n",
    "\n",
    "x0 = zeros(size(b));\n",
    "# m\n",
    "v = [1., 0, 2, 0, 1, 1];"
   ]
  },
  {
   "cell_type": "markdown",
   "metadata": {},
   "source": [
    "### Arnoldi\n",
    "Input: $A\\in\\mathbb{R}^{n\\times n}=[a_1,...,a_n], v\\in\\mathbb{R}^{n}$ any vector"
   ]
  },
  {
   "cell_type": "code",
   "execution_count": 56,
   "metadata": {},
   "outputs": [
    {
     "data": {
      "text/plain": [
       "arnoldi (generic function with 1 method)"
      ]
     },
     "execution_count": 56,
     "metadata": {},
     "output_type": "execute_result"
    }
   ],
   "source": [
    "function arnoldi(A:: Matrix{Float64}, v:: Vector{Float64})\n",
    "    # input: A\n",
    "    n, m = size(A)\n",
    "    V = zeros((n, m + 1))\n",
    "    H = zeros((m + 1, m))\n",
    "    V[:, 1] = v/la.norm(v)\n",
    "    for j = 1:m\n",
    "        for i = 1:j\n",
    "            H[i, j] = la.dot(A*V[:, j], V[:, i])\n",
    "        end\n",
    "        w = A*V[:, j] - V[:, 1:j]*H[1:j, j]\n",
    "        H[j+1, j] = la.norm(w)\n",
    "        if H[j+1, j] == 0.0\n",
    "            break\n",
    "        end\n",
    "        V[:, j+1] = w/H[j+1, j]\n",
    "    end\n",
    "    H[1:m, :], V[:, 1:m]\n",
    "end"
   ]
  },
  {
   "cell_type": "code",
   "execution_count": 57,
   "metadata": {},
   "outputs": [
    {
     "data": {
      "text/plain": [
       "6×6 Matrix{Float64}:\n",
       " 3.14286  1.92195  -2.77556e-15  1.3628e-14   -4.20552e-13  2.95582\n",
       " 1.92195  4.6472    1.18932      1.21569e-14  -3.72813e-13  2.61937\n",
       " 0.0      1.18932   3.95556      0.812257     -2.72227e-13  1.91409\n",
       " 0.0      0.0       0.812257     3.67305       0.114091     0.726769\n",
       " 0.0      0.0       0.0          0.114091      3.58133      0.027598\n",
       " 0.0      0.0       0.0          0.0           5.08975e-13  3.76061"
      ]
     },
     "metadata": {},
     "output_type": "display_data"
    },
    {
     "data": {
      "text/plain": [
       "6×6 Matrix{Float64}:\n",
       " 0.377964   0.168563    0.289595   -0.585252    0.390312   0.413137\n",
       " 0.0       -0.786629    0.191845    0.228787    0.540433   0.0436258\n",
       " 0.755929   0.140469   -0.282287    0.128662    0.2502     0.581096\n",
       " 0.0       -0.393314    0.0959226  -0.699892   -0.310248  -0.0562773\n",
       " 0.377964  -0.0280939   0.750937    0.313906   -0.440352   0.692342\n",
       " 0.377964  -0.421408   -0.475959    0.0140224  -0.45036    0.0850704"
      ]
     },
     "metadata": {},
     "output_type": "display_data"
    }
   ],
   "source": [
    "H, V = arnoldi(A, v);\n",
    "display(H)\n",
    "display(V)"
   ]
  },
  {
   "cell_type": "markdown",
   "metadata": {},
   "source": [
    "### Arnoldi-Modified Gram-Schmidt"
   ]
  },
  {
   "cell_type": "code",
   "execution_count": 58,
   "metadata": {},
   "outputs": [
    {
     "data": {
      "text/plain": [
       "arnoldi_modified (generic function with 1 method)"
      ]
     },
     "execution_count": 58,
     "metadata": {},
     "output_type": "execute_result"
    }
   ],
   "source": [
    "function arnoldi_modified(A:: Matrix{Float64}, v:: Vector{Float64})\n",
    "    n, m = size(A)\n",
    "    \n",
    "    V = zeros((n, m + 1))\n",
    "    H = zeros((m + 1, m))\n",
    "    \n",
    "    v = v/la.norm(v)\n",
    "    V[:, 1] = v/la.norm(v)\n",
    "    for j = 1:m\n",
    "        w = A*V[:, j]\n",
    "        for i = 1:j\n",
    "            H[i, j] = la.dot(w, V[:, i])\n",
    "            w = w - H[i, j]*V[:, i] \n",
    "        end\n",
    "        H[j+1, j] = la.norm(w)\n",
    "        if H[j+1, j] == 0.0\n",
    "            break\n",
    "        end\n",
    "        V[:, j+1] = w/H[j+1, j]\n",
    "    end\n",
    "    H[1:m, :], V[:, 1:m]\n",
    "end"
   ]
  },
  {
   "cell_type": "code",
   "execution_count": 59,
   "metadata": {},
   "outputs": [
    {
     "data": {
      "text/plain": [
       "6×6 Matrix{Float64}:\n",
       " 3.14286  1.92195  7.43849e-15  -3.19189e-14  9.71667e-13  -3.59742\n",
       " 1.92195  4.6472   1.18932      -3.16414e-14  9.67726e-13  -3.58099\n",
       " 0.0      1.18932  3.95556       0.812257     2.44915e-13  -0.907632\n",
       " 0.0      0.0      0.812257      3.67305      0.114091     -0.14671\n",
       " 0.0      0.0      0.0           0.114091     3.58133      -0.00211734\n",
       " 0.0      0.0      0.0           0.0          9.66097e-13   4.29368e-5"
      ]
     },
     "metadata": {},
     "output_type": "display_data"
    },
    {
     "data": {
      "text/plain": [
       "6×6 Matrix{Float64}:\n",
       " 0.377964   0.168563    0.289595   -0.585252    0.390312  -0.435541\n",
       " 0.0       -0.786629    0.191845    0.228787    0.540433   0.254659\n",
       " 0.755929   0.140469   -0.282287    0.128662    0.2502    -0.719964\n",
       " 0.0       -0.393314    0.0959226  -0.699892   -0.310248   0.136983\n",
       " 0.377964  -0.0280939   0.750937    0.313906   -0.440352  -0.433932\n",
       " 0.377964  -0.421408   -0.475959    0.0140224  -0.45036   -0.141579"
      ]
     },
     "metadata": {},
     "output_type": "display_data"
    }
   ],
   "source": [
    "H, V = arnoldi_modified(A, v);\n",
    "display(H)\n",
    "display(V)"
   ]
  },
  {
   "cell_type": "markdown",
   "metadata": {},
   "source": [
    "### Householder Arnoldi"
   ]
  },
  {
   "cell_type": "code",
   "execution_count": null,
   "metadata": {},
   "outputs": [],
   "source": [
    "function householder_arnoldi()\n",
    "    \n",
    "end"
   ]
  },
  {
   "cell_type": "markdown",
   "metadata": {},
   "source": [
    "## Arnoldi’s Method for Linear Systems (FOM)"
   ]
  },
  {
   "cell_type": "code",
   "execution_count": 60,
   "metadata": {},
   "outputs": [
    {
     "data": {
      "text/plain": [
       "FOM (generic function with 1 method)"
      ]
     },
     "execution_count": 60,
     "metadata": {},
     "output_type": "execute_result"
    }
   ],
   "source": [
    "function FOM(A:: Matrix{Float64}, b:: Vector{Float64}, x0:: Vector{Float64})\n",
    "    n, m = size(A)\n",
    "    r0 = b - A*x0\n",
    "    beta = la.norm(r0)\n",
    "    V = zeros((m, m+1))\n",
    "    H = zeros((m+1, m))\n",
    "\n",
    "    V[:, 1] = r0/beta\n",
    "    for j=1:m\n",
    "        w = A*V[:, j]\n",
    "        for i=1:j\n",
    "            H[i, j] = la.dot(w, V[:, i])\n",
    "            w = w - H[i, j]*V[:, i]\n",
    "        end\n",
    "        H[j+1, j] = la.norm(w)\n",
    "        if H[j+1, j] == 0.0\n",
    "            m = j\n",
    "            break\n",
    "        end\n",
    "        V[:, j+1] = w/H[j+1, j]\n",
    "    end\n",
    "    H[1:m, :], V[:, 1:m], beta\n",
    "end"
   ]
  },
  {
   "cell_type": "code",
   "execution_count": 61,
   "metadata": {},
   "outputs": [
    {
     "data": {
      "text/plain": [
       "e_vector (generic function with 1 method)"
      ]
     },
     "execution_count": 61,
     "metadata": {},
     "output_type": "execute_result"
    }
   ],
   "source": [
    "function e_vector(n:: Int64, k:: Int64)\n",
    "    e = zeros(n)\n",
    "    e[k] = 1\n",
    "    return e\n",
    "end"
   ]
  },
  {
   "cell_type": "code",
   "execution_count": 62,
   "metadata": {},
   "outputs": [
    {
     "data": {
      "text/plain": [
       "6-element Vector{Float64}:\n",
       " 0.9999999999999929\n",
       " 2.000000000000032\n",
       " 0.9999999999999929\n",
       " 2.0\n",
       " 1.0\n",
       " 2.0"
      ]
     },
     "execution_count": 62,
     "metadata": {},
     "output_type": "execute_result"
    }
   ],
   "source": [
    "H, V, beta = FOM(A, b, x0)\n",
    "y = la.inv(H)*beta*e_vector(size(H)[1], 1)\n",
    "x = x0 + V*y"
   ]
  },
  {
   "cell_type": "code",
   "execution_count": 63,
   "metadata": {},
   "outputs": [
    {
     "data": {
      "text/plain": [
       "restarted_FOM (generic function with 1 method)"
      ]
     },
     "execution_count": 63,
     "metadata": {},
     "output_type": "execute_result"
    }
   ],
   "source": [
    "function restarted_FOM(A:: Matrix{Float64}, b:: Vector{Float64}, x0:: Vector{Float64})\n",
    "    n, m = size(A)\n",
    "    r0 = b - A*x0\n",
    "    beta = la.norm(r0)\n",
    "    v = r0/beta\n",
    "    \n",
    "    V = zeros((m, m+1))\n",
    "    W = zeros((m, m))\n",
    "    H = zeros((m+1, m))\n",
    "\n",
    "    H, V = arnoldi(A, v)\n",
    "    y = la.inv(H)*beta*e_vector(size(H)[1], 1)\n",
    "    x = x0 + V*y\n",
    "    return x\n",
    "end"
   ]
  },
  {
   "cell_type": "code",
   "execution_count": 64,
   "metadata": {},
   "outputs": [
    {
     "data": {
      "text/plain": [
       "6-element Vector{Float64}:\n",
       " 1.0000000000000007\n",
       " 1.9999999999999996\n",
       " 1.0000000000000007\n",
       " 2.0\n",
       " 1.0000000000000007\n",
       " 2.0"
      ]
     },
     "execution_count": 64,
     "metadata": {},
     "output_type": "execute_result"
    }
   ],
   "source": [
    "x = restarted_FOM(A, b, x0)\n"
   ]
  },
  {
   "cell_type": "code",
   "execution_count": 65,
   "metadata": {},
   "outputs": [
    {
     "data": {
      "text/plain": [
       "incomplete_orthogonalization_process (generic function with 1 method)"
      ]
     },
     "execution_count": 65,
     "metadata": {},
     "output_type": "execute_result"
    }
   ],
   "source": [
    "function incomplete_orthogonalization_process(A:: Matrix{Float64}, b:: Vector{Float64}, x0:: Vector{Float64})\n",
    "    n, m = size(A)\n",
    "    r0 = b - A*x0\n",
    "    beta = la.norm(r0)\n",
    "    k = 2\n",
    "    V = zeros((m, m+1))\n",
    "    H = zeros((m+1, m))\n",
    "    \n",
    "    V[:, 1] = r0/beta\n",
    "\n",
    "    for j=1:m\n",
    "        w = A*V[:, j]\n",
    "        for i = max(1, j - k + 1):j\n",
    "            H[i, j] = la.dot(w, V[:, i])\n",
    "            w = w - H[i, j]*V[:, i] \n",
    "        end\n",
    "        H[j+1, j] = la.norm(w)\n",
    "        V[:, j+1] = w/H[j+1, j]\n",
    "    end\n",
    "    H[1:m, :], V[:, 1:m], beta\n",
    "end"
   ]
  },
  {
   "cell_type": "code",
   "execution_count": 66,
   "metadata": {},
   "outputs": [
    {
     "data": {
      "text/plain": [
       "6×6 Matrix{Float64}:\n",
       " 4.67327  2.21877   0.0       0.0           0.0       0.0\n",
       " 2.21877  3.35573   0.690815  0.0           0.0       0.0\n",
       " 0.0      0.690815  4.32887   0.217999      0.0       0.0\n",
       " 0.0      0.0       0.217999  3.64213      -0.227226  0.0\n",
       " 0.0      0.0       0.0       9.43428e-15   2.34609   1.59463\n",
       " 0.0      0.0       0.0       0.0           1.60734   5.24397"
      ]
     },
     "metadata": {},
     "output_type": "display_data"
    },
    {
     "data": {
      "text/plain": [
       "6×6 Matrix{Float64}:\n",
       "  0.0       -0.493309   -0.238968  -0.446699  -0.329503   -0.0654149\n",
       "  0.497519  -0.0612751   0.7893    -0.354578  -0.447183    0.368301\n",
       "  0.0       -0.493309   -0.238968  -0.446699  -0.329503   -0.0727362\n",
       "  0.597022  -0.0914687  -0.272545   0.246814  -0.0941437   0.611587\n",
       " -0.199007  -0.702       0.337983   0.59444   -0.75315    -0.302903\n",
       "  0.597022  -0.0914687  -0.272545   0.246814  -0.0823757   0.623696"
      ]
     },
     "metadata": {},
     "output_type": "display_data"
    }
   ],
   "source": [
    "H, V = incomplete_orthogonalization_process(A, b, x0)\n",
    "display(H)\n",
    "display(V)"
   ]
  },
  {
   "cell_type": "markdown",
   "metadata": {},
   "source": [
    "### DIOM"
   ]
  },
  {
   "cell_type": "code",
   "execution_count": 67,
   "metadata": {},
   "outputs": [
    {
     "data": {
      "text/plain": [
       "DIOM (generic function with 2 methods)"
      ]
     },
     "execution_count": 67,
     "metadata": {},
     "output_type": "execute_result"
    }
   ],
   "source": [
    "function DIOM(A:: Matrix{Float64}, b:: Vector{Float64}, x0:: Vector{Float64}, tol=1.0e-6)\n",
    "    n, M = size(A)\n",
    "    k = 2\n",
    "\n",
    "    V = zeros((M, M+1))\n",
    "    H = zeros((M+1, M))\n",
    "    P = zeros((M, M))\n",
    "    \n",
    "    r0 = b - A*x0\n",
    "    beta = la.norm(r0)\n",
    "    zeta = beta\n",
    "    V[:, 1] = r0/beta\n",
    "    for m=1:MAX_ITER\n",
    "        w = A*V[:, m]\n",
    "        for i = max(1, m - k + 1):m\n",
    "            H[i, m] = la.dot(w, V[:, i])\n",
    "            w = w - H[i, m]*V[:, i] \n",
    "        end\n",
    "        H[m+1, m] = la.norm(w)\n",
    "        V[:, m+1] = w/H[m+1, m]\n",
    "        L, U = la.lu(H[1:m, 1:m])\n",
    "        if U[m ,m] == 0\n",
    "            break\n",
    "        end\n",
    "        if m > 1\n",
    "            zeta = -L[m, m-1]*zeta  \n",
    "        end\n",
    "        i = m-k+1\n",
    "        sum = i > 0 ? P[:, i:m-1]*U[i:m-1, m] : zeros(M)\n",
    "        P[:, m] = 1/U[m, m]*(V[:, m] - sum)\n",
    "        x = x0 + zeta*P[:, m]\n",
    "        if la.norm(x - x0) < tol\n",
    "            return x\n",
    "        end\n",
    "        # updating for next step\n",
    "        x0 = copy(x)\n",
    "    end\n",
    "    x\n",
    "end"
   ]
  },
  {
   "cell_type": "code",
   "execution_count": 68,
   "metadata": {},
   "outputs": [
    {
     "data": {
      "text/plain": [
       "6-element Vector{Float64}:\n",
       " 1.0\n",
       " 2.0\n",
       " 1.0\n",
       " 1.9999999999999998\n",
       " 1.0000000000000002\n",
       " 1.9999999999999998"
      ]
     },
     "execution_count": 68,
     "metadata": {},
     "output_type": "execute_result"
    }
   ],
   "source": [
    "x = DIOM(A, b, x0)\n",
    "x"
   ]
  },
  {
   "cell_type": "markdown",
   "metadata": {},
   "source": [
    "## The Generalized Minimum Residual Method (GMRES)\n",
    "¡Por corregir!"
   ]
  },
  {
   "cell_type": "code",
   "execution_count": 107,
   "metadata": {},
   "outputs": [
    {
     "data": {
      "text/plain": [
       "DQGMRES (generic function with 2 methods)"
      ]
     },
     "execution_count": 107,
     "metadata": {},
     "output_type": "execute_result"
    }
   ],
   "source": [
    "# ¡Por corregir!\n",
    "function s(i, H)\n",
    "    return H[i+1, i]/sqrt(H[i, i]^2 + H[i+1, i]^2)\n",
    "end\n",
    "\n",
    "function c(i, H)\n",
    "    return H[i, i]/sqrt(H[i, i]^2 + H[i+1, i]^2)\n",
    "end\n",
    "\n",
    "function omega(H, i, j)\n",
    "    m = size(H)[2]\n",
    "    if H[j, j] != 0\n",
    "        t = H[i, j]/H[j, j]\n",
    "        hyp = sqrt(t^2 + 1)\n",
    "        s = t/hyp\n",
    "        c = 1/hyp\n",
    "    else\n",
    "        s = 1\n",
    "        c = 0\n",
    "    end\n",
    "    G = Matrix{Float64}(la.I, m, m)\n",
    "    G[j, j] = c\n",
    "    G[j, i] = s\n",
    "    G[i, j] = -s\n",
    "    G[i, i] = c\n",
    "    return G\n",
    "end\n",
    "\n",
    "function DQGMRES(A:: Matrix{Float64}, b:: Vector{Float64}, x0:: Vector{Float64}, tol=1.0e-6)\n",
    "    n, M = size(A)\n",
    "    k = 2\n",
    "\n",
    "    V = zeros((M, M+1))\n",
    "    H = zeros((M+1, M))\n",
    "    P = zeros((M, M))\n",
    "    gamma = zeros(M)\n",
    "\n",
    "    r0 = b - A*x0\n",
    "    gamma[1] = la.norm(r0)\n",
    "    V[:, 1] = r0/gamma[1]\n",
    "\n",
    "    for m=1:MAX_ITER\n",
    "        w = A*V[:, m]\n",
    "        for i = max(1, m - k + 1):m\n",
    "            H[i, m] = la.dot(w, V[:, i])\n",
    "            w = w - H[i, m]*V[:, i] \n",
    "        end\n",
    "        H[m+1, m] = la.norm(w)\n",
    "        V[:, m+1] = w/H[m+1, m]\n",
    "        \n",
    "        Qm = Matrix{Float64}(la.I, m, m)\n",
    "        for i = m-k:m-1\n",
    "            if m-k>0\n",
    "                Qm = omega(H[1:m,1:m], i, m)*Qm\n",
    "            end\n",
    "        end\n",
    "        H[1:m, 1:m] = Qm*H[1:m, 1:m]\n",
    "\n",
    "        s_m = s(m, H)\n",
    "        c_m = c(m, H)\n",
    "\n",
    "        gamma[m + 1] = -s_m*gamma[m]\n",
    "        gamma[m] = c_m*gamma[m]\n",
    "        H[m, m] = c_m*H[m, m] + s_m*H[m+1, m]\n",
    "        i = m - k + 1\n",
    "        sum = i > 0 ? P[:, i:m-1]*H[i:m-1, m] : zeros(M)\n",
    "        \n",
    "        P[:, m] = (V[:, m] - sum)/H[m, m]\n",
    "        x = x0 + gamma[m]*P[:, m]\n",
    "        \n",
    "        if la.norm(x - x0) < tol\n",
    "            return x\n",
    "        end\n",
    "        # updating for next step\n",
    "        x0 = copy(x)\n",
    "    end\n",
    "    x\n",
    "end"
   ]
  },
  {
   "cell_type": "code",
   "execution_count": 108,
   "metadata": {},
   "outputs": [
    {
     "data": {
      "text/plain": [
       "6-element Vector{Float64}:\n",
       " 0.5659042503698762\n",
       " 1.3718480345450763\n",
       " 0.5659042503698762\n",
       " 1.4191446575475546\n",
       " 0.4704325482149116\n",
       " 1.4191446575475546"
      ]
     },
     "execution_count": 108,
     "metadata": {},
     "output_type": "execute_result"
    }
   ],
   "source": [
    "x = DQGMRES(A, b, x0)\n",
    "x"
   ]
  },
  {
   "cell_type": "code",
   "execution_count": null,
   "metadata": {},
   "outputs": [],
   "source": []
  }
 ],
 "metadata": {
  "kernelspec": {
   "display_name": "Julia 1.7.2",
   "language": "julia",
   "name": "julia-1.7"
  },
  "language_info": {
   "file_extension": ".jl",
   "mimetype": "application/julia",
   "name": "julia",
   "version": "1.7.2"
  },
  "orig_nbformat": 4
 },
 "nbformat": 4,
 "nbformat_minor": 2
}
