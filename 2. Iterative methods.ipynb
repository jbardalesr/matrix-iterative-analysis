{
 "cells": [
  {
   "cell_type": "code",
   "execution_count": null,
   "metadata": {
    "dotnet_interactive": {
     "language": "fsharp"
    },
    "vscode": {
     "languageId": "dotnet-interactive.fsharp"
    }
   },
   "outputs": [
    {
     "data": {
      "text/html": [
       "<div><div></div><div></div><div><strong>Installed Packages</strong><ul><li><span>MathNet.Numerics, 5.0.0</span></li><li><span>MathNet.Numerics.FSharp, 5.0.0</span></li></ul></div></div>"
      ]
     },
     "metadata": {},
     "output_type": "display_data"
    }
   ],
   "source": [
    "#r \"nuget: MathNet.Numerics, 5.0.0\"\n",
    "#r \"nuget: MathNet.Numerics.FSharp, 5.0.0\"\n",
    "\n",
    "open MathNet.Numerics.LinearAlgebra"
   ]
  },
  {
   "cell_type": "markdown",
   "metadata": {},
   "source": [
    "### Jacobi"
   ]
  },
  {
   "cell_type": "markdown",
   "metadata": {},
   "source": [
    "### Gauss-Seidel"
   ]
  },
  {
   "cell_type": "markdown",
   "metadata": {},
   "source": [
    "### Givens method"
   ]
  },
  {
   "cell_type": "code",
   "execution_count": null,
   "metadata": {
    "dotnet_interactive": {
     "language": "fsharp"
    },
    "vscode": {
     "languageId": "dotnet-interactive.fsharp"
    }
   },
   "outputs": [],
   "source": [
    "let givens_matrix (i: int) (j: int) (A: Matrix<float>) =\n",
    "    let m = A.RowCount\n",
    "    let mutable s = 0.0\n",
    "    let mutable c = 0.0\n",
    "\n",
    "    if A[j, j] <> 0.0 then\n",
    "        let t = A[i, j] / A[j, j]\n",
    "        let hyp = sqrt (t * t + 1.0)\n",
    "        s <- t / hyp\n",
    "        c <- 1.0 / hyp\n",
    "    else\n",
    "        s <- 1.0\n",
    "        c <- 0.0\n",
    "\n",
    "    let G = CreateMatrix.DenseIdentity<float> m\n",
    "\n",
    "    G[j, j] <- c\n",
    "    G[j, j] <- s\n",
    "    G[i, j] <- -s\n",
    "    G[i, i] <- c\n",
    "\n",
    "    G * A"
   ]
  },
  {
   "cell_type": "code",
   "execution_count": null,
   "metadata": {
    "dotnet_interactive": {
     "language": "fsharp"
    },
    "vscode": {
     "languageId": "dotnet-interactive.fsharp"
    }
   },
   "outputs": [
    {
     "name": "stdout",
     "output_type": "stream",
     "text": [
      "DenseMatrix 3x3-Double\r\n",
      "0.707107  1.41421  1.06066\r\n",
      "       3        4        2\r\n",
      "     2.1        1       -1\r\n",
      "\r\n"
     ]
    }
   ],
   "source": [
    "let A =\n",
    "    matrix [ [ 1.0; 2.0; 1.5 ]\n",
    "             [ 3.0; 4.0; 2.0 ]\n",
    "             [ 2.1; 1.0; -1.0 ] ]\n",
    "\n",
    "let givens = givens_matrix 0 0 A\n",
    "printfn \"%A\" givens"
   ]
  }
 ],
 "metadata": {
  "kernelspec": {
   "display_name": ".NET (F#)",
   "language": "F#",
   "name": ".net-fsharp"
  },
  "language_info": {
   "name": "F#"
  }
 },
 "nbformat": 4,
 "nbformat_minor": 2
}
