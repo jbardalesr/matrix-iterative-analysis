{
 "cells": [
  {
   "cell_type": "markdown",
   "metadata": {},
   "source": [
    "## Arnoldi's methods"
   ]
  },
  {
   "cell_type": "code",
   "execution_count": 1,
   "metadata": {},
   "outputs": [],
   "source": [
    "import LinearAlgebra\n",
    "const la = LinearAlgebra\n",
    "MAX_ITER = 100;"
   ]
  },
  {
   "cell_type": "code",
   "execution_count": 2,
   "metadata": {},
   "outputs": [],
   "source": [
    "A = [4. -1 0 -1 0 0;\n",
    "     -1 4 -1 0 -1 0;\n",
    "     0 -1 4. 0 0 -1;\n",
    "     -1 0 0. 4 -1 0;\n",
    "     0 -1 0 -1 4 -1;\n",
    "     0 0 -1 0. -1 4]\n",
    "\n",
    "b = [0, 5, 0, 6, -2, 6.]\n",
    "\n",
    "x0 = zeros(size(b));\n",
    "# n\n",
    "v = [1., 0, 2, 0, 1, 1];"
   ]
  },
  {
   "cell_type": "markdown",
   "metadata": {},
   "source": [
    "### Arnoldi Gram-Schmidt\n",
    "Input: $A\\in\\mathbb{R}^{n\\times n}=[a_1,...,a_n], v\\in\\mathbb{R}^{n}$ any vector"
   ]
  },
  {
   "cell_type": "code",
   "execution_count": 3,
   "metadata": {},
   "outputs": [
    {
     "data": {
      "text/plain": [
       "arnoldi (generic function with 1 method)"
      ]
     },
     "execution_count": 3,
     "metadata": {},
     "output_type": "execute_result"
    }
   ],
   "source": [
    "function arnoldi(A:: Matrix, v:: Vector, m:: Int64)\n",
    "    # Input: nxn matrix A, nx1 column vector v, and integer m\n",
    "    # Output: (m + 1)xm matrix H and nx1 a nx(m + 1) matrix V\n",
    "    n = size(A, 1)\n",
    "    V = zeros((n, m + 1))\n",
    "    H = zeros((m + 1, m))\n",
    "    V[:, 1] = v/la.norm(v)\n",
    "    for j = 1:m\n",
    "        for i = 1:j\n",
    "            H[i, j] = la.dot(A*V[:, j], V[:, i])\n",
    "        end\n",
    "        w = A*V[:, j] - V[:, 1:j]*H[1:j, j]\n",
    "        H[j+1, j] = la.norm(w)\n",
    "        if H[j+1, j] < eps()\n",
    "            break\n",
    "        end\n",
    "        V[:, j+1] = w/H[j+1, j]\n",
    "    end\n",
    "    # delete last row of H and last column of V\n",
    "    return H[1:m, :], V[:, 1:m]\n",
    "end"
   ]
  },
  {
   "cell_type": "code",
   "execution_count": 4,
   "metadata": {},
   "outputs": [
    {
     "data": {
      "text/plain": [
       "3×3 Matrix{Float64}:\n",
       " 3.14286  1.92195  -2.77556e-15\n",
       " 1.92195  4.6472    1.18932\n",
       " 0.0      1.18932   3.95556"
      ]
     },
     "metadata": {},
     "output_type": "display_data"
    },
    {
     "data": {
      "text/plain": [
       "6×3 Matrix{Float64}:\n",
       " 0.377964   0.168563    0.289595\n",
       " 0.0       -0.786629    0.191845\n",
       " 0.755929   0.140469   -0.282287\n",
       " 0.0       -0.393314    0.0959226\n",
       " 0.377964  -0.0280939   0.750937\n",
       " 0.377964  -0.421408   -0.475959"
      ]
     },
     "metadata": {},
     "output_type": "display_data"
    }
   ],
   "source": [
    "m = 3\n",
    "H, V = arnoldi(A, v, m);\n",
    "display(H)\n",
    "display(V)"
   ]
  },
  {
   "cell_type": "markdown",
   "metadata": {},
   "source": [
    "### Arnoldi-Modified Gram-Schmidt"
   ]
  },
  {
   "cell_type": "code",
   "execution_count": null,
   "metadata": {},
   "outputs": [
    {
     "data": {
      "text/plain": [
       "arnoldi_modified (generic function with 1 method)"
      ]
     },
     "execution_count": 5,
     "metadata": {},
     "output_type": "execute_result"
    }
   ],
   "source": [
    "function arnoldi_modified(A:: Matrix, v:: Vector, m:: Int64)\n",
    "    # Input: nxn matrix A, nx1 column vector v, and integer m\n",
    "    # Output: (m + 1)xm matrix H and nx1 a nx(m + 1) matrix V\n",
    "    n = size(A, 1)\n",
    "    \n",
    "    H = zeros((m + 1, m))\n",
    "    V = zeros((n, m + 1))\n",
    "    \n",
    "    V[:, 1] = v/la.norm(v)\n",
    "    for j = 1:m\n",
    "        w = A*V[:, j]\n",
    "        for i = 1:j\n",
    "            H[i, j] = la.dot(w, V[:, i])\n",
    "            w = w - H[i, j]*V[:, i] \n",
    "        end\n",
    "        H[j+1, j] = la.norm(w)\n",
    "        if H[j+1, j] < eps()\n",
    "            break\n",
    "        end\n",
    "        V[:, j+1] = w/H[j+1, j]\n",
    "    end\n",
    "    # delete last row of H and last column of V\n",
    "    return H[1:m, :], V[:, 1:m]\n",
    "end"
   ]
  },
  {
   "cell_type": "code",
   "execution_count": null,
   "metadata": {},
   "outputs": [
    {
     "data": {
      "text/plain": [
       "3×3 Matrix{Float64}:\n",
       " 3.14286  1.92195  -2.9976e-15\n",
       " 1.92195  4.6472    1.18932\n",
       " 0.0      1.18932   3.95556"
      ]
     },
     "metadata": {},
     "output_type": "display_data"
    },
    {
     "data": {
      "text/plain": [
       "6×3 Matrix{Float64}:\n",
       " 0.377964   0.168563    0.289595\n",
       " 0.0       -0.786629    0.191845\n",
       " 0.755929   0.140469   -0.282287\n",
       " 0.0       -0.393314    0.0959226\n",
       " 0.377964  -0.0280939   0.750937\n",
       " 0.377964  -0.421408   -0.475959"
      ]
     },
     "metadata": {},
     "output_type": "display_data"
    }
   ],
   "source": [
    "m = 3\n",
    "H, V = arnoldi_modified(A, v, m)\n",
    "display(H)\n",
    "display(V)"
   ]
  },
  {
   "cell_type": "markdown",
   "metadata": {},
   "source": [
    "### Householder Arnoldi"
   ]
  },
  {
   "cell_type": "code",
   "execution_count": null,
   "metadata": {},
   "outputs": [
    {
     "data": {
      "text/plain": [
       "householder_arnoldi (generic function with 1 method)"
      ]
     },
     "execution_count": 7,
     "metadata": {},
     "output_type": "execute_result"
    }
   ],
   "source": [
    "function householder_arnoldi(A:: Matrix, v:: Vector, m:: Int64)\n",
    "    # Input: nxn matrix A, nx1 column vector v, and integer m < n\n",
    "    # Output: nx(m+1) matrix H and an nxm orthonormal matrix V\n",
    "    n = size(A, 1)\n",
    "    I = 1.0 * Matrix(la.I, n, n)\n",
    "    V = zeros((n, m + 1))\n",
    "    H = zeros((n, m + 1))\n",
    "    Z = zeros((n, m + 1))\n",
    "\n",
    "    Z[:, 1] = v\n",
    "    Q = I\n",
    "    for j = 1:m + 1\n",
    "        # w calculus\n",
    "        val_sign = Z[j, j] >= 0.0 ? 1.0 : -1.0\n",
    "        beta = val_sign * la.norm(Z[j:end, j])\n",
    "        z = zeros(n)\n",
    "        z[j] = beta - Z[j, j] + eps()\n",
    "        for i = j + 1:n\n",
    "            z[i] = -Z[i, j]\n",
    "        end\n",
    "        w = z / la.norm(z)\n",
    "        # proyector\n",
    "        P = I - 2 * w * w'\n",
    "        # h_{j-1}\n",
    "        H[:, j] = P * Z[:, j]\n",
    "        # Pj*...*P2*P1\n",
    "        Q = P * Q\n",
    "        V[:, j] = Q'[:, j] # P1*P2...*Pj -> j-ésima\n",
    "        if j <= m\n",
    "            Z[:, j + 1] = Q * A * V[:, j]\n",
    "        end\n",
    "    end\n",
    "    # delete the column 0 and return a (m+1)xm matrix H\n",
    "    return H[1:m + 1, 2:m + 1], V\n",
    "end"
   ]
  },
  {
   "cell_type": "code",
   "execution_count": null,
   "metadata": {},
   "outputs": [
    {
     "name": "stdout",
     "output_type": "stream",
     "text": [
      "5×4 Matrix{Float64}:\n",
      "  3.14286      -1.92195       0.0           2.22045e-16\n",
      " -1.92195       4.6472        1.18932      -2.77556e-16\n",
      " -2.77556e-16   1.18932       3.95556      -0.812257\n",
      "  2.77556e-16  -1.07499e-16  -0.812257      3.67305\n",
      " -5.55112e-17  -6.55942e-18   3.09757e-16   0.114091"
     ]
    },
    {
     "data": {
      "text/plain": [
       "6×5 Matrix{Float64}:\n",
       " 0.377964  -0.168563   -0.289595   -0.585252    0.390312\n",
       " 0.0        0.786629   -0.191845    0.228787    0.540433\n",
       " 0.755929  -0.140469    0.282287    0.128662    0.2502\n",
       " 0.0        0.393314   -0.0959226  -0.699892   -0.310248\n",
       " 0.377964   0.0280939  -0.750937    0.313906   -0.440352\n",
       " 0.377964   0.421408    0.475959    0.0140224  -0.45036"
      ]
     },
     "metadata": {},
     "output_type": "display_data"
    }
   ],
   "source": [
    "m = 4\n",
    "H, V = householder_arnoldi(A, v, m)\n",
    "show(IOContext(stdout, :limit => false), \"text/plain\", H)\n",
    "display(V)"
   ]
  },
  {
   "cell_type": "markdown",
   "metadata": {},
   "source": [
    "Se verifica $AV_m = V_{m+1}H$"
   ]
  },
  {
   "cell_type": "code",
   "execution_count": null,
   "metadata": {},
   "outputs": [
    {
     "data": {
      "text/plain": [
       "true"
      ]
     },
     "execution_count": 25,
     "metadata": {},
     "output_type": "execute_result"
    }
   ],
   "source": [
    "isapprox(A*V[:, 1:m], V*H)"
   ]
  },
  {
   "cell_type": "markdown",
   "metadata": {},
   "source": [
    "## Arnoldi’s Method for Linear Systems (FOM)"
   ]
  },
  {
   "cell_type": "code",
   "execution_count": null,
   "metadata": {},
   "outputs": [
    {
     "data": {
      "text/plain": [
       "restarted_FOM (generic function with 2 methods)"
      ]
     },
     "execution_count": 38,
     "metadata": {},
     "output_type": "execute_result"
    }
   ],
   "source": [
    "function restarted_FOM(A:: Matrix, b:: Vector, x0:: Vector, m:: Int64, tol=1.0e-6)\n",
    "    println(\"x[0] = $x0\")\n",
    "    for i=1:MAX_ITER\n",
    "        r = b - A*x0\n",
    "        beta = la.norm(r)\n",
    "        v = r/beta\n",
    "        H, V = arnoldi(A, v, m)\n",
    "        # H = H[1:m, :]\n",
    "        # V = V[:, 1:m]\n",
    "        y = la.inv(H)[:, 1] * beta\n",
    "        x = x0 + V*y\n",
    "        println(\"x[$i] = $x\")\n",
    "        if la.norm(x - x0) < tol\n",
    "            break\n",
    "        end\n",
    "        # updating for next step\n",
    "        x0 = copy(x)\n",
    "    end\n",
    "end"
   ]
  },
  {
   "cell_type": "code",
   "execution_count": null,
   "metadata": {},
   "outputs": [
    {
     "name": "stdout",
     "output_type": "stream",
     "text": [
      "x[0] = [0.0, 0.0, 0.0, 0.0, 0.0, 0.0]\n",
      "x[1] = [1.0000000000000004, 1.9999999999999998, 1.0000000000000004, 2.0, 1.0000000000000004, 2.0]\n",
      "x[2] = [1.0, 1.9999999999999998, 1.0, 1.9999999999999998, 1.0, 2.0]\n"
     ]
    }
   ],
   "source": [
    "m = 5\n",
    "restarted_FOM(A, b, x0, m)"
   ]
  },
  {
   "cell_type": "code",
   "execution_count": 5,
   "metadata": {},
   "outputs": [
    {
     "data": {
      "text/plain": [
       "e_vector (generic function with 1 method)"
      ]
     },
     "execution_count": 5,
     "metadata": {},
     "output_type": "execute_result"
    }
   ],
   "source": [
    "function e_vector(m:: Int64, k:: Int64)\n",
    "    e = zeros(m)\n",
    "    e[k] = 1.0\n",
    "    return e\n",
    "end"
   ]
  },
  {
   "cell_type": "code",
   "execution_count": 6,
   "metadata": {},
   "outputs": [
    {
     "data": {
      "text/plain": [
       "omega (generic function with 1 method)"
      ]
     },
     "execution_count": 6,
     "metadata": {},
     "output_type": "execute_result"
    }
   ],
   "source": [
    "function omega(H:: Matrix, i:: Int64)\n",
    "    # Input: (m + 1) x m matrix H and column i\n",
    "    # Output: (m + 1) x (m + 1) matrix O\n",
    "    m = size(H, 2)\n",
    "    O = 1.0 * Matrix(la.I, m + 1, m + 1) \n",
    "    hyp = sqrt(H[i, i]^2 + H[i + 1, i]^2)\n",
    "    si = H[i + 1, i]/hyp\n",
    "    ci = H[i, i]/hyp\n",
    "    \n",
    "    O[i, i] = ci\n",
    "    O[i, i + 1] = si\n",
    "    O[i + 1, i] = -si\n",
    "    O[i + 1, i + 1] = ci\n",
    "    return O \n",
    "end"
   ]
  },
  {
   "cell_type": "code",
   "execution_count": 7,
   "metadata": {},
   "outputs": [
    {
     "data": {
      "text/plain": [
       "givens (generic function with 1 method)"
      ]
     },
     "execution_count": 7,
     "metadata": {},
     "output_type": "execute_result"
    }
   ],
   "source": [
    "function givens(H:: Matrix, beta:: Vector)\n",
    "    # Input: (m + 1) x m matrix H and (m + 1) x 1 vector beta\n",
    "    # Output: (m + 1) x m matrix R, (m + 1) x (m + 1) matrix Q and (m + 1) x 1 vector gamma \n",
    "    m = size(H, 2)\n",
    "    R = copy(H)\n",
    "    for i = 1:m\n",
    "        upper_omega = omega(R, i)\n",
    "        beta = upper_omega * beta\n",
    "        R = upper_omega * R\n",
    "    end\n",
    "    # delete last row, page 176 book 1\n",
    "    return R[1:m, :], beta[1:m]\n",
    "end"
   ]
  },
  {
   "cell_type": "code",
   "execution_count": 9,
   "metadata": {},
   "outputs": [
    {
     "data": {
      "text/plain": [
       "GMRES (generic function with 2 methods)"
      ]
     },
     "execution_count": 9,
     "metadata": {},
     "output_type": "execute_result"
    }
   ],
   "source": [
    "function GMRES(A:: Matrix, b:: Vector, x0:: Vector, m:: Int64, tol=1.0e-5)\n",
    "    # Solve Ax = b using the GMRES method\n",
    "    # Input: n x n matrix A, n x 1 vector b,\n",
    "    # initial approximation x0, integer m < n,\n",
    "    # error tolerance tol\n",
    "    println(\"x[0] = $x0\")\n",
    "    for i = 1:MAX_ITER\n",
    "        r = b - A*x0\n",
    "        V, H = arnoldi(A, r, m)\n",
    "        beta = la.norm(r)\n",
    "        # Solve the (m + 1)xm least-squares problem using Givens transformation\n",
    "        R, g = givens(H, beta*e_vector(m + 1, 1))\n",
    "        y = la.inv(R)*g\n",
    "        x = x0 + V[:, 1:m]*y\n",
    "        println(\"x[$i] = $x\")\n",
    "        if la.norm(x0 - x) < tol\n",
    "            print(\"Number of iterations: $i\")\n",
    "            return nothing\n",
    "        end\n",
    "        x0 = copy(x)\n",
    "    end\n",
    "    print(\"There isn't convergence\")\n",
    "end"
   ]
  },
  {
   "cell_type": "code",
   "execution_count": 10,
   "metadata": {},
   "outputs": [
    {
     "name": "stdout",
     "output_type": "stream",
     "text": [
      "x[0] = [0.0, 0.0, 0.0, 0.0, 0.0, 0.0]\n",
      "x[1] = [0.9999999999999999, 2.0, 0.9999999999999999, 2.0, 0.9999999999999999, 2.0]\n",
      "x[2] = [1.0, 2.0, 1.0, 2.0, 1.0, 2.0]\n",
      "Number of iterations: 2"
     ]
    }
   ],
   "source": [
    "m = 4\n",
    "GMRES(A, b, x0, m)"
   ]
  },
  {
   "cell_type": "markdown",
   "metadata": {},
   "source": [
    "### References\n",
    "[1] Saad, Yousef. *Iterative methods for sparse linear systems*. Society for Industrial and Applied Mathematics, 2003.\n",
    "\n",
    "[2] William Ford. *Numerical Linear Algebra with Applications Using MATLAB*, chapter 21."
   ]
  }
 ],
 "metadata": {
  "kernelspec": {
   "display_name": "Julia 1.7.2",
   "language": "julia",
   "name": "julia-1.7"
  },
  "language_info": {
   "file_extension": ".jl",
   "mimetype": "application/julia",
   "name": "julia",
   "version": "1.7.2"
  },
  "orig_nbformat": 4
 },
 "nbformat": 4,
 "nbformat_minor": 2
}
